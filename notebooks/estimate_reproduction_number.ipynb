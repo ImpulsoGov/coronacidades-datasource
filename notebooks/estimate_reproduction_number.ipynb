{
 "cells": [
  {
   "attachments": {},
   "cell_type": "markdown",
   "metadata": {
    "collapsed": true
   },
   "source": [
    "# Estimação do Rt nos estados e municípios\n",
    "---\n",
    "\n",
    "- Adaptação das implementações de [Loft-BR](https://github.com/loft-br/realtime_r0_brazil/blob/master/realtime_r0_bettencourt_ribeiro.ipynb) & [COVID Act Now](https://github.com/covid-projections/covid-data-model/blob/089e4e81db32befd6e86e4e105454629fd834ad2/pyseir/inference/infer_rt.py) com base no modelo de [Kevin Systrom](http://systrom.com/blog/the-metric-we-need-to-manage-covid-19/) e paper de [Bettencourt & Ribeiro's](https://doi.org/10.1371/journal.pone.0002185)\n",
    "\n",
    "  \n",
    "## Cálculo do Rt\n",
    "\n",
    "Estimação do número de reprodução instantâneo ($Rt$) pelo número de novos casos por dia:\n",
    "\n",
    "\n",
    "- Modelo bayeasiano no qual o número de novos casos segue uma distribuição de Poisson, e a relação entre os novos casos e $Rt$ é dada pela equação encontrada em Bettencourt & Ribeiro:\n",
    "\n",
    "$$k \\sim Pois(\\lambda), \\lambda = k_{t-1}e^{\\gamma(R_t-1)}$$\n",
    "\n",
    "- A cada nova observação, atualizamos nossa crença em relação ao valor de $Rt$ pela regra de Bayes:\n",
    "\n",
    "$$P(k_t) = \\sum_{R_t} P(k_t | R_t) P(R_t) \\rightarrow P(R_t | k_t) = \\frac{P(k_t | R_t) P(R_t)}{P(k_t)}$$ \n",
    "\n",
    "\n",
    "### Considerações\n",
    "\n",
    "- A relação dada por $\\lambda = k_{t-1}e^{\\gamma(R_t-1)}$ é obtida a partir de $R_0 = \\frac{\\beta}{\\gamma}$, tomando $\\beta$ e $\\gamma$ fixos, o que não contempla a variabilidade de transmissão devido à intervenções sociais. O [*CovidAct Now* sinaliza, por exemplo, o $R_0$ como o número pré-intervenção e o $R_{eff}$ (efetivo) como pós](https://blog.covidactnow.org/inference-projections-for-states/)."
   ]
  },
  {
   "cell_type": "markdown",
   "metadata": {
    "toc": true
   },
   "source": [
    "<h1>Table of Contents<span class=\"tocSkip\"></span></h1>\n",
    "<div class=\"toc\"><ul class=\"toc-item\"><li><span><a href=\"#Cálculo-do-Rt\" data-toc-modified-id=\"Cálculo-do-Rt-1\"><span class=\"toc-item-num\">1&nbsp;&nbsp;</span>Cálculo do Rt</a></span><ul class=\"toc-item\"><li><span><a href=\"#Considerações\" data-toc-modified-id=\"Considerações-1.1\"><span class=\"toc-item-num\">1.1&nbsp;&nbsp;</span>Considerações</a></span></li></ul></li><li><span><a href=\"#Import-packages\" data-toc-modified-id=\"Import-packages-2\"><span class=\"toc-item-num\">2&nbsp;&nbsp;</span>Import packages</a></span></li><li><span><a href=\"#Import-data\" data-toc-modified-id=\"Import-data-3\"><span class=\"toc-item-num\">3&nbsp;&nbsp;</span>Import data</a></span><ul class=\"toc-item\"><li><span><a href=\"#Filter-city-and-state-new-cases\" data-toc-modified-id=\"Filter-city-and-state-new-cases-3.1\"><span class=\"toc-item-num\">3.1&nbsp;&nbsp;</span>Filter city and state new cases</a></span></li></ul></li><li><span><a href=\"#Run-model\" data-toc-modified-id=\"Run-model-4\"><span class=\"toc-item-num\">4&nbsp;&nbsp;</span>Run model</a></span><ul class=\"toc-item\"><li><span><a href=\"#Import-model\" data-toc-modified-id=\"Import-model-4.1\"><span class=\"toc-item-num\">4.1&nbsp;&nbsp;</span>Import model</a></span></li><li><span><a href=\"#Run-state-model\" data-toc-modified-id=\"Run-state-model-4.2\"><span class=\"toc-item-num\">4.2&nbsp;&nbsp;</span>Run state model</a></span></li><li><span><a href=\"#Run-cities-model\" data-toc-modified-id=\"Run-cities-model-4.3\"><span class=\"toc-item-num\">4.3&nbsp;&nbsp;</span>Run cities model</a></span></li><li><span><a href=\"#For-one-state\" data-toc-modified-id=\"For-one-state-4.4\"><span class=\"toc-item-num\">4.4&nbsp;&nbsp;</span>For one state</a></span></li><li><span><a href=\"#All-cities\" data-toc-modified-id=\"All-cities-4.5\"><span class=\"toc-item-num\">4.5&nbsp;&nbsp;</span>All cities</a></span></li></ul></li><li><span><a href=\"#Plotting-results\" data-toc-modified-id=\"Plotting-results-5\"><span class=\"toc-item-num\">5&nbsp;&nbsp;</span>Plotting results</a></span><ul class=\"toc-item\"><li><span><a href=\"#State\" data-toc-modified-id=\"State-5.1\"><span class=\"toc-item-num\">5.1&nbsp;&nbsp;</span>State</a></span></li><li><span><a href=\"#City\" data-toc-modified-id=\"City-5.2\"><span class=\"toc-item-num\">5.2&nbsp;&nbsp;</span>City</a></span></li></ul></li><li><span><a href=\"#Compare-w/-cases\" data-toc-modified-id=\"Compare-w/-cases-6\"><span class=\"toc-item-num\">6&nbsp;&nbsp;</span>Compare w/ cases</a></span></li><li><span><a href=\"#TODO:-Avg-estimation-w/-new-deaths-(From-ActNow)\" data-toc-modified-id=\"TODO:-Avg-estimation-w/-new-deaths-(From-ActNow)-7\"><span class=\"toc-item-num\">7&nbsp;&nbsp;</span>TODO: Avg estimation w/ new deaths (From ActNow)</a></span></li><li><span><a href=\"#Draft\" data-toc-modified-id=\"Draft-8\"><span class=\"toc-item-num\">8&nbsp;&nbsp;</span>Draft</a></span></li></ul></div>"
   ]
  },
  {
   "cell_type": "markdown",
   "metadata": {
    "heading_collapsed": true
   },
   "source": [
    "## Import packages"
   ]
  },
  {
   "cell_type": "code",
   "execution_count": 2,
   "metadata": {
    "hidden": true
   },
   "outputs": [],
   "source": [
    "%reload_ext autoreload\n",
    "%autoreload 2\n",
    "\n",
    "import sys\n",
    "sys.path.append('../')\n",
    "\n",
    "from copy import deepcopy\n",
    "import numpy as np\n",
    "import pandas as pd\n",
    "pd.options.display.max_columns = 999\n",
    "\n",
    "import warnings\n",
    "warnings.filterwarnings('ignore')\n",
    "\n",
    "# # Plotting\n",
    "# import plotly\n",
    "# import plotly.graph_objs as go\n",
    "# plotly.offline.init_notebook_mode(connected=True)\n",
    "\n",
    "# # Setting cufflinks\n",
    "# import textwrap\n",
    "# import cufflinks as cf\n",
    "# cf.go_offline()\n",
    "# cf.set_config_file(offline=False, world_readable=True)\n",
    "\n",
    "# # Centering and fixing title\n",
    "# def iplottitle(title, width=40):\n",
    "#     return '<br>'.join(textwrap.wrap(title, width))\n",
    "\n",
    "# # Adding custom colorscales (to add one: themes/custom_colorscales.yaml)\n",
    "# import yaml\n",
    "# custom_colorscales = yaml.load(open('themes/custom_colorscales.yaml', 'r'))\n",
    "# cf.colors._custom_scales['qual'].update(custom_colorscales)\n",
    "# cf.colors.reset_scales()\n",
    "\n",
    "# # Setting cuffilinks template (use it with .iplot(theme='custom')\n",
    "# cf.themes.THEMES['custom'] = yaml.load(open('themes/cufflinks_template.yaml', 'r'))"
   ]
  },
  {
   "cell_type": "code",
   "execution_count": 3,
   "metadata": {
    "hidden": true
   },
   "outputs": [],
   "source": [
    "# import requests\n",
    "# from matplotlib import pyplot as plt\n",
    "\n",
    "# importando joblib para rodar em paralelo\n",
    "from joblib import Parallel, delayed\n",
    "\n",
    "# número de cores para paralelizar modelo nos estados\n",
    "N_JOBS = -1"
   ]
  },
  {
   "cell_type": "code",
   "execution_count": 4,
   "metadata": {
    "hidden": true
   },
   "outputs": [],
   "source": [
    "from src.loader.utils import get_config\n",
    "\n",
    "config = get_config(\"https://raw.githubusercontent.com/ImpulsoGov/simulacovid/master/src/configs/config.yaml\")"
   ]
  },
  {
   "cell_type": "markdown",
   "metadata": {
    "heading_collapsed": true
   },
   "source": [
    "## Import data"
   ]
  },
  {
   "cell_type": "code",
   "execution_count": 5,
   "metadata": {
    "hidden": true
   },
   "outputs": [],
   "source": [
    "from src.loader import get_cases\n",
    "\n",
    "df = get_cases.now('br',\n",
    "                   config,\n",
    "                   last=False)"
   ]
  },
  {
   "cell_type": "code",
   "execution_count": 6,
   "metadata": {
    "hidden": true,
    "scrolled": true
   },
   "outputs": [
    {
     "data": {
      "text/html": [
       "<div>\n",
       "<style scoped>\n",
       "    .dataframe tbody tr th:only-of-type {\n",
       "        vertical-align: middle;\n",
       "    }\n",
       "\n",
       "    .dataframe tbody tr th {\n",
       "        vertical-align: top;\n",
       "    }\n",
       "\n",
       "    .dataframe thead th {\n",
       "        text-align: right;\n",
       "    }\n",
       "</style>\n",
       "<table border=\"1\" class=\"dataframe\">\n",
       "  <thead>\n",
       "    <tr style=\"text-align: right;\">\n",
       "      <th></th>\n",
       "      <th>city</th>\n",
       "      <th>city_id</th>\n",
       "      <th>last_updated</th>\n",
       "      <th>epidemiological_week</th>\n",
       "      <th>estimated_population_2019</th>\n",
       "      <th>is_last</th>\n",
       "      <th>is_repeated</th>\n",
       "      <th>confirmed_cases</th>\n",
       "      <th>last_available_confirmed_per_100k_inhabitants</th>\n",
       "      <th>last_available_date</th>\n",
       "      <th>last_available_death_rate</th>\n",
       "      <th>deaths</th>\n",
       "      <th>order_for_place</th>\n",
       "      <th>place_type</th>\n",
       "      <th>state</th>\n",
       "      <th>daily_cases</th>\n",
       "      <th>new_deaths</th>\n",
       "      <th>infectious_period_cases</th>\n",
       "      <th>state_notification_rate</th>\n",
       "      <th>notification_rate</th>\n",
       "      <th>active_cases</th>\n",
       "    </tr>\n",
       "  </thead>\n",
       "  <tbody>\n",
       "    <tr>\n",
       "      <th>0</th>\n",
       "      <td>São Paulo</td>\n",
       "      <td>3550308</td>\n",
       "      <td>2020-02-25</td>\n",
       "      <td>9</td>\n",
       "      <td>12252023.0</td>\n",
       "      <td>False</td>\n",
       "      <td>False</td>\n",
       "      <td>1</td>\n",
       "      <td>0.00816</td>\n",
       "      <td>2020-02-25</td>\n",
       "      <td>0.0</td>\n",
       "      <td>0</td>\n",
       "      <td>1</td>\n",
       "      <td>city</td>\n",
       "      <td>SP</td>\n",
       "      <td>1.0</td>\n",
       "      <td>0</td>\n",
       "      <td>1.0</td>\n",
       "      <td>NaN</td>\n",
       "      <td>NaN</td>\n",
       "      <td>1.0</td>\n",
       "    </tr>\n",
       "    <tr>\n",
       "      <th>1</th>\n",
       "      <td>São Paulo</td>\n",
       "      <td>3550308</td>\n",
       "      <td>2020-02-26</td>\n",
       "      <td>9</td>\n",
       "      <td>12252023.0</td>\n",
       "      <td>False</td>\n",
       "      <td>False</td>\n",
       "      <td>1</td>\n",
       "      <td>0.00816</td>\n",
       "      <td>2020-02-26</td>\n",
       "      <td>0.0</td>\n",
       "      <td>0</td>\n",
       "      <td>2</td>\n",
       "      <td>city</td>\n",
       "      <td>SP</td>\n",
       "      <td>0.0</td>\n",
       "      <td>0</td>\n",
       "      <td>1.0</td>\n",
       "      <td>NaN</td>\n",
       "      <td>NaN</td>\n",
       "      <td>1.0</td>\n",
       "    </tr>\n",
       "    <tr>\n",
       "      <th>2</th>\n",
       "      <td>São Paulo</td>\n",
       "      <td>3550308</td>\n",
       "      <td>2020-02-27</td>\n",
       "      <td>9</td>\n",
       "      <td>12252023.0</td>\n",
       "      <td>False</td>\n",
       "      <td>False</td>\n",
       "      <td>1</td>\n",
       "      <td>0.00816</td>\n",
       "      <td>2020-02-27</td>\n",
       "      <td>0.0</td>\n",
       "      <td>0</td>\n",
       "      <td>3</td>\n",
       "      <td>city</td>\n",
       "      <td>SP</td>\n",
       "      <td>0.0</td>\n",
       "      <td>0</td>\n",
       "      <td>1.0</td>\n",
       "      <td>NaN</td>\n",
       "      <td>NaN</td>\n",
       "      <td>1.0</td>\n",
       "    </tr>\n",
       "    <tr>\n",
       "      <th>3</th>\n",
       "      <td>São Paulo</td>\n",
       "      <td>3550308</td>\n",
       "      <td>2020-02-28</td>\n",
       "      <td>9</td>\n",
       "      <td>12252023.0</td>\n",
       "      <td>False</td>\n",
       "      <td>False</td>\n",
       "      <td>2</td>\n",
       "      <td>0.01632</td>\n",
       "      <td>2020-02-28</td>\n",
       "      <td>0.0</td>\n",
       "      <td>0</td>\n",
       "      <td>4</td>\n",
       "      <td>city</td>\n",
       "      <td>SP</td>\n",
       "      <td>1.0</td>\n",
       "      <td>0</td>\n",
       "      <td>2.0</td>\n",
       "      <td>NaN</td>\n",
       "      <td>NaN</td>\n",
       "      <td>2.0</td>\n",
       "    </tr>\n",
       "    <tr>\n",
       "      <th>4</th>\n",
       "      <td>São Paulo</td>\n",
       "      <td>3550308</td>\n",
       "      <td>2020-02-29</td>\n",
       "      <td>9</td>\n",
       "      <td>12252023.0</td>\n",
       "      <td>False</td>\n",
       "      <td>False</td>\n",
       "      <td>2</td>\n",
       "      <td>0.01632</td>\n",
       "      <td>2020-02-29</td>\n",
       "      <td>0.0</td>\n",
       "      <td>0</td>\n",
       "      <td>5</td>\n",
       "      <td>city</td>\n",
       "      <td>SP</td>\n",
       "      <td>0.0</td>\n",
       "      <td>0</td>\n",
       "      <td>2.0</td>\n",
       "      <td>NaN</td>\n",
       "      <td>NaN</td>\n",
       "      <td>2.0</td>\n",
       "    </tr>\n",
       "  </tbody>\n",
       "</table>\n",
       "</div>"
      ],
      "text/plain": [
       "        city  city_id last_updated  epidemiological_week  \\\n",
       "0  São Paulo  3550308   2020-02-25                     9   \n",
       "1  São Paulo  3550308   2020-02-26                     9   \n",
       "2  São Paulo  3550308   2020-02-27                     9   \n",
       "3  São Paulo  3550308   2020-02-28                     9   \n",
       "4  São Paulo  3550308   2020-02-29                     9   \n",
       "\n",
       "   estimated_population_2019  is_last  is_repeated  confirmed_cases  \\\n",
       "0                 12252023.0    False        False                1   \n",
       "1                 12252023.0    False        False                1   \n",
       "2                 12252023.0    False        False                1   \n",
       "3                 12252023.0    False        False                2   \n",
       "4                 12252023.0    False        False                2   \n",
       "\n",
       "   last_available_confirmed_per_100k_inhabitants last_available_date  \\\n",
       "0                                        0.00816          2020-02-25   \n",
       "1                                        0.00816          2020-02-26   \n",
       "2                                        0.00816          2020-02-27   \n",
       "3                                        0.01632          2020-02-28   \n",
       "4                                        0.01632          2020-02-29   \n",
       "\n",
       "   last_available_death_rate  deaths  order_for_place place_type state  \\\n",
       "0                        0.0       0                1       city    SP   \n",
       "1                        0.0       0                2       city    SP   \n",
       "2                        0.0       0                3       city    SP   \n",
       "3                        0.0       0                4       city    SP   \n",
       "4                        0.0       0                5       city    SP   \n",
       "\n",
       "   daily_cases  new_deaths  infectious_period_cases  state_notification_rate  \\\n",
       "0          1.0           0                      1.0                      NaN   \n",
       "1          0.0           0                      1.0                      NaN   \n",
       "2          0.0           0                      1.0                      NaN   \n",
       "3          1.0           0                      2.0                      NaN   \n",
       "4          0.0           0                      2.0                      NaN   \n",
       "\n",
       "   notification_rate  active_cases  \n",
       "0                NaN           1.0  \n",
       "1                NaN           1.0  \n",
       "2                NaN           1.0  \n",
       "3                NaN           2.0  \n",
       "4                NaN           2.0  "
      ]
     },
     "execution_count": 6,
     "metadata": {},
     "output_type": "execute_result"
    }
   ],
   "source": [
    "df.head()"
   ]
  },
  {
   "cell_type": "code",
   "execution_count": 7,
   "metadata": {
    "hidden": true
   },
   "outputs": [
    {
     "data": {
      "text/html": [
       "<div>\n",
       "<style scoped>\n",
       "    .dataframe tbody tr th:only-of-type {\n",
       "        vertical-align: middle;\n",
       "    }\n",
       "\n",
       "    .dataframe tbody tr th {\n",
       "        vertical-align: top;\n",
       "    }\n",
       "\n",
       "    .dataframe thead th {\n",
       "        text-align: right;\n",
       "    }\n",
       "</style>\n",
       "<table border=\"1\" class=\"dataframe\">\n",
       "  <thead>\n",
       "    <tr style=\"text-align: right;\">\n",
       "      <th></th>\n",
       "      <th>city</th>\n",
       "      <th>city_id</th>\n",
       "      <th>last_updated</th>\n",
       "      <th>epidemiological_week</th>\n",
       "      <th>estimated_population_2019</th>\n",
       "      <th>is_last</th>\n",
       "      <th>is_repeated</th>\n",
       "      <th>confirmed_cases</th>\n",
       "      <th>last_available_confirmed_per_100k_inhabitants</th>\n",
       "      <th>last_available_date</th>\n",
       "      <th>last_available_death_rate</th>\n",
       "      <th>deaths</th>\n",
       "      <th>order_for_place</th>\n",
       "      <th>place_type</th>\n",
       "      <th>state</th>\n",
       "      <th>daily_cases</th>\n",
       "      <th>new_deaths</th>\n",
       "      <th>infectious_period_cases</th>\n",
       "      <th>state_notification_rate</th>\n",
       "      <th>notification_rate</th>\n",
       "      <th>active_cases</th>\n",
       "    </tr>\n",
       "  </thead>\n",
       "  <tbody>\n",
       "  </tbody>\n",
       "</table>\n",
       "</div>"
      ],
      "text/plain": [
       "Empty DataFrame\n",
       "Columns: [city, city_id, last_updated, epidemiological_week, estimated_population_2019, is_last, is_repeated, confirmed_cases, last_available_confirmed_per_100k_inhabitants, last_available_date, last_available_death_rate, deaths, order_for_place, place_type, state, daily_cases, new_deaths, infectious_period_cases, state_notification_rate, notification_rate, active_cases]\n",
       "Index: []"
      ]
     },
     "execution_count": 7,
     "metadata": {},
     "output_type": "execute_result"
    }
   ],
   "source": [
    "# check for cities without notification rates in last date\n",
    "df[(df['is_last'] == True) & (df['notification_rate'].isnull())]"
   ]
  },
  {
   "cell_type": "markdown",
   "metadata": {
    "heading_collapsed": true,
    "hidden": true
   },
   "source": [
    "### Filter city and state new cases"
   ]
  },
  {
   "cell_type": "code",
   "execution_count": 8,
   "metadata": {
    "hidden": true
   },
   "outputs": [],
   "source": [
    "def get_cases_series(df, place_type):\n",
    "    \n",
    "    return df[~df['state_notification_rate'].isnull()][[place_type, \n",
    "                                   'last_updated', \n",
    "                                   'active_cases']]\\\n",
    "            .groupby([place_type, \n",
    "                      'last_updated'])['active_cases']\\\n",
    "            .sum()\\\n",
    "            .round(0)"
   ]
  },
  {
   "cell_type": "code",
   "execution_count": 9,
   "metadata": {
    "hidden": true
   },
   "outputs": [
    {
     "data": {
      "text/plain": [
       "city_id  last_updated\n",
       "1100015  2020-05-02         1.0\n",
       "         2020-05-03         1.0\n",
       "         2020-05-04         2.0\n",
       "         2020-05-05         2.0\n",
       "         2020-05-06         2.0\n",
       "                          ...  \n",
       "5300108  2020-05-06      1015.0\n",
       "         2020-05-07      1172.0\n",
       "         2020-05-08      1273.0\n",
       "         2020-05-09      1394.0\n",
       "         2020-05-10      1413.0\n",
       "Name: active_cases, Length: 61768, dtype: float64"
      ]
     },
     "execution_count": 9,
     "metadata": {},
     "output_type": "execute_result"
    }
   ],
   "source": [
    "city_cases = get_cases_series(df, 'city_id')\n",
    "city_cases"
   ]
  },
  {
   "cell_type": "code",
   "execution_count": 10,
   "metadata": {
    "hidden": true
   },
   "outputs": [
    {
     "data": {
      "text/plain": [
       "state  last_updated\n",
       "AC     2020-04-12       72.0\n",
       "       2020-04-13       92.0\n",
       "       2020-04-14      104.0\n",
       "       2020-04-15      105.0\n",
       "       2020-04-16      129.0\n",
       "                       ...  \n",
       "TO     2020-05-06      470.0\n",
       "       2020-05-07      566.0\n",
       "       2020-05-08      736.0\n",
       "       2020-05-09      990.0\n",
       "       2020-05-10      987.0\n",
       "Name: active_cases, Length: 981, dtype: float64"
      ]
     },
     "execution_count": 10,
     "metadata": {},
     "output_type": "execute_result"
    }
   ],
   "source": [
    "state_cases = get_cases_series(df, 'state')\n",
    "state_cases"
   ]
  },
  {
   "cell_type": "markdown",
   "metadata": {},
   "source": [
    "## Run model"
   ]
  },
  {
   "cell_type": "markdown",
   "metadata": {},
   "source": [
    "### Import model"
   ]
  },
  {
   "cell_type": "markdown",
   "metadata": {},
   "source": [
    "* Add parameters choice w/ [CovidActNow](https://github.com/covid-projections/covid-data-model/blob/089e4e81db32befd6e86e4e105454629fd834ad2/pyseir/inference/infer_rt.py) implementation and [Loft-BR](https://github.com/loft-br/realtime_r0_brazil/blob/master/core.py)"
   ]
  },
  {
   "cell_type": "code",
   "execution_count": 332,
   "metadata": {},
   "outputs": [],
   "source": [
    "from model import run_full_model, plot_rt, plot_standings"
   ]
  },
  {
   "cell_type": "markdown",
   "metadata": {},
   "source": [
    "### Run state model"
   ]
  },
  {
   "cell_type": "code",
   "execution_count": 391,
   "metadata": {
    "scrolled": true
   },
   "outputs": [],
   "source": [
    "with Parallel(n_jobs=1) as parallel:\n",
    "    results = parallel(delayed(run_full_model)(grp[1], source='LOFT') \n",
    "                       for grp in state_cases.groupby(level='state'))\n",
    "\n",
    "state_results = pd.concat(results)"
   ]
  },
  {
   "cell_type": "code",
   "execution_count": 392,
   "metadata": {
    "scrolled": true
   },
   "outputs": [
    {
     "data": {
      "text/plain": [
       "array(['AC', 'AL', 'AM', 'AP', 'BA', 'CE', 'DF', 'ES', 'GO', 'MA', 'MG',\n",
       "       'MS', 'MT', 'PA', 'PB', 'PE', 'PI', 'PR', 'RJ', 'RN', 'RO', 'RR',\n",
       "       'RS', 'SC', 'SE', 'SP', 'TO'], dtype=object)"
      ]
     },
     "execution_count": 392,
     "metadata": {},
     "output_type": "execute_result"
    }
   ],
   "source": [
    "# Check all states\n",
    "state_results.reset_index().state.unique()"
   ]
  },
  {
   "cell_type": "markdown",
   "metadata": {},
   "source": [
    "* Saving results with cases data"
   ]
  },
  {
   "cell_type": "code",
   "execution_count": 393,
   "metadata": {},
   "outputs": [
    {
     "data": {
      "text/html": [
       "<div>\n",
       "<style scoped>\n",
       "    .dataframe tbody tr th:only-of-type {\n",
       "        vertical-align: middle;\n",
       "    }\n",
       "\n",
       "    .dataframe tbody tr th {\n",
       "        vertical-align: top;\n",
       "    }\n",
       "\n",
       "    .dataframe thead th {\n",
       "        text-align: right;\n",
       "    }\n",
       "</style>\n",
       "<table border=\"1\" class=\"dataframe\">\n",
       "  <thead>\n",
       "    <tr style=\"text-align: right;\">\n",
       "      <th></th>\n",
       "      <th>state</th>\n",
       "      <th>last_updated</th>\n",
       "      <th>Rt_most_likely</th>\n",
       "      <th>Rt_low_95</th>\n",
       "      <th>Rt_high_95</th>\n",
       "      <th>daily_cases</th>\n",
       "      <th>confirmed_cases</th>\n",
       "      <th>active_cases</th>\n",
       "      <th>state_notification_rate</th>\n",
       "    </tr>\n",
       "  </thead>\n",
       "  <tbody>\n",
       "    <tr>\n",
       "      <th>0</th>\n",
       "      <td>AC</td>\n",
       "      <td>2020-04-12</td>\n",
       "      <td>3.00</td>\n",
       "      <td>0.67</td>\n",
       "      <td>7.84</td>\n",
       "      <td>5.0</td>\n",
       "      <td>77</td>\n",
       "      <td>72.0</td>\n",
       "      <td>0.698571</td>\n",
       "    </tr>\n",
       "    <tr>\n",
       "      <th>1</th>\n",
       "      <td>AC</td>\n",
       "      <td>2020-04-13</td>\n",
       "      <td>1.90</td>\n",
       "      <td>0.75</td>\n",
       "      <td>3.15</td>\n",
       "      <td>13.0</td>\n",
       "      <td>90</td>\n",
       "      <td>92.0</td>\n",
       "      <td>0.641429</td>\n",
       "    </tr>\n",
       "    <tr>\n",
       "      <th>2</th>\n",
       "      <td>AC</td>\n",
       "      <td>2020-04-14</td>\n",
       "      <td>1.89</td>\n",
       "      <td>0.93</td>\n",
       "      <td>2.83</td>\n",
       "      <td>9.0</td>\n",
       "      <td>99</td>\n",
       "      <td>104.0</td>\n",
       "      <td>0.664286</td>\n",
       "    </tr>\n",
       "    <tr>\n",
       "      <th>3</th>\n",
       "      <td>AC</td>\n",
       "      <td>2020-04-15</td>\n",
       "      <td>1.90</td>\n",
       "      <td>1.07</td>\n",
       "      <td>2.67</td>\n",
       "      <td>2.0</td>\n",
       "      <td>101</td>\n",
       "      <td>105.0</td>\n",
       "      <td>0.653571</td>\n",
       "    </tr>\n",
       "    <tr>\n",
       "      <th>4</th>\n",
       "      <td>AC</td>\n",
       "      <td>2020-04-16</td>\n",
       "      <td>2.02</td>\n",
       "      <td>1.32</td>\n",
       "      <td>2.70</td>\n",
       "      <td>14.0</td>\n",
       "      <td>115</td>\n",
       "      <td>129.0</td>\n",
       "      <td>0.630714</td>\n",
       "    </tr>\n",
       "  </tbody>\n",
       "</table>\n",
       "</div>"
      ],
      "text/plain": [
       "  state last_updated  Rt_most_likely  Rt_low_95  Rt_high_95  daily_cases  \\\n",
       "0    AC   2020-04-12            3.00       0.67        7.84          5.0   \n",
       "1    AC   2020-04-13            1.90       0.75        3.15         13.0   \n",
       "2    AC   2020-04-14            1.89       0.93        2.83          9.0   \n",
       "3    AC   2020-04-15            1.90       1.07        2.67          2.0   \n",
       "4    AC   2020-04-16            2.02       1.32        2.70         14.0   \n",
       "\n",
       "   confirmed_cases  active_cases  state_notification_rate  \n",
       "0               77          72.0                 0.698571  \n",
       "1               90          92.0                 0.641429  \n",
       "2               99         104.0                 0.664286  \n",
       "3              101         105.0                 0.653571  \n",
       "4              115         129.0                 0.630714  "
      ]
     },
     "execution_count": 393,
     "metadata": {},
     "output_type": "execute_result"
    }
   ],
   "source": [
    "cases_cols = [\n",
    "    'daily_cases',  \n",
    "    'confirmed_cases',\n",
    "    'active_cases'\n",
    "]\n",
    "\n",
    "df_state_cases = df[~df['state_notification_rate'].isnull()]\\\n",
    "                    .groupby(['state', 'last_updated'])[cases_cols]\\\n",
    "                    .sum()\\\n",
    "                    .round(0)\\\n",
    "                    .join(df.groupby(['state', 'last_updated'])['state_notification_rate'].max())\n",
    "\n",
    "state_results = state_results.join(df_state_cases).reset_index()\n",
    "state_results.head()"
   ]
  },
  {
   "cell_type": "code",
   "execution_count": 590,
   "metadata": {},
   "outputs": [],
   "source": [
    "state_results.to_csv('br_states_estimated_rt.csv')"
   ]
  },
  {
   "cell_type": "markdown",
   "metadata": {},
   "source": [
    "### Run cities model"
   ]
  },
  {
   "cell_type": "markdown",
   "metadata": {},
   "source": [
    "*  Cities with more than 14 days"
   ]
  },
  {
   "cell_type": "code",
   "execution_count": 492,
   "metadata": {},
   "outputs": [
    {
     "data": {
      "text/plain": [
       "city_id  last_updated\n",
       "2800308  2020-04-08      108.0\n",
       "         2020-04-09      111.0\n",
       "         2020-04-10      124.0\n",
       "         2020-04-11      137.0\n",
       "         2020-04-12      138.0\n",
       "                         ...  \n",
       "2807501  2020-05-06        1.0\n",
       "         2020-05-07        1.0\n",
       "         2020-05-08        1.0\n",
       "         2020-05-09        1.0\n",
       "         2020-05-10        1.0\n",
       "Name: active_cases, Length: 487, dtype: float64"
      ]
     },
     "execution_count": 492,
     "metadata": {},
     "output_type": "execute_result"
    }
   ],
   "source": [
    "# Cities in state selected\n",
    "city_sample = city_cases[city_cases.index.isin(df[df['state'] == state]['city_id'].unique(), level=0)]\n",
    "\n",
    "# more than 14 days\n",
    "v = city_sample.reset_index()['city_id'].value_counts()\n",
    "city_sample = city_sample[city_sample.index.isin(v[v > 14].index, level=0)]\n",
    "\n",
    "city_sample"
   ]
  },
  {
   "cell_type": "code",
   "execution_count": 495,
   "metadata": {},
   "outputs": [
    {
     "data": {
      "text/plain": [
       "19"
      ]
     },
     "execution_count": 495,
     "metadata": {},
     "output_type": "execute_result"
    }
   ],
   "source": [
    "len(city_sample.reset_index()['city_id'].unique())"
   ]
  },
  {
   "cell_type": "markdown",
   "metadata": {},
   "source": [
    "### For one state"
   ]
  },
  {
   "cell_type": "code",
   "execution_count": 502,
   "metadata": {},
   "outputs": [],
   "source": [
    "# Each city in chunks\n",
    "error_cities = dict()\n",
    "city_results = list()\n",
    "\n",
    "for city in city_sample.reset_index()['city_id'].unique():\n",
    "    \n",
    "    chunk = city_sample[city_sample.index.isin([city], level=0)]\n",
    "    \n",
    "    try:\n",
    "        with Parallel(n_jobs=1) as parallel:\n",
    "            city_results.append(parallel(delayed(run_full_model)(grp[1], source='LOFT') \n",
    "                       for grp in chunk.groupby(level='city_id')))\n",
    "    except Exception as e: \n",
    "        error_cities[city] = e"
   ]
  },
  {
   "cell_type": "code",
   "execution_count": 503,
   "metadata": {
    "scrolled": true
   },
   "outputs": [
    {
     "data": {
      "text/plain": [
       "{2804904: IndexError('index 0 is out of bounds for axis 0 with size 0')}"
      ]
     },
     "execution_count": 503,
     "metadata": {},
     "output_type": "execute_result"
    }
   ],
   "source": [
    "error_cities"
   ]
  },
  {
   "cell_type": "code",
   "execution_count": 563,
   "metadata": {},
   "outputs": [],
   "source": [
    "# city_results = [city_results[0] for k in city_results]\n",
    "# city_results = [i[0] for i in city_results]\n",
    "# city_results = pd.concat(city_results)"
   ]
  },
  {
   "cell_type": "code",
   "execution_count": 547,
   "metadata": {},
   "outputs": [
    {
     "data": {
      "text/html": [
       "<div>\n",
       "<style scoped>\n",
       "    .dataframe tbody tr th:only-of-type {\n",
       "        vertical-align: middle;\n",
       "    }\n",
       "\n",
       "    .dataframe tbody tr th {\n",
       "        vertical-align: top;\n",
       "    }\n",
       "\n",
       "    .dataframe thead th {\n",
       "        text-align: right;\n",
       "    }\n",
       "</style>\n",
       "<table border=\"1\" class=\"dataframe\">\n",
       "  <thead>\n",
       "    <tr style=\"text-align: right;\">\n",
       "      <th></th>\n",
       "      <th>city_id</th>\n",
       "      <th>last_updated</th>\n",
       "      <th>Rt_most_likely</th>\n",
       "      <th>Rt_low_95</th>\n",
       "      <th>Rt_high_95</th>\n",
       "      <th>city</th>\n",
       "    </tr>\n",
       "  </thead>\n",
       "  <tbody>\n",
       "    <tr>\n",
       "      <th>0</th>\n",
       "      <td>2800308</td>\n",
       "      <td>2020-04-08</td>\n",
       "      <td>3.00</td>\n",
       "      <td>0.67</td>\n",
       "      <td>7.84</td>\n",
       "      <td>Aracaju</td>\n",
       "    </tr>\n",
       "    <tr>\n",
       "      <th>1</th>\n",
       "      <td>2800308</td>\n",
       "      <td>2020-04-09</td>\n",
       "      <td>1.68</td>\n",
       "      <td>0.66</td>\n",
       "      <td>2.79</td>\n",
       "      <td>Aracaju</td>\n",
       "    </tr>\n",
       "    <tr>\n",
       "      <th>2</th>\n",
       "      <td>2800308</td>\n",
       "      <td>2020-04-10</td>\n",
       "      <td>1.52</td>\n",
       "      <td>0.68</td>\n",
       "      <td>2.34</td>\n",
       "      <td>Aracaju</td>\n",
       "    </tr>\n",
       "    <tr>\n",
       "      <th>3</th>\n",
       "      <td>2800308</td>\n",
       "      <td>2020-04-11</td>\n",
       "      <td>1.43</td>\n",
       "      <td>0.71</td>\n",
       "      <td>2.12</td>\n",
       "      <td>Aracaju</td>\n",
       "    </tr>\n",
       "    <tr>\n",
       "      <th>4</th>\n",
       "      <td>2800308</td>\n",
       "      <td>2020-04-12</td>\n",
       "      <td>1.34</td>\n",
       "      <td>0.69</td>\n",
       "      <td>1.94</td>\n",
       "      <td>Aracaju</td>\n",
       "    </tr>\n",
       "    <tr>\n",
       "      <th>...</th>\n",
       "      <td>...</td>\n",
       "      <td>...</td>\n",
       "      <td>...</td>\n",
       "      <td>...</td>\n",
       "      <td>...</td>\n",
       "      <td>...</td>\n",
       "    </tr>\n",
       "    <tr>\n",
       "      <th>393</th>\n",
       "      <td>2807501</td>\n",
       "      <td>2020-05-06</td>\n",
       "      <td>1.80</td>\n",
       "      <td>0.59</td>\n",
       "      <td>3.43</td>\n",
       "      <td>Tomar do Geru</td>\n",
       "    </tr>\n",
       "    <tr>\n",
       "      <th>394</th>\n",
       "      <td>2807501</td>\n",
       "      <td>2020-05-07</td>\n",
       "      <td>1.71</td>\n",
       "      <td>0.50</td>\n",
       "      <td>3.25</td>\n",
       "      <td>Tomar do Geru</td>\n",
       "    </tr>\n",
       "    <tr>\n",
       "      <th>395</th>\n",
       "      <td>2807501</td>\n",
       "      <td>2020-05-08</td>\n",
       "      <td>1.71</td>\n",
       "      <td>0.51</td>\n",
       "      <td>3.24</td>\n",
       "      <td>Tomar do Geru</td>\n",
       "    </tr>\n",
       "    <tr>\n",
       "      <th>396</th>\n",
       "      <td>2807501</td>\n",
       "      <td>2020-05-09</td>\n",
       "      <td>1.70</td>\n",
       "      <td>0.51</td>\n",
       "      <td>3.22</td>\n",
       "      <td>Tomar do Geru</td>\n",
       "    </tr>\n",
       "    <tr>\n",
       "      <th>397</th>\n",
       "      <td>2807501</td>\n",
       "      <td>2020-05-10</td>\n",
       "      <td>1.69</td>\n",
       "      <td>0.52</td>\n",
       "      <td>3.21</td>\n",
       "      <td>Tomar do Geru</td>\n",
       "    </tr>\n",
       "  </tbody>\n",
       "</table>\n",
       "<p>398 rows × 6 columns</p>\n",
       "</div>"
      ],
      "text/plain": [
       "     city_id last_updated  Rt_most_likely  Rt_low_95  Rt_high_95  \\\n",
       "0    2800308   2020-04-08            3.00       0.67        7.84   \n",
       "1    2800308   2020-04-09            1.68       0.66        2.79   \n",
       "2    2800308   2020-04-10            1.52       0.68        2.34   \n",
       "3    2800308   2020-04-11            1.43       0.71        2.12   \n",
       "4    2800308   2020-04-12            1.34       0.69        1.94   \n",
       "..       ...          ...             ...        ...         ...   \n",
       "393  2807501   2020-05-06            1.80       0.59        3.43   \n",
       "394  2807501   2020-05-07            1.71       0.50        3.25   \n",
       "395  2807501   2020-05-08            1.71       0.51        3.24   \n",
       "396  2807501   2020-05-09            1.70       0.51        3.22   \n",
       "397  2807501   2020-05-10            1.69       0.52        3.21   \n",
       "\n",
       "              city  \n",
       "0          Aracaju  \n",
       "1          Aracaju  \n",
       "2          Aracaju  \n",
       "3          Aracaju  \n",
       "4          Aracaju  \n",
       "..             ...  \n",
       "393  Tomar do Geru  \n",
       "394  Tomar do Geru  \n",
       "395  Tomar do Geru  \n",
       "396  Tomar do Geru  \n",
       "397  Tomar do Geru  \n",
       "\n",
       "[398 rows x 6 columns]"
      ]
     },
     "execution_count": 547,
     "metadata": {},
     "output_type": "execute_result"
    }
   ],
   "source": [
    "city_results = city_results.reset_index().merge(df[['city_id', 'city']].drop_duplicates())\n",
    "city_results"
   ]
  },
  {
   "cell_type": "markdown",
   "metadata": {
    "heading_collapsed": true
   },
   "source": [
    "### All cities"
   ]
  },
  {
   "cell_type": "code",
   "execution_count": 578,
   "metadata": {
    "hidden": true
   },
   "outputs": [],
   "source": [
    "from tqdm.notebook import tqdm"
   ]
  },
  {
   "cell_type": "code",
   "execution_count": 581,
   "metadata": {
    "hidden": true
   },
   "outputs": [],
   "source": [
    "def run_all_cities(df, min_days=14, state=False):\n",
    "    \n",
    "    if state:\n",
    "        df = df[df.index.isin(df[df['state'] == state]['city_id'].unique(), level=0)]\n",
    "\n",
    "    # more than 14 days\n",
    "    v = df.reset_index()['city_id'].value_counts()\n",
    "    df = df[df.index.isin(v[v > 14].index, level=0)]\n",
    "\n",
    "    # Each city in chunks\n",
    "    error_cities = dict()\n",
    "    city_results = list()\n",
    "    \n",
    "    for city in tqdm(df.reset_index()['city_id'].unique()):\n",
    "\n",
    "        chunk = df[df.index.isin([city], level=0)]\n",
    "\n",
    "        try:\n",
    "            with Parallel(n_jobs=-1) as parallel:\n",
    "                city_results.append(parallel(delayed(run_full_model)(grp[1], source='LOFT') \n",
    "                           for grp in chunk.groupby(level='city_id')))\n",
    "        except Exception as e: \n",
    "            print(e)\n",
    "            error_cities[city] = e\n",
    "            \n",
    "    return city_results, error_cities"
   ]
  },
  {
   "cell_type": "code",
   "execution_count": 582,
   "metadata": {
    "collapsed": true,
    "hidden": true
   },
   "outputs": [
    {
     "data": {
      "application/vnd.jupyter.widget-view+json": {
       "model_id": "07115f8d37b54466abc4781af465ef0c",
       "version_major": 2,
       "version_minor": 0
      },
      "text/plain": [
       "HBox(children=(FloatProgress(value=0.0, max=1860.0), HTML(value='')))"
      ]
     },
     "metadata": {},
     "output_type": "display_data"
    },
    {
     "name": "stdout",
     "output_type": "stream",
     "text": [
      "index 0 is out of bounds for axis 0 with size 0\n",
      "index 0 is out of bounds for axis 0 with size 0\n",
      "index 0 is out of bounds for axis 0 with size 0\n",
      "index 0 is out of bounds for axis 0 with size 0\n",
      "index 0 is out of bounds for axis 0 with size 0\n",
      "index 0 is out of bounds for axis 0 with size 0\n",
      "index 0 is out of bounds for axis 0 with size 0\n",
      "index 0 is out of bounds for axis 0 with size 0\n",
      "index 0 is out of bounds for axis 0 with size 0\n",
      "index 0 is out of bounds for axis 0 with size 0\n",
      "index 0 is out of bounds for axis 0 with size 0\n",
      "index 0 is out of bounds for axis 0 with size 0\n",
      "index 0 is out of bounds for axis 0 with size 0\n",
      "index 0 is out of bounds for axis 0 with size 0\n",
      "index 0 is out of bounds for axis 0 with size 0\n",
      "index 0 is out of bounds for axis 0 with size 0\n",
      "index 0 is out of bounds for axis 0 with size 0\n",
      "index 0 is out of bounds for axis 0 with size 0\n",
      "index 0 is out of bounds for axis 0 with size 0\n",
      "index 0 is out of bounds for axis 0 with size 0\n",
      "index 0 is out of bounds for axis 0 with size 0\n",
      "index 0 is out of bounds for axis 0 with size 0\n",
      "index 0 is out of bounds for axis 0 with size 0\n",
      "index 0 is out of bounds for axis 0 with size 0\n",
      "index 0 is out of bounds for axis 0 with size 0\n",
      "index 0 is out of bounds for axis 0 with size 0\n",
      "index 0 is out of bounds for axis 0 with size 0\n",
      "index 0 is out of bounds for axis 0 with size 0\n",
      "index 0 is out of bounds for axis 0 with size 0\n",
      "index 0 is out of bounds for axis 0 with size 0\n",
      "index 0 is out of bounds for axis 0 with size 0\n",
      "index 0 is out of bounds for axis 0 with size 0\n",
      "index 0 is out of bounds for axis 0 with size 0\n",
      "index 0 is out of bounds for axis 0 with size 0\n",
      "index 0 is out of bounds for axis 0 with size 0\n",
      "index 0 is out of bounds for axis 0 with size 0\n",
      "index 0 is out of bounds for axis 0 with size 0\n",
      "index 0 is out of bounds for axis 0 with size 0\n",
      "index 0 is out of bounds for axis 0 with size 0\n",
      "index 0 is out of bounds for axis 0 with size 0\n",
      "index 0 is out of bounds for axis 0 with size 0\n",
      "index 0 is out of bounds for axis 0 with size 0\n",
      "index 0 is out of bounds for axis 0 with size 0\n",
      "index 0 is out of bounds for axis 0 with size 0\n",
      "index 0 is out of bounds for axis 0 with size 0\n",
      "index 0 is out of bounds for axis 0 with size 0\n",
      "index 0 is out of bounds for axis 0 with size 0\n",
      "index 0 is out of bounds for axis 0 with size 0\n",
      "index 0 is out of bounds for axis 0 with size 0\n",
      "index 0 is out of bounds for axis 0 with size 0\n",
      "index 0 is out of bounds for axis 0 with size 0\n",
      "index 0 is out of bounds for axis 0 with size 0\n",
      "index 0 is out of bounds for axis 0 with size 0\n",
      "index 0 is out of bounds for axis 0 with size 0\n",
      "index 0 is out of bounds for axis 0 with size 0\n",
      "index 0 is out of bounds for axis 0 with size 0\n",
      "index 0 is out of bounds for axis 0 with size 0\n",
      "index 0 is out of bounds for axis 0 with size 0\n",
      "index 0 is out of bounds for axis 0 with size 0\n",
      "index 0 is out of bounds for axis 0 with size 0\n",
      "index 0 is out of bounds for axis 0 with size 0\n",
      "index 0 is out of bounds for axis 0 with size 0\n",
      "index 0 is out of bounds for axis 0 with size 0\n",
      "index 0 is out of bounds for axis 0 with size 0\n",
      "index 0 is out of bounds for axis 0 with size 0\n",
      "index 0 is out of bounds for axis 0 with size 0\n",
      "index 0 is out of bounds for axis 0 with size 0\n",
      "index 0 is out of bounds for axis 0 with size 0\n",
      "index 0 is out of bounds for axis 0 with size 0\n",
      "index 0 is out of bounds for axis 0 with size 0\n",
      "index 0 is out of bounds for axis 0 with size 0\n",
      "index 0 is out of bounds for axis 0 with size 0\n",
      "index 0 is out of bounds for axis 0 with size 0\n",
      "index 0 is out of bounds for axis 0 with size 0\n",
      "index 0 is out of bounds for axis 0 with size 0\n",
      "index 0 is out of bounds for axis 0 with size 0\n",
      "index 0 is out of bounds for axis 0 with size 0\n",
      "index 0 is out of bounds for axis 0 with size 0\n",
      "index 0 is out of bounds for axis 0 with size 0\n",
      "index 0 is out of bounds for axis 0 with size 0\n",
      "index 0 is out of bounds for axis 0 with size 0\n",
      "index 0 is out of bounds for axis 0 with size 0\n",
      "index 0 is out of bounds for axis 0 with size 0\n",
      "index 0 is out of bounds for axis 0 with size 0\n",
      "index 0 is out of bounds for axis 0 with size 0\n",
      "index 0 is out of bounds for axis 0 with size 0\n",
      "index 0 is out of bounds for axis 0 with size 0\n",
      "index 0 is out of bounds for axis 0 with size 0\n",
      "index 0 is out of bounds for axis 0 with size 0\n",
      "index 0 is out of bounds for axis 0 with size 0\n",
      "index 0 is out of bounds for axis 0 with size 0\n",
      "index 0 is out of bounds for axis 0 with size 0\n",
      "index 0 is out of bounds for axis 0 with size 0\n",
      "index 0 is out of bounds for axis 0 with size 0\n",
      "index 0 is out of bounds for axis 0 with size 0\n",
      "index 0 is out of bounds for axis 0 with size 0\n",
      "index 0 is out of bounds for axis 0 with size 0\n",
      "index 0 is out of bounds for axis 0 with size 0\n",
      "index 0 is out of bounds for axis 0 with size 0\n",
      "index 0 is out of bounds for axis 0 with size 0\n",
      "index 0 is out of bounds for axis 0 with size 0\n",
      "index 0 is out of bounds for axis 0 with size 0\n",
      "index 0 is out of bounds for axis 0 with size 0\n",
      "index 0 is out of bounds for axis 0 with size 0\n",
      "index 0 is out of bounds for axis 0 with size 0\n",
      "index 0 is out of bounds for axis 0 with size 0\n",
      "index 0 is out of bounds for axis 0 with size 0\n",
      "index 0 is out of bounds for axis 0 with size 0\n",
      "index 0 is out of bounds for axis 0 with size 0\n",
      "index 0 is out of bounds for axis 0 with size 0\n",
      "index 0 is out of bounds for axis 0 with size 0\n",
      "index 0 is out of bounds for axis 0 with size 0\n",
      "index 0 is out of bounds for axis 0 with size 0\n",
      "index 0 is out of bounds for axis 0 with size 0\n",
      "index 0 is out of bounds for axis 0 with size 0\n",
      "index 0 is out of bounds for axis 0 with size 0\n",
      "index 0 is out of bounds for axis 0 with size 0\n",
      "index 0 is out of bounds for axis 0 with size 0\n",
      "index 0 is out of bounds for axis 0 with size 0\n",
      "index 0 is out of bounds for axis 0 with size 0\n",
      "index 0 is out of bounds for axis 0 with size 0\n",
      "index 0 is out of bounds for axis 0 with size 0\n",
      "index 0 is out of bounds for axis 0 with size 0\n",
      "index 0 is out of bounds for axis 0 with size 0\n",
      "index 0 is out of bounds for axis 0 with size 0\n",
      "index 0 is out of bounds for axis 0 with size 0\n",
      "index 0 is out of bounds for axis 0 with size 0\n",
      "index 0 is out of bounds for axis 0 with size 0\n",
      "index 0 is out of bounds for axis 0 with size 0\n",
      "index 0 is out of bounds for axis 0 with size 0\n",
      "index 0 is out of bounds for axis 0 with size 0\n",
      "index 0 is out of bounds for axis 0 with size 0\n",
      "index 0 is out of bounds for axis 0 with size 0\n",
      "index 0 is out of bounds for axis 0 with size 0\n",
      "index 0 is out of bounds for axis 0 with size 0\n",
      "index 0 is out of bounds for axis 0 with size 0\n",
      "index 0 is out of bounds for axis 0 with size 0\n",
      "index 0 is out of bounds for axis 0 with size 0\n",
      "index 0 is out of bounds for axis 0 with size 0\n",
      "index 0 is out of bounds for axis 0 with size 0\n",
      "index 0 is out of bounds for axis 0 with size 0\n",
      "index 0 is out of bounds for axis 0 with size 0\n",
      "index 0 is out of bounds for axis 0 with size 0\n",
      "index 0 is out of bounds for axis 0 with size 0\n",
      "index 0 is out of bounds for axis 0 with size 0\n",
      "index 0 is out of bounds for axis 0 with size 0\n",
      "index 0 is out of bounds for axis 0 with size 0\n",
      "index 0 is out of bounds for axis 0 with size 0\n",
      "index 0 is out of bounds for axis 0 with size 0\n",
      "index 0 is out of bounds for axis 0 with size 0\n",
      "index 0 is out of bounds for axis 0 with size 0\n",
      "index 0 is out of bounds for axis 0 with size 0\n",
      "index 0 is out of bounds for axis 0 with size 0\n",
      "index 0 is out of bounds for axis 0 with size 0\n",
      "index 0 is out of bounds for axis 0 with size 0\n",
      "index 0 is out of bounds for axis 0 with size 0\n",
      "index 0 is out of bounds for axis 0 with size 0\n",
      "index 0 is out of bounds for axis 0 with size 0\n",
      "index 0 is out of bounds for axis 0 with size 0\n",
      "index 0 is out of bounds for axis 0 with size 0\n",
      "index 0 is out of bounds for axis 0 with size 0\n",
      "index 0 is out of bounds for axis 0 with size 0\n",
      "index 0 is out of bounds for axis 0 with size 0\n",
      "index 0 is out of bounds for axis 0 with size 0\n",
      "index 0 is out of bounds for axis 0 with size 0\n",
      "index 0 is out of bounds for axis 0 with size 0\n",
      "index 0 is out of bounds for axis 0 with size 0\n",
      "index 0 is out of bounds for axis 0 with size 0\n",
      "index 0 is out of bounds for axis 0 with size 0\n",
      "index 0 is out of bounds for axis 0 with size 0\n",
      "index 0 is out of bounds for axis 0 with size 0\n"
     ]
    },
    {
     "name": "stdout",
     "output_type": "stream",
     "text": [
      "index 0 is out of bounds for axis 0 with size 0\n",
      "index 0 is out of bounds for axis 0 with size 0\n",
      "index 0 is out of bounds for axis 0 with size 0\n",
      "index 0 is out of bounds for axis 0 with size 0\n",
      "index 0 is out of bounds for axis 0 with size 0\n",
      "index 0 is out of bounds for axis 0 with size 0\n",
      "index 0 is out of bounds for axis 0 with size 0\n",
      "index 0 is out of bounds for axis 0 with size 0\n",
      "index 0 is out of bounds for axis 0 with size 0\n",
      "index 0 is out of bounds for axis 0 with size 0\n",
      "index 0 is out of bounds for axis 0 with size 0\n",
      "index 0 is out of bounds for axis 0 with size 0\n",
      "index 0 is out of bounds for axis 0 with size 0\n",
      "index 0 is out of bounds for axis 0 with size 0\n",
      "index 0 is out of bounds for axis 0 with size 0\n",
      "index 0 is out of bounds for axis 0 with size 0\n",
      "index 0 is out of bounds for axis 0 with size 0\n",
      "index 0 is out of bounds for axis 0 with size 0\n",
      "index 0 is out of bounds for axis 0 with size 0\n",
      "index 0 is out of bounds for axis 0 with size 0\n",
      "index 0 is out of bounds for axis 0 with size 0\n",
      "index 0 is out of bounds for axis 0 with size 0\n",
      "index 0 is out of bounds for axis 0 with size 0\n",
      "index 0 is out of bounds for axis 0 with size 0\n",
      "index 0 is out of bounds for axis 0 with size 0\n",
      "index 0 is out of bounds for axis 0 with size 0\n",
      "index 0 is out of bounds for axis 0 with size 0\n",
      "index 0 is out of bounds for axis 0 with size 0\n",
      "index 0 is out of bounds for axis 0 with size 0\n",
      "index 0 is out of bounds for axis 0 with size 0\n",
      "index 0 is out of bounds for axis 0 with size 0\n",
      "index 0 is out of bounds for axis 0 with size 0\n",
      "index 0 is out of bounds for axis 0 with size 0\n",
      "index 0 is out of bounds for axis 0 with size 0\n",
      "index 0 is out of bounds for axis 0 with size 0\n",
      "index 0 is out of bounds for axis 0 with size 0\n",
      "index 0 is out of bounds for axis 0 with size 0\n",
      "index 0 is out of bounds for axis 0 with size 0\n",
      "index 0 is out of bounds for axis 0 with size 0\n",
      "index 0 is out of bounds for axis 0 with size 0\n",
      "index 0 is out of bounds for axis 0 with size 0\n",
      "index 0 is out of bounds for axis 0 with size 0\n",
      "index 0 is out of bounds for axis 0 with size 0\n",
      "index 0 is out of bounds for axis 0 with size 0\n",
      "index 0 is out of bounds for axis 0 with size 0\n",
      "index 0 is out of bounds for axis 0 with size 0\n",
      "index 0 is out of bounds for axis 0 with size 0\n",
      "index 0 is out of bounds for axis 0 with size 0\n",
      "index 0 is out of bounds for axis 0 with size 0\n",
      "index 0 is out of bounds for axis 0 with size 0\n",
      "index 0 is out of bounds for axis 0 with size 0\n",
      "index 0 is out of bounds for axis 0 with size 0\n",
      "index 0 is out of bounds for axis 0 with size 0\n",
      "index 0 is out of bounds for axis 0 with size 0\n",
      "index 0 is out of bounds for axis 0 with size 0\n",
      "index 0 is out of bounds for axis 0 with size 0\n",
      "index 0 is out of bounds for axis 0 with size 0\n",
      "index 0 is out of bounds for axis 0 with size 0\n",
      "index 0 is out of bounds for axis 0 with size 0\n",
      "index 0 is out of bounds for axis 0 with size 0\n",
      "index 0 is out of bounds for axis 0 with size 0\n",
      "index 0 is out of bounds for axis 0 with size 0\n",
      "index 0 is out of bounds for axis 0 with size 0\n",
      "index 0 is out of bounds for axis 0 with size 0\n",
      "index 0 is out of bounds for axis 0 with size 0\n",
      "index 0 is out of bounds for axis 0 with size 0\n",
      "index 0 is out of bounds for axis 0 with size 0\n",
      "index 0 is out of bounds for axis 0 with size 0\n",
      "index 0 is out of bounds for axis 0 with size 0\n",
      "index 0 is out of bounds for axis 0 with size 0\n",
      "index 0 is out of bounds for axis 0 with size 0\n",
      "index 0 is out of bounds for axis 0 with size 0\n",
      "index 0 is out of bounds for axis 0 with size 0\n",
      "index 0 is out of bounds for axis 0 with size 0\n",
      "index 0 is out of bounds for axis 0 with size 0\n",
      "index 0 is out of bounds for axis 0 with size 0\n",
      "index 0 is out of bounds for axis 0 with size 0\n",
      "index 0 is out of bounds for axis 0 with size 0\n",
      "index 0 is out of bounds for axis 0 with size 0\n",
      "index 0 is out of bounds for axis 0 with size 0\n",
      "index 0 is out of bounds for axis 0 with size 0\n",
      "index 0 is out of bounds for axis 0 with size 0\n",
      "index 0 is out of bounds for axis 0 with size 0\n",
      "index 0 is out of bounds for axis 0 with size 0\n",
      "index 0 is out of bounds for axis 0 with size 0\n",
      "index 0 is out of bounds for axis 0 with size 0\n",
      "index 0 is out of bounds for axis 0 with size 0\n",
      "index 0 is out of bounds for axis 0 with size 0\n",
      "index 0 is out of bounds for axis 0 with size 0\n",
      "index 0 is out of bounds for axis 0 with size 0\n",
      "index 0 is out of bounds for axis 0 with size 0\n",
      "index 0 is out of bounds for axis 0 with size 0\n",
      "index 0 is out of bounds for axis 0 with size 0\n",
      "index 0 is out of bounds for axis 0 with size 0\n",
      "index 0 is out of bounds for axis 0 with size 0\n",
      "index 0 is out of bounds for axis 0 with size 0\n",
      "index 0 is out of bounds for axis 0 with size 0\n",
      "index 0 is out of bounds for axis 0 with size 0\n",
      "index 0 is out of bounds for axis 0 with size 0\n",
      "index 0 is out of bounds for axis 0 with size 0\n",
      "index 0 is out of bounds for axis 0 with size 0\n",
      "index 0 is out of bounds for axis 0 with size 0\n",
      "index 0 is out of bounds for axis 0 with size 0\n",
      "index 0 is out of bounds for axis 0 with size 0\n",
      "index 0 is out of bounds for axis 0 with size 0\n",
      "index 0 is out of bounds for axis 0 with size 0\n",
      "index 0 is out of bounds for axis 0 with size 0\n",
      "index 0 is out of bounds for axis 0 with size 0\n",
      "index 0 is out of bounds for axis 0 with size 0\n",
      "index 0 is out of bounds for axis 0 with size 0\n",
      "index 0 is out of bounds for axis 0 with size 0\n",
      "index 0 is out of bounds for axis 0 with size 0\n",
      "index 0 is out of bounds for axis 0 with size 0\n",
      "index 0 is out of bounds for axis 0 with size 0\n",
      "index 0 is out of bounds for axis 0 with size 0\n",
      "index 0 is out of bounds for axis 0 with size 0\n",
      "index 0 is out of bounds for axis 0 with size 0\n",
      "index 0 is out of bounds for axis 0 with size 0\n",
      "index 0 is out of bounds for axis 0 with size 0\n",
      "index 0 is out of bounds for axis 0 with size 0\n",
      "index 0 is out of bounds for axis 0 with size 0\n",
      "index 0 is out of bounds for axis 0 with size 0\n",
      "index 0 is out of bounds for axis 0 with size 0\n",
      "index 0 is out of bounds for axis 0 with size 0\n",
      "index 0 is out of bounds for axis 0 with size 0\n",
      "index 0 is out of bounds for axis 0 with size 0\n",
      "index 0 is out of bounds for axis 0 with size 0\n",
      "index 0 is out of bounds for axis 0 with size 0\n",
      "index 0 is out of bounds for axis 0 with size 0\n",
      "index 0 is out of bounds for axis 0 with size 0\n",
      "index 0 is out of bounds for axis 0 with size 0\n",
      "index 0 is out of bounds for axis 0 with size 0\n",
      "index 0 is out of bounds for axis 0 with size 0\n",
      "index 0 is out of bounds for axis 0 with size 0\n",
      "index 0 is out of bounds for axis 0 with size 0\n",
      "index 0 is out of bounds for axis 0 with size 0\n",
      "index 0 is out of bounds for axis 0 with size 0\n",
      "index 0 is out of bounds for axis 0 with size 0\n",
      "index 0 is out of bounds for axis 0 with size 0\n",
      "index 0 is out of bounds for axis 0 with size 0\n",
      "index 0 is out of bounds for axis 0 with size 0\n",
      "index 0 is out of bounds for axis 0 with size 0\n",
      "index 0 is out of bounds for axis 0 with size 0\n",
      "index 0 is out of bounds for axis 0 with size 0\n",
      "index 0 is out of bounds for axis 0 with size 0\n",
      "index 0 is out of bounds for axis 0 with size 0\n",
      "index 0 is out of bounds for axis 0 with size 0\n",
      "index 0 is out of bounds for axis 0 with size 0\n",
      "index 0 is out of bounds for axis 0 with size 0\n",
      "index 0 is out of bounds for axis 0 with size 0\n",
      "index 0 is out of bounds for axis 0 with size 0\n",
      "index 0 is out of bounds for axis 0 with size 0\n",
      "index 0 is out of bounds for axis 0 with size 0\n",
      "\n"
     ]
    }
   ],
   "source": [
    "all_cities_results, all_cities_erros = run_all_cities(city_cases)"
   ]
  },
  {
   "cell_type": "code",
   "execution_count": 587,
   "metadata": {
    "hidden": true,
    "scrolled": true
   },
   "outputs": [
    {
     "name": "stdout",
     "output_type": "stream",
     "text": [
      "<class 'pandas.core.frame.DataFrame'>\n",
      "MultiIndex: 39532 entries, (1100023, Timestamp('2020-04-10 00:00:00')) to (5300108, Timestamp('2020-05-10 00:00:00'))\n",
      "Data columns (total 3 columns):\n",
      " #   Column          Non-Null Count  Dtype  \n",
      "---  ------          --------------  -----  \n",
      " 0   Rt_most_likely  39532 non-null  float64\n",
      " 1   Rt_low_95       39532 non-null  float64\n",
      " 2   Rt_high_95      39532 non-null  float64\n",
      "dtypes: float64(3)\n",
      "memory usage: 1.0 MB\n"
     ]
    }
   ],
   "source": [
    "all_cities_results = pd.concat([l[0] for l in all_cities_results])\n",
    "all_cities_results.info()"
   ]
  },
  {
   "cell_type": "code",
   "execution_count": 594,
   "metadata": {
    "collapsed": true,
    "hidden": true
   },
   "outputs": [
    {
     "data": {
      "text/html": [
       "<div>\n",
       "<style scoped>\n",
       "    .dataframe tbody tr th:only-of-type {\n",
       "        vertical-align: middle;\n",
       "    }\n",
       "\n",
       "    .dataframe tbody tr th {\n",
       "        vertical-align: top;\n",
       "    }\n",
       "\n",
       "    .dataframe thead th {\n",
       "        text-align: right;\n",
       "    }\n",
       "</style>\n",
       "<table border=\"1\" class=\"dataframe\">\n",
       "  <thead>\n",
       "    <tr style=\"text-align: right;\">\n",
       "      <th></th>\n",
       "      <th>city_id</th>\n",
       "      <th>last_updated</th>\n",
       "      <th>Rt_most_likely</th>\n",
       "      <th>Rt_low_95</th>\n",
       "      <th>Rt_high_95</th>\n",
       "      <th>city</th>\n",
       "      <th>daily_cases</th>\n",
       "      <th>confirmed_cases</th>\n",
       "      <th>active_cases</th>\n",
       "      <th>notification_rate</th>\n",
       "    </tr>\n",
       "  </thead>\n",
       "  <tbody>\n",
       "    <tr>\n",
       "      <th>0</th>\n",
       "      <td>1100023</td>\n",
       "      <td>2020-04-10</td>\n",
       "      <td>3.00</td>\n",
       "      <td>0.67</td>\n",
       "      <td>7.84</td>\n",
       "      <td>Ariquemes</td>\n",
       "      <td>2.0</td>\n",
       "      <td>2</td>\n",
       "      <td>6.0</td>\n",
       "      <td>0.348571</td>\n",
       "    </tr>\n",
       "    <tr>\n",
       "      <th>1</th>\n",
       "      <td>1100023</td>\n",
       "      <td>2020-04-11</td>\n",
       "      <td>2.60</td>\n",
       "      <td>0.73</td>\n",
       "      <td>5.29</td>\n",
       "      <td>Ariquemes</td>\n",
       "      <td>0.0</td>\n",
       "      <td>2</td>\n",
       "      <td>5.0</td>\n",
       "      <td>0.365714</td>\n",
       "    </tr>\n",
       "    <tr>\n",
       "      <th>2</th>\n",
       "      <td>1100023</td>\n",
       "      <td>2020-04-12</td>\n",
       "      <td>2.54</td>\n",
       "      <td>0.82</td>\n",
       "      <td>4.70</td>\n",
       "      <td>Ariquemes</td>\n",
       "      <td>5.0</td>\n",
       "      <td>7</td>\n",
       "      <td>18.0</td>\n",
       "      <td>0.385714</td>\n",
       "    </tr>\n",
       "    <tr>\n",
       "      <th>3</th>\n",
       "      <td>1100023</td>\n",
       "      <td>2020-04-13</td>\n",
       "      <td>2.57</td>\n",
       "      <td>0.92</td>\n",
       "      <td>4.40</td>\n",
       "      <td>Ariquemes</td>\n",
       "      <td>0.0</td>\n",
       "      <td>7</td>\n",
       "      <td>18.0</td>\n",
       "      <td>0.394286</td>\n",
       "    </tr>\n",
       "    <tr>\n",
       "      <th>4</th>\n",
       "      <td>1100023</td>\n",
       "      <td>2020-04-14</td>\n",
       "      <td>2.53</td>\n",
       "      <td>1.03</td>\n",
       "      <td>4.14</td>\n",
       "      <td>Ariquemes</td>\n",
       "      <td>0.0</td>\n",
       "      <td>7</td>\n",
       "      <td>16.0</td>\n",
       "      <td>0.427143</td>\n",
       "    </tr>\n",
       "    <tr>\n",
       "      <th>...</th>\n",
       "      <td>...</td>\n",
       "      <td>...</td>\n",
       "      <td>...</td>\n",
       "      <td>...</td>\n",
       "      <td>...</td>\n",
       "      <td>...</td>\n",
       "      <td>...</td>\n",
       "      <td>...</td>\n",
       "      <td>...</td>\n",
       "      <td>...</td>\n",
       "    </tr>\n",
       "    <tr>\n",
       "      <th>39527</th>\n",
       "      <td>5300108</td>\n",
       "      <td>2020-05-06</td>\n",
       "      <td>1.34</td>\n",
       "      <td>1.21</td>\n",
       "      <td>1.46</td>\n",
       "      <td>Brasília</td>\n",
       "      <td>186.0</td>\n",
       "      <td>1893</td>\n",
       "      <td>1015.0</td>\n",
       "      <td>0.980469</td>\n",
       "    </tr>\n",
       "    <tr>\n",
       "      <th>39528</th>\n",
       "      <td>5300108</td>\n",
       "      <td>2020-05-07</td>\n",
       "      <td>1.36</td>\n",
       "      <td>1.22</td>\n",
       "      <td>1.47</td>\n",
       "      <td>Brasília</td>\n",
       "      <td>185.0</td>\n",
       "      <td>2078</td>\n",
       "      <td>1172.0</td>\n",
       "      <td>1.000000</td>\n",
       "    </tr>\n",
       "    <tr>\n",
       "      <th>39529</th>\n",
       "      <td>5300108</td>\n",
       "      <td>2020-05-08</td>\n",
       "      <td>1.37</td>\n",
       "      <td>1.24</td>\n",
       "      <td>1.48</td>\n",
       "      <td>Brasília</td>\n",
       "      <td>139.0</td>\n",
       "      <td>2217</td>\n",
       "      <td>1273.0</td>\n",
       "      <td>1.000000</td>\n",
       "    </tr>\n",
       "    <tr>\n",
       "      <th>39530</th>\n",
       "      <td>5300108</td>\n",
       "      <td>2020-05-09</td>\n",
       "      <td>1.38</td>\n",
       "      <td>1.24</td>\n",
       "      <td>1.48</td>\n",
       "      <td>Brasília</td>\n",
       "      <td>133.0</td>\n",
       "      <td>2350</td>\n",
       "      <td>1394.0</td>\n",
       "      <td>1.000000</td>\n",
       "    </tr>\n",
       "    <tr>\n",
       "      <th>39531</th>\n",
       "      <td>5300108</td>\n",
       "      <td>2020-05-10</td>\n",
       "      <td>1.37</td>\n",
       "      <td>1.25</td>\n",
       "      <td>1.48</td>\n",
       "      <td>Brasília</td>\n",
       "      <td>114.0</td>\n",
       "      <td>2464</td>\n",
       "      <td>1413.0</td>\n",
       "      <td>1.000000</td>\n",
       "    </tr>\n",
       "  </tbody>\n",
       "</table>\n",
       "<p>39532 rows × 10 columns</p>\n",
       "</div>"
      ],
      "text/plain": [
       "       city_id last_updated  Rt_most_likely  Rt_low_95  Rt_high_95       city  \\\n",
       "0      1100023   2020-04-10            3.00       0.67        7.84  Ariquemes   \n",
       "1      1100023   2020-04-11            2.60       0.73        5.29  Ariquemes   \n",
       "2      1100023   2020-04-12            2.54       0.82        4.70  Ariquemes   \n",
       "3      1100023   2020-04-13            2.57       0.92        4.40  Ariquemes   \n",
       "4      1100023   2020-04-14            2.53       1.03        4.14  Ariquemes   \n",
       "...        ...          ...             ...        ...         ...        ...   \n",
       "39527  5300108   2020-05-06            1.34       1.21        1.46   Brasília   \n",
       "39528  5300108   2020-05-07            1.36       1.22        1.47   Brasília   \n",
       "39529  5300108   2020-05-08            1.37       1.24        1.48   Brasília   \n",
       "39530  5300108   2020-05-09            1.38       1.24        1.48   Brasília   \n",
       "39531  5300108   2020-05-10            1.37       1.25        1.48   Brasília   \n",
       "\n",
       "       daily_cases  confirmed_cases  active_cases  notification_rate  \n",
       "0              2.0                2           6.0           0.348571  \n",
       "1              0.0                2           5.0           0.365714  \n",
       "2              5.0                7          18.0           0.385714  \n",
       "3              0.0                7          18.0           0.394286  \n",
       "4              0.0                7          16.0           0.427143  \n",
       "...            ...              ...           ...                ...  \n",
       "39527        186.0             1893        1015.0           0.980469  \n",
       "39528        185.0             2078        1172.0           1.000000  \n",
       "39529        139.0             2217        1273.0           1.000000  \n",
       "39530        133.0             2350        1394.0           1.000000  \n",
       "39531        114.0             2464        1413.0           1.000000  \n",
       "\n",
       "[39532 rows x 10 columns]"
      ]
     },
     "execution_count": 594,
     "metadata": {},
     "output_type": "execute_result"
    }
   ],
   "source": [
    "all_cities_results = all_cities_results.reset_index().merge(df[['city_id', \n",
    "                                                                'city', \n",
    "                                                                'last_updated', \n",
    "                                                                'daily_cases', \n",
    "                                                                'confirmed_cases', \n",
    "                                                                'active_cases', \n",
    "                                                                'notification_rate']], on=['city_id', \n",
    "                                                                                           'last_updated'])\n",
    "all_cities_results#to_csv('br_cities_estimate_rt.csv')"
   ]
  },
  {
   "cell_type": "code",
   "execution_count": 595,
   "metadata": {
    "hidden": true
   },
   "outputs": [],
   "source": [
    "all_cities_results.to_csv('br_cities_estimated_rt.csv')"
   ]
  },
  {
   "cell_type": "markdown",
   "metadata": {},
   "source": [
    "## Plotting results"
   ]
  },
  {
   "cell_type": "code",
   "execution_count": 557,
   "metadata": {},
   "outputs": [
    {
     "data": {
      "text/html": [
       "        <script type=\"text/javascript\">\n",
       "        window.PlotlyConfig = {MathJaxConfig: 'local'};\n",
       "        if (window.MathJax) {MathJax.Hub.Config({SVG: {font: \"STIX-Web\"}});}\n",
       "        if (typeof require !== 'undefined') {\n",
       "        require.undef(\"plotly\");\n",
       "        requirejs.config({\n",
       "            paths: {\n",
       "                'plotly': ['https://cdn.plot.ly/plotly-latest.min']\n",
       "            }\n",
       "        });\n",
       "        require(['plotly'], function(Plotly) {\n",
       "            window._Plotly = Plotly;\n",
       "        });\n",
       "        }\n",
       "        </script>\n",
       "        "
      ]
     },
     "metadata": {},
     "output_type": "display_data"
    },
    {
     "data": {
      "text/html": [
       "        <script type=\"text/javascript\">\n",
       "        window.PlotlyConfig = {MathJaxConfig: 'local'};\n",
       "        if (window.MathJax) {MathJax.Hub.Config({SVG: {font: \"STIX-Web\"}});}\n",
       "        if (typeof require !== 'undefined') {\n",
       "        require.undef(\"plotly\");\n",
       "        requirejs.config({\n",
       "            paths: {\n",
       "                'plotly': ['https://cdn.plot.ly/plotly-latest.min']\n",
       "            }\n",
       "        });\n",
       "        require(['plotly'], function(Plotly) {\n",
       "            window._Plotly = Plotly;\n",
       "        });\n",
       "        }\n",
       "        </script>\n",
       "        "
      ]
     },
     "metadata": {},
     "output_type": "display_data"
    }
   ],
   "source": [
    "from plots import plot_heatmap, plot_rt, plot_rt_bars"
   ]
  },
  {
   "cell_type": "markdown",
   "metadata": {},
   "source": [
    "### State"
   ]
  },
  {
   "cell_type": "code",
   "execution_count": 561,
   "metadata": {},
   "outputs": [
    {
     "data": {
      "text/html": [
       "        <script type=\"text/javascript\">\n",
       "        window.PlotlyConfig = {MathJaxConfig: 'local'};\n",
       "        if (window.MathJax) {MathJax.Hub.Config({SVG: {font: \"STIX-Web\"}});}\n",
       "        if (typeof require !== 'undefined') {\n",
       "        require.undef(\"plotly\");\n",
       "        requirejs.config({\n",
       "            paths: {\n",
       "                'plotly': ['https://cdn.plot.ly/plotly-latest.min']\n",
       "            }\n",
       "        });\n",
       "        require(['plotly'], function(Plotly) {\n",
       "            window._Plotly = Plotly;\n",
       "        });\n",
       "        }\n",
       "        </script>\n",
       "        "
      ]
     },
     "metadata": {},
     "output_type": "display_data"
    },
    {
     "data": {
      "text/html": [
       "        <script type=\"text/javascript\">\n",
       "        window.PlotlyConfig = {MathJaxConfig: 'local'};\n",
       "        if (window.MathJax) {MathJax.Hub.Config({SVG: {font: \"STIX-Web\"}});}\n",
       "        if (typeof require !== 'undefined') {\n",
       "        require.undef(\"plotly\");\n",
       "        requirejs.config({\n",
       "            paths: {\n",
       "                'plotly': ['https://cdn.plot.ly/plotly-latest.min']\n",
       "            }\n",
       "        });\n",
       "        require(['plotly'], function(Plotly) {\n",
       "            window._Plotly = Plotly;\n",
       "        });\n",
       "        }\n",
       "        </script>\n",
       "        "
      ]
     },
     "metadata": {},
     "output_type": "display_data"
    },
    {
     "data": {
      "application/vnd.plotly.v1+json": {
       "config": {
        "plotlyServerURL": "https://plot.ly"
       },
       "data": [
        {
         "error_y": {
          "array": [
           0.1399999999999999,
           0.09000000000000008,
           0.040000000000000036,
           0.1100000000000001,
           0.07999999999999985,
           0.050000000000000044,
           0.1200000000000001,
           0.09000000000000008,
           0.11999999999999988,
           0.06000000000000005,
           0.09000000000000008,
           0.2300000000000001,
           0.19000000000000017,
           0.05999999999999983,
           0.08000000000000007,
           0.06000000000000005,
           0.10000000000000009,
           0.09999999999999987,
           0.050000000000000044,
           0.1100000000000001,
           0.1299999999999999,
           0.16000000000000014,
           0.10000000000000009,
           0.09000000000000008,
           0.1299999999999999,
           0.030000000000000027,
           0.22999999999999998
          ],
          "arrayminus": [
           0.1399999999999999,
           0.09000000000000008,
           0.040000000000000036,
           0.1100000000000001,
           0.07999999999999985,
           0.050000000000000044,
           0.1200000000000001,
           0.09000000000000008,
           0.11999999999999988,
           0.06000000000000005,
           0.09000000000000008,
           0.2300000000000001,
           0.19000000000000017,
           0.05999999999999983,
           0.08000000000000007,
           0.06000000000000005,
           0.10000000000000009,
           0.09999999999999987,
           0.050000000000000044,
           0.1100000000000001,
           0.1299999999999999,
           0.16000000000000014,
           0.10000000000000009,
           0.09000000000000008,
           0.1299999999999999,
           0.030000000000000027,
           0.22999999999999998
          ],
          "symmetric": false,
          "type": "data"
         },
         "marker": {
          "color": [
           "rgba(242,185,80,1)",
           "rgba(242,185,80,1)",
           "rgba(242,185,80,1)",
           "rgba(242,185,80,1)",
           "rgba(242,185,80,1)",
           "rgba(242,185,80,1)",
           "rgba(242,185,80,1)",
           "rgba(242,185,80,1)",
           "rgba(242,185,80,1)",
           "rgba(242,185,80,1)",
           "rgba(242,185,80,1)",
           "rgba(132,217,217,1)",
           "rgba(242,185,80,1)",
           "rgba(242,185,80,1)",
           "rgba(242,185,80,1)",
           "rgba(242,185,80,1)",
           "rgba(242,185,80,1)",
           "rgba(242,185,80,1)",
           "rgba(242,185,80,1)",
           "rgba(242,185,80,1)",
           "rgba(242,185,80,1)",
           "rgba(242,185,80,1)",
           "rgba(242,185,80,1)",
           "rgba(242,185,80,1)",
           "rgba(242,185,80,1)",
           "rgba(242,185,80,1)",
           "rgba(242,185,80,1)"
          ]
         },
         "type": "bar",
         "x": [
          "AC",
          "AL",
          "AM",
          "AP",
          "BA",
          "CE",
          "DF",
          "ES",
          "GO",
          "MA",
          "MG",
          "MS",
          "MT",
          "PA",
          "PB",
          "PE",
          "PI",
          "PR",
          "RJ",
          "RN",
          "RO",
          "RR",
          "RS",
          "SC",
          "SE",
          "SP",
          "TO"
         ],
         "y": [
          1.72,
          1.61,
          1.53,
          1.58,
          1.42,
          1.47,
          1.37,
          1.5,
          1.27,
          1.6300000000000001,
          1.35,
          1.1300000000000001,
          1.35,
          1.72,
          1.5,
          1.32,
          1.34,
          1.22,
          1.46,
          1.33,
          1.77,
          1.58,
          1.52,
          1.32,
          1.7,
          1.24,
          2.17
         ]
        }
       ],
       "layout": {
        "shapes": [
         {
          "line": {
           "color": "#E5E5E5",
           "dash": "dash",
           "width": 2
          },
          "type": "line",
          "x0": -1,
          "x1": 27,
          "y0": 1,
          "y1": 1
         }
        ],
        "template": {
         "data": {
          "bar": [
           {
            "error_x": {
             "color": "#2a3f5f"
            },
            "error_y": {
             "color": "#2a3f5f"
            },
            "marker": {
             "line": {
              "color": "white",
              "width": 0.5
             }
            },
            "type": "bar"
           }
          ],
          "barpolar": [
           {
            "marker": {
             "line": {
              "color": "white",
              "width": 0.5
             }
            },
            "type": "barpolar"
           }
          ],
          "carpet": [
           {
            "aaxis": {
             "endlinecolor": "#2a3f5f",
             "gridcolor": "#C8D4E3",
             "linecolor": "#C8D4E3",
             "minorgridcolor": "#C8D4E3",
             "startlinecolor": "#2a3f5f"
            },
            "baxis": {
             "endlinecolor": "#2a3f5f",
             "gridcolor": "#C8D4E3",
             "linecolor": "#C8D4E3",
             "minorgridcolor": "#C8D4E3",
             "startlinecolor": "#2a3f5f"
            },
            "type": "carpet"
           }
          ],
          "choropleth": [
           {
            "colorbar": {
             "outlinewidth": 0,
             "ticks": ""
            },
            "type": "choropleth"
           }
          ],
          "contour": [
           {
            "colorbar": {
             "outlinewidth": 0,
             "ticks": ""
            },
            "colorscale": [
             [
              0,
              "#0d0887"
             ],
             [
              0.1111111111111111,
              "#46039f"
             ],
             [
              0.2222222222222222,
              "#7201a8"
             ],
             [
              0.3333333333333333,
              "#9c179e"
             ],
             [
              0.4444444444444444,
              "#bd3786"
             ],
             [
              0.5555555555555556,
              "#d8576b"
             ],
             [
              0.6666666666666666,
              "#ed7953"
             ],
             [
              0.7777777777777778,
              "#fb9f3a"
             ],
             [
              0.8888888888888888,
              "#fdca26"
             ],
             [
              1,
              "#f0f921"
             ]
            ],
            "type": "contour"
           }
          ],
          "contourcarpet": [
           {
            "colorbar": {
             "outlinewidth": 0,
             "ticks": ""
            },
            "type": "contourcarpet"
           }
          ],
          "heatmap": [
           {
            "colorbar": {
             "outlinewidth": 0,
             "ticks": ""
            },
            "colorscale": [
             [
              0,
              "#0d0887"
             ],
             [
              0.1111111111111111,
              "#46039f"
             ],
             [
              0.2222222222222222,
              "#7201a8"
             ],
             [
              0.3333333333333333,
              "#9c179e"
             ],
             [
              0.4444444444444444,
              "#bd3786"
             ],
             [
              0.5555555555555556,
              "#d8576b"
             ],
             [
              0.6666666666666666,
              "#ed7953"
             ],
             [
              0.7777777777777778,
              "#fb9f3a"
             ],
             [
              0.8888888888888888,
              "#fdca26"
             ],
             [
              1,
              "#f0f921"
             ]
            ],
            "type": "heatmap"
           }
          ],
          "heatmapgl": [
           {
            "colorbar": {
             "outlinewidth": 0,
             "ticks": ""
            },
            "colorscale": [
             [
              0,
              "#0d0887"
             ],
             [
              0.1111111111111111,
              "#46039f"
             ],
             [
              0.2222222222222222,
              "#7201a8"
             ],
             [
              0.3333333333333333,
              "#9c179e"
             ],
             [
              0.4444444444444444,
              "#bd3786"
             ],
             [
              0.5555555555555556,
              "#d8576b"
             ],
             [
              0.6666666666666666,
              "#ed7953"
             ],
             [
              0.7777777777777778,
              "#fb9f3a"
             ],
             [
              0.8888888888888888,
              "#fdca26"
             ],
             [
              1,
              "#f0f921"
             ]
            ],
            "type": "heatmapgl"
           }
          ],
          "histogram": [
           {
            "marker": {
             "colorbar": {
              "outlinewidth": 0,
              "ticks": ""
             }
            },
            "type": "histogram"
           }
          ],
          "histogram2d": [
           {
            "colorbar": {
             "outlinewidth": 0,
             "ticks": ""
            },
            "colorscale": [
             [
              0,
              "#0d0887"
             ],
             [
              0.1111111111111111,
              "#46039f"
             ],
             [
              0.2222222222222222,
              "#7201a8"
             ],
             [
              0.3333333333333333,
              "#9c179e"
             ],
             [
              0.4444444444444444,
              "#bd3786"
             ],
             [
              0.5555555555555556,
              "#d8576b"
             ],
             [
              0.6666666666666666,
              "#ed7953"
             ],
             [
              0.7777777777777778,
              "#fb9f3a"
             ],
             [
              0.8888888888888888,
              "#fdca26"
             ],
             [
              1,
              "#f0f921"
             ]
            ],
            "type": "histogram2d"
           }
          ],
          "histogram2dcontour": [
           {
            "colorbar": {
             "outlinewidth": 0,
             "ticks": ""
            },
            "colorscale": [
             [
              0,
              "#0d0887"
             ],
             [
              0.1111111111111111,
              "#46039f"
             ],
             [
              0.2222222222222222,
              "#7201a8"
             ],
             [
              0.3333333333333333,
              "#9c179e"
             ],
             [
              0.4444444444444444,
              "#bd3786"
             ],
             [
              0.5555555555555556,
              "#d8576b"
             ],
             [
              0.6666666666666666,
              "#ed7953"
             ],
             [
              0.7777777777777778,
              "#fb9f3a"
             ],
             [
              0.8888888888888888,
              "#fdca26"
             ],
             [
              1,
              "#f0f921"
             ]
            ],
            "type": "histogram2dcontour"
           }
          ],
          "mesh3d": [
           {
            "colorbar": {
             "outlinewidth": 0,
             "ticks": ""
            },
            "type": "mesh3d"
           }
          ],
          "parcoords": [
           {
            "line": {
             "colorbar": {
              "outlinewidth": 0,
              "ticks": ""
             }
            },
            "type": "parcoords"
           }
          ],
          "pie": [
           {
            "automargin": true,
            "type": "pie"
           }
          ],
          "scatter": [
           {
            "marker": {
             "colorbar": {
              "outlinewidth": 0,
              "ticks": ""
             }
            },
            "type": "scatter"
           }
          ],
          "scatter3d": [
           {
            "line": {
             "colorbar": {
              "outlinewidth": 0,
              "ticks": ""
             }
            },
            "marker": {
             "colorbar": {
              "outlinewidth": 0,
              "ticks": ""
             }
            },
            "type": "scatter3d"
           }
          ],
          "scattercarpet": [
           {
            "marker": {
             "colorbar": {
              "outlinewidth": 0,
              "ticks": ""
             }
            },
            "type": "scattercarpet"
           }
          ],
          "scattergeo": [
           {
            "marker": {
             "colorbar": {
              "outlinewidth": 0,
              "ticks": ""
             }
            },
            "type": "scattergeo"
           }
          ],
          "scattergl": [
           {
            "marker": {
             "colorbar": {
              "outlinewidth": 0,
              "ticks": ""
             }
            },
            "type": "scattergl"
           }
          ],
          "scattermapbox": [
           {
            "marker": {
             "colorbar": {
              "outlinewidth": 0,
              "ticks": ""
             }
            },
            "type": "scattermapbox"
           }
          ],
          "scatterpolar": [
           {
            "marker": {
             "colorbar": {
              "outlinewidth": 0,
              "ticks": ""
             }
            },
            "type": "scatterpolar"
           }
          ],
          "scatterpolargl": [
           {
            "marker": {
             "colorbar": {
              "outlinewidth": 0,
              "ticks": ""
             }
            },
            "type": "scatterpolargl"
           }
          ],
          "scatterternary": [
           {
            "marker": {
             "colorbar": {
              "outlinewidth": 0,
              "ticks": ""
             }
            },
            "type": "scatterternary"
           }
          ],
          "surface": [
           {
            "colorbar": {
             "outlinewidth": 0,
             "ticks": ""
            },
            "colorscale": [
             [
              0,
              "#0d0887"
             ],
             [
              0.1111111111111111,
              "#46039f"
             ],
             [
              0.2222222222222222,
              "#7201a8"
             ],
             [
              0.3333333333333333,
              "#9c179e"
             ],
             [
              0.4444444444444444,
              "#bd3786"
             ],
             [
              0.5555555555555556,
              "#d8576b"
             ],
             [
              0.6666666666666666,
              "#ed7953"
             ],
             [
              0.7777777777777778,
              "#fb9f3a"
             ],
             [
              0.8888888888888888,
              "#fdca26"
             ],
             [
              1,
              "#f0f921"
             ]
            ],
            "type": "surface"
           }
          ],
          "table": [
           {
            "cells": {
             "fill": {
              "color": "#EBF0F8"
             },
             "line": {
              "color": "white"
             }
            },
            "header": {
             "fill": {
              "color": "#C8D4E3"
             },
             "line": {
              "color": "white"
             }
            },
            "type": "table"
           }
          ]
         },
         "layout": {
          "annotationdefaults": {
           "arrowcolor": "#2a3f5f",
           "arrowhead": 0,
           "arrowwidth": 1
          },
          "coloraxis": {
           "colorbar": {
            "outlinewidth": 0,
            "ticks": ""
           }
          },
          "colorscale": {
           "diverging": [
            [
             0,
             "#8e0152"
            ],
            [
             0.1,
             "#c51b7d"
            ],
            [
             0.2,
             "#de77ae"
            ],
            [
             0.3,
             "#f1b6da"
            ],
            [
             0.4,
             "#fde0ef"
            ],
            [
             0.5,
             "#f7f7f7"
            ],
            [
             0.6,
             "#e6f5d0"
            ],
            [
             0.7,
             "#b8e186"
            ],
            [
             0.8,
             "#7fbc41"
            ],
            [
             0.9,
             "#4d9221"
            ],
            [
             1,
             "#276419"
            ]
           ],
           "sequential": [
            [
             0,
             "#0d0887"
            ],
            [
             0.1111111111111111,
             "#46039f"
            ],
            [
             0.2222222222222222,
             "#7201a8"
            ],
            [
             0.3333333333333333,
             "#9c179e"
            ],
            [
             0.4444444444444444,
             "#bd3786"
            ],
            [
             0.5555555555555556,
             "#d8576b"
            ],
            [
             0.6666666666666666,
             "#ed7953"
            ],
            [
             0.7777777777777778,
             "#fb9f3a"
            ],
            [
             0.8888888888888888,
             "#fdca26"
            ],
            [
             1,
             "#f0f921"
            ]
           ],
           "sequentialminus": [
            [
             0,
             "#0d0887"
            ],
            [
             0.1111111111111111,
             "#46039f"
            ],
            [
             0.2222222222222222,
             "#7201a8"
            ],
            [
             0.3333333333333333,
             "#9c179e"
            ],
            [
             0.4444444444444444,
             "#bd3786"
            ],
            [
             0.5555555555555556,
             "#d8576b"
            ],
            [
             0.6666666666666666,
             "#ed7953"
            ],
            [
             0.7777777777777778,
             "#fb9f3a"
            ],
            [
             0.8888888888888888,
             "#fdca26"
            ],
            [
             1,
             "#f0f921"
            ]
           ]
          },
          "colorway": [
           "#636efa",
           "#EF553B",
           "#00cc96",
           "#ab63fa",
           "#FFA15A",
           "#19d3f3",
           "#FF6692",
           "#B6E880",
           "#FF97FF",
           "#FECB52"
          ],
          "font": {
           "color": "#2a3f5f"
          },
          "geo": {
           "bgcolor": "white",
           "lakecolor": "white",
           "landcolor": "white",
           "showlakes": true,
           "showland": true,
           "subunitcolor": "#C8D4E3"
          },
          "hoverlabel": {
           "align": "left"
          },
          "hovermode": "closest",
          "mapbox": {
           "style": "light"
          },
          "paper_bgcolor": "white",
          "plot_bgcolor": "white",
          "polar": {
           "angularaxis": {
            "gridcolor": "#EBF0F8",
            "linecolor": "#EBF0F8",
            "ticks": ""
           },
           "bgcolor": "white",
           "radialaxis": {
            "gridcolor": "#EBF0F8",
            "linecolor": "#EBF0F8",
            "ticks": ""
           }
          },
          "scene": {
           "xaxis": {
            "backgroundcolor": "white",
            "gridcolor": "#DFE8F3",
            "gridwidth": 2,
            "linecolor": "#EBF0F8",
            "showbackground": true,
            "ticks": "",
            "zerolinecolor": "#EBF0F8"
           },
           "yaxis": {
            "backgroundcolor": "white",
            "gridcolor": "#DFE8F3",
            "gridwidth": 2,
            "linecolor": "#EBF0F8",
            "showbackground": true,
            "ticks": "",
            "zerolinecolor": "#EBF0F8"
           },
           "zaxis": {
            "backgroundcolor": "white",
            "gridcolor": "#DFE8F3",
            "gridwidth": 2,
            "linecolor": "#EBF0F8",
            "showbackground": true,
            "ticks": "",
            "zerolinecolor": "#EBF0F8"
           }
          },
          "shapedefaults": {
           "line": {
            "color": "#2a3f5f"
           }
          },
          "ternary": {
           "aaxis": {
            "gridcolor": "#DFE8F3",
            "linecolor": "#A2B1C6",
            "ticks": ""
           },
           "baxis": {
            "gridcolor": "#DFE8F3",
            "linecolor": "#A2B1C6",
            "ticks": ""
           },
           "bgcolor": "white",
           "caxis": {
            "gridcolor": "#DFE8F3",
            "linecolor": "#A2B1C6",
            "ticks": ""
           }
          },
          "title": {
           "x": 0.05
          },
          "xaxis": {
           "automargin": true,
           "gridcolor": "#EBF0F8",
           "linecolor": "#EBF0F8",
           "ticks": "",
           "title": {
            "standoff": 15
           },
           "zerolinecolor": "#EBF0F8",
           "zerolinewidth": 2
          },
          "yaxis": {
           "automargin": true,
           "gridcolor": "#EBF0F8",
           "linecolor": "#EBF0F8",
           "ticks": "",
           "title": {
            "standoff": 15
           },
           "zerolinecolor": "#EBF0F8",
           "zerolinewidth": 2
          }
         }
        },
        "title": {
         "text": "Taxa de reprodução efetiva nas UFs"
        }
       }
      },
      "text/html": [
       "<div>\n",
       "        \n",
       "        \n",
       "            <div id=\"485a4a06-1e5f-48b5-9446-76f1c8b22ddb\" class=\"plotly-graph-div\" style=\"height:525px; width:100%;\"></div>\n",
       "            <script type=\"text/javascript\">\n",
       "                require([\"plotly\"], function(Plotly) {\n",
       "                    window.PLOTLYENV=window.PLOTLYENV || {};\n",
       "                    \n",
       "                if (document.getElementById(\"485a4a06-1e5f-48b5-9446-76f1c8b22ddb\")) {\n",
       "                    Plotly.newPlot(\n",
       "                        '485a4a06-1e5f-48b5-9446-76f1c8b22ddb',\n",
       "                        [{\"error_y\": {\"array\": [0.1399999999999999, 0.09000000000000008, 0.040000000000000036, 0.1100000000000001, 0.07999999999999985, 0.050000000000000044, 0.1200000000000001, 0.09000000000000008, 0.11999999999999988, 0.06000000000000005, 0.09000000000000008, 0.2300000000000001, 0.19000000000000017, 0.05999999999999983, 0.08000000000000007, 0.06000000000000005, 0.10000000000000009, 0.09999999999999987, 0.050000000000000044, 0.1100000000000001, 0.1299999999999999, 0.16000000000000014, 0.10000000000000009, 0.09000000000000008, 0.1299999999999999, 0.030000000000000027, 0.22999999999999998], \"arrayminus\": [0.1399999999999999, 0.09000000000000008, 0.040000000000000036, 0.1100000000000001, 0.07999999999999985, 0.050000000000000044, 0.1200000000000001, 0.09000000000000008, 0.11999999999999988, 0.06000000000000005, 0.09000000000000008, 0.2300000000000001, 0.19000000000000017, 0.05999999999999983, 0.08000000000000007, 0.06000000000000005, 0.10000000000000009, 0.09999999999999987, 0.050000000000000044, 0.1100000000000001, 0.1299999999999999, 0.16000000000000014, 0.10000000000000009, 0.09000000000000008, 0.1299999999999999, 0.030000000000000027, 0.22999999999999998], \"symmetric\": false, \"type\": \"data\"}, \"marker\": {\"color\": [\"rgba(242,185,80,1)\", \"rgba(242,185,80,1)\", \"rgba(242,185,80,1)\", \"rgba(242,185,80,1)\", \"rgba(242,185,80,1)\", \"rgba(242,185,80,1)\", \"rgba(242,185,80,1)\", \"rgba(242,185,80,1)\", \"rgba(242,185,80,1)\", \"rgba(242,185,80,1)\", \"rgba(242,185,80,1)\", \"rgba(132,217,217,1)\", \"rgba(242,185,80,1)\", \"rgba(242,185,80,1)\", \"rgba(242,185,80,1)\", \"rgba(242,185,80,1)\", \"rgba(242,185,80,1)\", \"rgba(242,185,80,1)\", \"rgba(242,185,80,1)\", \"rgba(242,185,80,1)\", \"rgba(242,185,80,1)\", \"rgba(242,185,80,1)\", \"rgba(242,185,80,1)\", \"rgba(242,185,80,1)\", \"rgba(242,185,80,1)\", \"rgba(242,185,80,1)\", \"rgba(242,185,80,1)\"]}, \"type\": \"bar\", \"x\": [\"AC\", \"AL\", \"AM\", \"AP\", \"BA\", \"CE\", \"DF\", \"ES\", \"GO\", \"MA\", \"MG\", \"MS\", \"MT\", \"PA\", \"PB\", \"PE\", \"PI\", \"PR\", \"RJ\", \"RN\", \"RO\", \"RR\", \"RS\", \"SC\", \"SE\", \"SP\", \"TO\"], \"y\": [1.72, 1.61, 1.53, 1.58, 1.42, 1.47, 1.37, 1.5, 1.27, 1.6300000000000001, 1.35, 1.1300000000000001, 1.35, 1.72, 1.5, 1.32, 1.34, 1.22, 1.46, 1.33, 1.77, 1.58, 1.52, 1.32, 1.7, 1.24, 2.17]}],\n",
       "                        {\"shapes\": [{\"line\": {\"color\": \"#E5E5E5\", \"dash\": \"dash\", \"width\": 2}, \"type\": \"line\", \"x0\": -1, \"x1\": 27, \"y0\": 1, \"y1\": 1}], \"template\": {\"data\": {\"bar\": [{\"error_x\": {\"color\": \"#2a3f5f\"}, \"error_y\": {\"color\": \"#2a3f5f\"}, \"marker\": {\"line\": {\"color\": \"white\", \"width\": 0.5}}, \"type\": \"bar\"}], \"barpolar\": [{\"marker\": {\"line\": {\"color\": \"white\", \"width\": 0.5}}, \"type\": \"barpolar\"}], \"carpet\": [{\"aaxis\": {\"endlinecolor\": \"#2a3f5f\", \"gridcolor\": \"#C8D4E3\", \"linecolor\": \"#C8D4E3\", \"minorgridcolor\": \"#C8D4E3\", \"startlinecolor\": \"#2a3f5f\"}, \"baxis\": {\"endlinecolor\": \"#2a3f5f\", \"gridcolor\": \"#C8D4E3\", \"linecolor\": \"#C8D4E3\", \"minorgridcolor\": \"#C8D4E3\", \"startlinecolor\": \"#2a3f5f\"}, \"type\": \"carpet\"}], \"choropleth\": [{\"colorbar\": {\"outlinewidth\": 0, \"ticks\": \"\"}, \"type\": \"choropleth\"}], \"contour\": [{\"colorbar\": {\"outlinewidth\": 0, \"ticks\": \"\"}, \"colorscale\": [[0.0, \"#0d0887\"], [0.1111111111111111, \"#46039f\"], [0.2222222222222222, \"#7201a8\"], [0.3333333333333333, \"#9c179e\"], [0.4444444444444444, \"#bd3786\"], [0.5555555555555556, \"#d8576b\"], [0.6666666666666666, \"#ed7953\"], [0.7777777777777778, \"#fb9f3a\"], [0.8888888888888888, \"#fdca26\"], [1.0, \"#f0f921\"]], \"type\": \"contour\"}], \"contourcarpet\": [{\"colorbar\": {\"outlinewidth\": 0, \"ticks\": \"\"}, \"type\": \"contourcarpet\"}], \"heatmap\": [{\"colorbar\": {\"outlinewidth\": 0, \"ticks\": \"\"}, \"colorscale\": [[0.0, \"#0d0887\"], [0.1111111111111111, \"#46039f\"], [0.2222222222222222, \"#7201a8\"], [0.3333333333333333, \"#9c179e\"], [0.4444444444444444, \"#bd3786\"], [0.5555555555555556, \"#d8576b\"], [0.6666666666666666, \"#ed7953\"], [0.7777777777777778, \"#fb9f3a\"], [0.8888888888888888, \"#fdca26\"], [1.0, \"#f0f921\"]], \"type\": \"heatmap\"}], \"heatmapgl\": [{\"colorbar\": {\"outlinewidth\": 0, \"ticks\": \"\"}, \"colorscale\": [[0.0, \"#0d0887\"], [0.1111111111111111, \"#46039f\"], [0.2222222222222222, \"#7201a8\"], [0.3333333333333333, \"#9c179e\"], [0.4444444444444444, \"#bd3786\"], [0.5555555555555556, \"#d8576b\"], [0.6666666666666666, \"#ed7953\"], [0.7777777777777778, \"#fb9f3a\"], [0.8888888888888888, \"#fdca26\"], [1.0, \"#f0f921\"]], \"type\": \"heatmapgl\"}], \"histogram\": [{\"marker\": {\"colorbar\": {\"outlinewidth\": 0, \"ticks\": \"\"}}, \"type\": \"histogram\"}], \"histogram2d\": [{\"colorbar\": {\"outlinewidth\": 0, \"ticks\": \"\"}, \"colorscale\": [[0.0, \"#0d0887\"], [0.1111111111111111, \"#46039f\"], [0.2222222222222222, \"#7201a8\"], [0.3333333333333333, \"#9c179e\"], [0.4444444444444444, \"#bd3786\"], [0.5555555555555556, \"#d8576b\"], [0.6666666666666666, \"#ed7953\"], [0.7777777777777778, \"#fb9f3a\"], [0.8888888888888888, \"#fdca26\"], [1.0, \"#f0f921\"]], \"type\": \"histogram2d\"}], \"histogram2dcontour\": [{\"colorbar\": {\"outlinewidth\": 0, \"ticks\": \"\"}, \"colorscale\": [[0.0, \"#0d0887\"], [0.1111111111111111, \"#46039f\"], [0.2222222222222222, \"#7201a8\"], [0.3333333333333333, \"#9c179e\"], [0.4444444444444444, \"#bd3786\"], [0.5555555555555556, \"#d8576b\"], [0.6666666666666666, \"#ed7953\"], [0.7777777777777778, \"#fb9f3a\"], [0.8888888888888888, \"#fdca26\"], [1.0, \"#f0f921\"]], \"type\": \"histogram2dcontour\"}], \"mesh3d\": [{\"colorbar\": {\"outlinewidth\": 0, \"ticks\": \"\"}, \"type\": \"mesh3d\"}], \"parcoords\": [{\"line\": {\"colorbar\": {\"outlinewidth\": 0, \"ticks\": \"\"}}, \"type\": \"parcoords\"}], \"pie\": [{\"automargin\": true, \"type\": \"pie\"}], \"scatter\": [{\"marker\": {\"colorbar\": {\"outlinewidth\": 0, \"ticks\": \"\"}}, \"type\": \"scatter\"}], \"scatter3d\": [{\"line\": {\"colorbar\": {\"outlinewidth\": 0, \"ticks\": \"\"}}, \"marker\": {\"colorbar\": {\"outlinewidth\": 0, \"ticks\": \"\"}}, \"type\": \"scatter3d\"}], \"scattercarpet\": [{\"marker\": {\"colorbar\": {\"outlinewidth\": 0, \"ticks\": \"\"}}, \"type\": \"scattercarpet\"}], \"scattergeo\": [{\"marker\": {\"colorbar\": {\"outlinewidth\": 0, \"ticks\": \"\"}}, \"type\": \"scattergeo\"}], \"scattergl\": [{\"marker\": {\"colorbar\": {\"outlinewidth\": 0, \"ticks\": \"\"}}, \"type\": \"scattergl\"}], \"scattermapbox\": [{\"marker\": {\"colorbar\": {\"outlinewidth\": 0, \"ticks\": \"\"}}, \"type\": \"scattermapbox\"}], \"scatterpolar\": [{\"marker\": {\"colorbar\": {\"outlinewidth\": 0, \"ticks\": \"\"}}, \"type\": \"scatterpolar\"}], \"scatterpolargl\": [{\"marker\": {\"colorbar\": {\"outlinewidth\": 0, \"ticks\": \"\"}}, \"type\": \"scatterpolargl\"}], \"scatterternary\": [{\"marker\": {\"colorbar\": {\"outlinewidth\": 0, \"ticks\": \"\"}}, \"type\": \"scatterternary\"}], \"surface\": [{\"colorbar\": {\"outlinewidth\": 0, \"ticks\": \"\"}, \"colorscale\": [[0.0, \"#0d0887\"], [0.1111111111111111, \"#46039f\"], [0.2222222222222222, \"#7201a8\"], [0.3333333333333333, \"#9c179e\"], [0.4444444444444444, \"#bd3786\"], [0.5555555555555556, \"#d8576b\"], [0.6666666666666666, \"#ed7953\"], [0.7777777777777778, \"#fb9f3a\"], [0.8888888888888888, \"#fdca26\"], [1.0, \"#f0f921\"]], \"type\": \"surface\"}], \"table\": [{\"cells\": {\"fill\": {\"color\": \"#EBF0F8\"}, \"line\": {\"color\": \"white\"}}, \"header\": {\"fill\": {\"color\": \"#C8D4E3\"}, \"line\": {\"color\": \"white\"}}, \"type\": \"table\"}]}, \"layout\": {\"annotationdefaults\": {\"arrowcolor\": \"#2a3f5f\", \"arrowhead\": 0, \"arrowwidth\": 1}, \"coloraxis\": {\"colorbar\": {\"outlinewidth\": 0, \"ticks\": \"\"}}, \"colorscale\": {\"diverging\": [[0, \"#8e0152\"], [0.1, \"#c51b7d\"], [0.2, \"#de77ae\"], [0.3, \"#f1b6da\"], [0.4, \"#fde0ef\"], [0.5, \"#f7f7f7\"], [0.6, \"#e6f5d0\"], [0.7, \"#b8e186\"], [0.8, \"#7fbc41\"], [0.9, \"#4d9221\"], [1, \"#276419\"]], \"sequential\": [[0.0, \"#0d0887\"], [0.1111111111111111, \"#46039f\"], [0.2222222222222222, \"#7201a8\"], [0.3333333333333333, \"#9c179e\"], [0.4444444444444444, \"#bd3786\"], [0.5555555555555556, \"#d8576b\"], [0.6666666666666666, \"#ed7953\"], [0.7777777777777778, \"#fb9f3a\"], [0.8888888888888888, \"#fdca26\"], [1.0, \"#f0f921\"]], \"sequentialminus\": [[0.0, \"#0d0887\"], [0.1111111111111111, \"#46039f\"], [0.2222222222222222, \"#7201a8\"], [0.3333333333333333, \"#9c179e\"], [0.4444444444444444, \"#bd3786\"], [0.5555555555555556, \"#d8576b\"], [0.6666666666666666, \"#ed7953\"], [0.7777777777777778, \"#fb9f3a\"], [0.8888888888888888, \"#fdca26\"], [1.0, \"#f0f921\"]]}, \"colorway\": [\"#636efa\", \"#EF553B\", \"#00cc96\", \"#ab63fa\", \"#FFA15A\", \"#19d3f3\", \"#FF6692\", \"#B6E880\", \"#FF97FF\", \"#FECB52\"], \"font\": {\"color\": \"#2a3f5f\"}, \"geo\": {\"bgcolor\": \"white\", \"lakecolor\": \"white\", \"landcolor\": \"white\", \"showlakes\": true, \"showland\": true, \"subunitcolor\": \"#C8D4E3\"}, \"hoverlabel\": {\"align\": \"left\"}, \"hovermode\": \"closest\", \"mapbox\": {\"style\": \"light\"}, \"paper_bgcolor\": \"white\", \"plot_bgcolor\": \"white\", \"polar\": {\"angularaxis\": {\"gridcolor\": \"#EBF0F8\", \"linecolor\": \"#EBF0F8\", \"ticks\": \"\"}, \"bgcolor\": \"white\", \"radialaxis\": {\"gridcolor\": \"#EBF0F8\", \"linecolor\": \"#EBF0F8\", \"ticks\": \"\"}}, \"scene\": {\"xaxis\": {\"backgroundcolor\": \"white\", \"gridcolor\": \"#DFE8F3\", \"gridwidth\": 2, \"linecolor\": \"#EBF0F8\", \"showbackground\": true, \"ticks\": \"\", \"zerolinecolor\": \"#EBF0F8\"}, \"yaxis\": {\"backgroundcolor\": \"white\", \"gridcolor\": \"#DFE8F3\", \"gridwidth\": 2, \"linecolor\": \"#EBF0F8\", \"showbackground\": true, \"ticks\": \"\", \"zerolinecolor\": \"#EBF0F8\"}, \"zaxis\": {\"backgroundcolor\": \"white\", \"gridcolor\": \"#DFE8F3\", \"gridwidth\": 2, \"linecolor\": \"#EBF0F8\", \"showbackground\": true, \"ticks\": \"\", \"zerolinecolor\": \"#EBF0F8\"}}, \"shapedefaults\": {\"line\": {\"color\": \"#2a3f5f\"}}, \"ternary\": {\"aaxis\": {\"gridcolor\": \"#DFE8F3\", \"linecolor\": \"#A2B1C6\", \"ticks\": \"\"}, \"baxis\": {\"gridcolor\": \"#DFE8F3\", \"linecolor\": \"#A2B1C6\", \"ticks\": \"\"}, \"bgcolor\": \"white\", \"caxis\": {\"gridcolor\": \"#DFE8F3\", \"linecolor\": \"#A2B1C6\", \"ticks\": \"\"}}, \"title\": {\"x\": 0.05}, \"xaxis\": {\"automargin\": true, \"gridcolor\": \"#EBF0F8\", \"linecolor\": \"#EBF0F8\", \"ticks\": \"\", \"title\": {\"standoff\": 15}, \"zerolinecolor\": \"#EBF0F8\", \"zerolinewidth\": 2}, \"yaxis\": {\"automargin\": true, \"gridcolor\": \"#EBF0F8\", \"linecolor\": \"#EBF0F8\", \"ticks\": \"\", \"title\": {\"standoff\": 15}, \"zerolinecolor\": \"#EBF0F8\", \"zerolinewidth\": 2}}}, \"title\": {\"text\": \"Taxa de reprodu\\u00e7\\u00e3o efetiva nas UFs\"}},\n",
       "                        {\"responsive\": true}\n",
       "                    ).then(function(){\n",
       "                            \n",
       "var gd = document.getElementById('485a4a06-1e5f-48b5-9446-76f1c8b22ddb');\n",
       "var x = new MutationObserver(function (mutations, observer) {{\n",
       "        var display = window.getComputedStyle(gd).display;\n",
       "        if (!display || display === 'none') {{\n",
       "            console.log([gd, 'removed!']);\n",
       "            Plotly.purge(gd);\n",
       "            observer.disconnect();\n",
       "        }}\n",
       "}});\n",
       "\n",
       "// Listen for the removal of the full notebook cells\n",
       "var notebookContainer = gd.closest('#notebook-container');\n",
       "if (notebookContainer) {{\n",
       "    x.observe(notebookContainer, {childList: true});\n",
       "}}\n",
       "\n",
       "// Listen for the clearing of the current output cell\n",
       "var outputEl = gd.closest('.output');\n",
       "if (outputEl) {{\n",
       "    x.observe(outputEl, {childList: true});\n",
       "}}\n",
       "\n",
       "                        })\n",
       "                };\n",
       "                });\n",
       "            </script>\n",
       "        </div>"
      ]
     },
     "metadata": {},
     "output_type": "display_data"
    }
   ],
   "source": [
    "plot_rt_bars(state_results[state_results['last_updated'] == '2020-05-10'], 'Taxa de reprodução efetiva nas UFs')"
   ]
  },
  {
   "cell_type": "code",
   "execution_count": 483,
   "metadata": {},
   "outputs": [],
   "source": [
    "state = 'SE'"
   ]
  },
  {
   "cell_type": "code",
   "execution_count": 484,
   "metadata": {},
   "outputs": [
    {
     "data": {
      "application/vnd.plotly.v1+json": {
       "config": {
        "plotlyServerURL": "https://plot.ly"
       },
       "data": [
        {
         "fill": "tonexty",
         "line": {
          "color": "#E5E5E5",
          "width": 2
         },
         "mode": "lines",
         "showlegend": false,
         "type": "scattergl",
         "x": [
          "2020-04-08T00:00:00",
          "2020-04-09T00:00:00",
          "2020-04-10T00:00:00",
          "2020-04-11T00:00:00",
          "2020-04-12T00:00:00",
          "2020-04-13T00:00:00",
          "2020-04-14T00:00:00",
          "2020-04-15T00:00:00",
          "2020-04-16T00:00:00",
          "2020-04-17T00:00:00",
          "2020-04-18T00:00:00",
          "2020-04-19T00:00:00",
          "2020-04-20T00:00:00",
          "2020-04-21T00:00:00",
          "2020-04-22T00:00:00",
          "2020-04-23T00:00:00",
          "2020-04-24T00:00:00",
          "2020-04-25T00:00:00",
          "2020-04-26T00:00:00",
          "2020-04-27T00:00:00",
          "2020-04-28T00:00:00",
          "2020-04-29T00:00:00",
          "2020-04-30T00:00:00",
          "2020-05-01T00:00:00",
          "2020-05-02T00:00:00",
          "2020-05-03T00:00:00",
          "2020-05-04T00:00:00",
          "2020-05-05T00:00:00",
          "2020-05-06T00:00:00",
          "2020-05-07T00:00:00",
          "2020-05-08T00:00:00",
          "2020-05-09T00:00:00",
          "2020-05-10T00:00:00"
         ],
         "y": [
          78.4,
          26.5,
          22.7,
          20.4,
          19.1,
          17.8,
          16.7,
          16,
          15.9,
          16.3,
          16.8,
          17.3,
          17.7,
          17.8,
          18,
          18,
          18.1,
          18.6,
          19.1,
          19.8,
          20.2,
          20.6,
          20.5,
          20.1,
          19.5,
          18.900000000000002,
          18.5,
          18.3,
          18.3,
          18.6,
          18.6,
          18.400000000000002,
          18.1
         ]
        },
        {
         "fill": "tonexty",
         "line": {
          "color": "#E5E5E5",
          "width": 2
         },
         "mode": "lines",
         "name": "Intervalo de confiança - 95%",
         "showlegend": true,
         "type": "scattergl",
         "x": [
          "2020-04-08T00:00:00",
          "2020-04-09T00:00:00",
          "2020-04-10T00:00:00",
          "2020-04-11T00:00:00",
          "2020-04-12T00:00:00",
          "2020-04-13T00:00:00",
          "2020-04-14T00:00:00",
          "2020-04-15T00:00:00",
          "2020-04-16T00:00:00",
          "2020-04-17T00:00:00",
          "2020-04-18T00:00:00",
          "2020-04-19T00:00:00",
          "2020-04-20T00:00:00",
          "2020-04-21T00:00:00",
          "2020-04-22T00:00:00",
          "2020-04-23T00:00:00",
          "2020-04-24T00:00:00",
          "2020-04-25T00:00:00",
          "2020-04-26T00:00:00",
          "2020-04-27T00:00:00",
          "2020-04-28T00:00:00",
          "2020-04-29T00:00:00",
          "2020-04-30T00:00:00",
          "2020-05-01T00:00:00",
          "2020-05-02T00:00:00",
          "2020-05-03T00:00:00",
          "2020-05-04T00:00:00",
          "2020-05-05T00:00:00",
          "2020-05-06T00:00:00",
          "2020-05-07T00:00:00",
          "2020-05-08T00:00:00",
          "2020-05-09T00:00:00",
          "2020-05-10T00:00:00"
         ],
         "y": [
          6.7,
          6.5,
          7.3,
          7.3,
          7.6,
          7.4,
          7.1,
          7.000000000000001,
          7.4,
          8.3,
          9.200000000000001,
          10.1,
          10.9,
          11.3,
          11.899999999999999,
          12.2,
          12.6,
          13.4,
          14.2,
          15.2,
          15.8,
          16.5,
          16.6,
          16.5,
          16.1,
          15.600000000000001,
          15.4,
          15.3,
          15.4,
          15.9,
          16,
          15.9,
          15.700000000000001
         ]
        },
        {
         "line": {
          "color": "rgba(63, 61, 87, 0.8)",
          "width": 3
         },
         "mode": "lines",
         "name": "Valor médio <b>(atual=17.0)",
         "showlegend": true,
         "type": "scattergl",
         "x": [
          "2020-04-08T00:00:00",
          "2020-04-09T00:00:00",
          "2020-04-10T00:00:00",
          "2020-04-11T00:00:00",
          "2020-04-12T00:00:00",
          "2020-04-13T00:00:00",
          "2020-04-14T00:00:00",
          "2020-04-15T00:00:00",
          "2020-04-16T00:00:00",
          "2020-04-17T00:00:00",
          "2020-04-18T00:00:00",
          "2020-04-19T00:00:00",
          "2020-04-20T00:00:00",
          "2020-04-21T00:00:00",
          "2020-04-22T00:00:00",
          "2020-04-23T00:00:00",
          "2020-04-24T00:00:00",
          "2020-04-25T00:00:00",
          "2020-04-26T00:00:00",
          "2020-04-27T00:00:00",
          "2020-04-28T00:00:00",
          "2020-04-29T00:00:00",
          "2020-04-30T00:00:00",
          "2020-05-01T00:00:00",
          "2020-05-02T00:00:00",
          "2020-05-03T00:00:00",
          "2020-05-04T00:00:00",
          "2020-05-05T00:00:00",
          "2020-05-06T00:00:00",
          "2020-05-07T00:00:00",
          "2020-05-08T00:00:00",
          "2020-05-09T00:00:00",
          "2020-05-10T00:00:00"
         ],
         "y": [
          30,
          16.400000000000002,
          14.9,
          14.1,
          13.4,
          12.7,
          12.1,
          11.7,
          11.899999999999999,
          12.4,
          13.100000000000001,
          13.8,
          14.399999999999999,
          14.8,
          15.1,
          15.3,
          15.600000000000001,
          16.1,
          16.8,
          17.6,
          18.3,
          18.700000000000003,
          18.8,
          18.400000000000002,
          17.9,
          17.4,
          17,
          16.9,
          17.1,
          17.4,
          17.4,
          17.3,
          17
         ]
        },
        {
         "line": {
          "color": "rgba(132,217,217,1)",
          "dash": "dash",
          "width": 3
         },
         "name": "Risco médio: Acima desta linha, cada 10 pessoas infectam em média entre outras 10-12",
         "showlegend": true,
         "type": "scatter",
         "x": [
          "2020-04-08T00:00:00",
          "2020-04-09T00:00:00",
          "2020-04-10T00:00:00",
          "2020-04-11T00:00:00",
          "2020-04-12T00:00:00",
          "2020-04-13T00:00:00",
          "2020-04-14T00:00:00",
          "2020-04-15T00:00:00",
          "2020-04-16T00:00:00",
          "2020-04-17T00:00:00",
          "2020-04-18T00:00:00",
          "2020-04-19T00:00:00",
          "2020-04-20T00:00:00",
          "2020-04-21T00:00:00",
          "2020-04-22T00:00:00",
          "2020-04-23T00:00:00",
          "2020-04-24T00:00:00",
          "2020-04-25T00:00:00",
          "2020-04-26T00:00:00",
          "2020-04-27T00:00:00",
          "2020-04-28T00:00:00",
          "2020-04-29T00:00:00",
          "2020-04-30T00:00:00",
          "2020-05-01T00:00:00",
          "2020-05-02T00:00:00",
          "2020-05-03T00:00:00",
          "2020-05-04T00:00:00",
          "2020-05-05T00:00:00",
          "2020-05-06T00:00:00",
          "2020-05-07T00:00:00",
          "2020-05-08T00:00:00",
          "2020-05-09T00:00:00",
          "2020-05-10T00:00:00"
         ],
         "y": [
          10,
          10,
          10,
          10,
          10,
          10,
          10,
          10,
          10,
          10,
          10,
          10,
          10,
          10,
          10,
          10,
          10,
          10,
          10,
          10,
          10,
          10,
          10,
          10,
          10,
          10,
          10,
          10,
          10,
          10,
          10,
          10,
          10
         ]
        },
        {
         "line": {
          "color": "rgba(242,185,80,1)",
          "dash": "dash",
          "width": 3
         },
         "name": "Risco alto: Acima desta linha, cada 10 pessoas infectam em média mais de 12 outras",
         "showlegend": true,
         "type": "scatter",
         "x": [
          "2020-04-08T00:00:00",
          "2020-04-09T00:00:00",
          "2020-04-10T00:00:00",
          "2020-04-11T00:00:00",
          "2020-04-12T00:00:00",
          "2020-04-13T00:00:00",
          "2020-04-14T00:00:00",
          "2020-04-15T00:00:00",
          "2020-04-16T00:00:00",
          "2020-04-17T00:00:00",
          "2020-04-18T00:00:00",
          "2020-04-19T00:00:00",
          "2020-04-20T00:00:00",
          "2020-04-21T00:00:00",
          "2020-04-22T00:00:00",
          "2020-04-23T00:00:00",
          "2020-04-24T00:00:00",
          "2020-04-25T00:00:00",
          "2020-04-26T00:00:00",
          "2020-04-27T00:00:00",
          "2020-04-28T00:00:00",
          "2020-04-29T00:00:00",
          "2020-04-30T00:00:00",
          "2020-05-01T00:00:00",
          "2020-05-02T00:00:00",
          "2020-05-03T00:00:00",
          "2020-05-04T00:00:00",
          "2020-05-05T00:00:00",
          "2020-05-06T00:00:00",
          "2020-05-07T00:00:00",
          "2020-05-08T00:00:00",
          "2020-05-09T00:00:00",
          "2020-05-10T00:00:00"
         ],
         "y": [
          12,
          12,
          12,
          12,
          12,
          12,
          12,
          12,
          12,
          12,
          12,
          12,
          12,
          12,
          12,
          12,
          12,
          12,
          12,
          12,
          12,
          12,
          12,
          12,
          12,
          12,
          12,
          12,
          12,
          12,
          12,
          12,
          12
         ]
        }
       ],
       "layout": {
        "template": {
         "data": {
          "bar": [
           {
            "error_x": {
             "color": "#2a3f5f"
            },
            "error_y": {
             "color": "#2a3f5f"
            },
            "marker": {
             "line": {
              "color": "white",
              "width": 0.5
             }
            },
            "type": "bar"
           }
          ],
          "barpolar": [
           {
            "marker": {
             "line": {
              "color": "white",
              "width": 0.5
             }
            },
            "type": "barpolar"
           }
          ],
          "carpet": [
           {
            "aaxis": {
             "endlinecolor": "#2a3f5f",
             "gridcolor": "#C8D4E3",
             "linecolor": "#C8D4E3",
             "minorgridcolor": "#C8D4E3",
             "startlinecolor": "#2a3f5f"
            },
            "baxis": {
             "endlinecolor": "#2a3f5f",
             "gridcolor": "#C8D4E3",
             "linecolor": "#C8D4E3",
             "minorgridcolor": "#C8D4E3",
             "startlinecolor": "#2a3f5f"
            },
            "type": "carpet"
           }
          ],
          "choropleth": [
           {
            "colorbar": {
             "outlinewidth": 0,
             "ticks": ""
            },
            "type": "choropleth"
           }
          ],
          "contour": [
           {
            "colorbar": {
             "outlinewidth": 0,
             "ticks": ""
            },
            "colorscale": [
             [
              0,
              "#0d0887"
             ],
             [
              0.1111111111111111,
              "#46039f"
             ],
             [
              0.2222222222222222,
              "#7201a8"
             ],
             [
              0.3333333333333333,
              "#9c179e"
             ],
             [
              0.4444444444444444,
              "#bd3786"
             ],
             [
              0.5555555555555556,
              "#d8576b"
             ],
             [
              0.6666666666666666,
              "#ed7953"
             ],
             [
              0.7777777777777778,
              "#fb9f3a"
             ],
             [
              0.8888888888888888,
              "#fdca26"
             ],
             [
              1,
              "#f0f921"
             ]
            ],
            "type": "contour"
           }
          ],
          "contourcarpet": [
           {
            "colorbar": {
             "outlinewidth": 0,
             "ticks": ""
            },
            "type": "contourcarpet"
           }
          ],
          "heatmap": [
           {
            "colorbar": {
             "outlinewidth": 0,
             "ticks": ""
            },
            "colorscale": [
             [
              0,
              "#0d0887"
             ],
             [
              0.1111111111111111,
              "#46039f"
             ],
             [
              0.2222222222222222,
              "#7201a8"
             ],
             [
              0.3333333333333333,
              "#9c179e"
             ],
             [
              0.4444444444444444,
              "#bd3786"
             ],
             [
              0.5555555555555556,
              "#d8576b"
             ],
             [
              0.6666666666666666,
              "#ed7953"
             ],
             [
              0.7777777777777778,
              "#fb9f3a"
             ],
             [
              0.8888888888888888,
              "#fdca26"
             ],
             [
              1,
              "#f0f921"
             ]
            ],
            "type": "heatmap"
           }
          ],
          "heatmapgl": [
           {
            "colorbar": {
             "outlinewidth": 0,
             "ticks": ""
            },
            "colorscale": [
             [
              0,
              "#0d0887"
             ],
             [
              0.1111111111111111,
              "#46039f"
             ],
             [
              0.2222222222222222,
              "#7201a8"
             ],
             [
              0.3333333333333333,
              "#9c179e"
             ],
             [
              0.4444444444444444,
              "#bd3786"
             ],
             [
              0.5555555555555556,
              "#d8576b"
             ],
             [
              0.6666666666666666,
              "#ed7953"
             ],
             [
              0.7777777777777778,
              "#fb9f3a"
             ],
             [
              0.8888888888888888,
              "#fdca26"
             ],
             [
              1,
              "#f0f921"
             ]
            ],
            "type": "heatmapgl"
           }
          ],
          "histogram": [
           {
            "marker": {
             "colorbar": {
              "outlinewidth": 0,
              "ticks": ""
             }
            },
            "type": "histogram"
           }
          ],
          "histogram2d": [
           {
            "colorbar": {
             "outlinewidth": 0,
             "ticks": ""
            },
            "colorscale": [
             [
              0,
              "#0d0887"
             ],
             [
              0.1111111111111111,
              "#46039f"
             ],
             [
              0.2222222222222222,
              "#7201a8"
             ],
             [
              0.3333333333333333,
              "#9c179e"
             ],
             [
              0.4444444444444444,
              "#bd3786"
             ],
             [
              0.5555555555555556,
              "#d8576b"
             ],
             [
              0.6666666666666666,
              "#ed7953"
             ],
             [
              0.7777777777777778,
              "#fb9f3a"
             ],
             [
              0.8888888888888888,
              "#fdca26"
             ],
             [
              1,
              "#f0f921"
             ]
            ],
            "type": "histogram2d"
           }
          ],
          "histogram2dcontour": [
           {
            "colorbar": {
             "outlinewidth": 0,
             "ticks": ""
            },
            "colorscale": [
             [
              0,
              "#0d0887"
             ],
             [
              0.1111111111111111,
              "#46039f"
             ],
             [
              0.2222222222222222,
              "#7201a8"
             ],
             [
              0.3333333333333333,
              "#9c179e"
             ],
             [
              0.4444444444444444,
              "#bd3786"
             ],
             [
              0.5555555555555556,
              "#d8576b"
             ],
             [
              0.6666666666666666,
              "#ed7953"
             ],
             [
              0.7777777777777778,
              "#fb9f3a"
             ],
             [
              0.8888888888888888,
              "#fdca26"
             ],
             [
              1,
              "#f0f921"
             ]
            ],
            "type": "histogram2dcontour"
           }
          ],
          "mesh3d": [
           {
            "colorbar": {
             "outlinewidth": 0,
             "ticks": ""
            },
            "type": "mesh3d"
           }
          ],
          "parcoords": [
           {
            "line": {
             "colorbar": {
              "outlinewidth": 0,
              "ticks": ""
             }
            },
            "type": "parcoords"
           }
          ],
          "pie": [
           {
            "automargin": true,
            "type": "pie"
           }
          ],
          "scatter": [
           {
            "marker": {
             "colorbar": {
              "outlinewidth": 0,
              "ticks": ""
             }
            },
            "type": "scatter"
           }
          ],
          "scatter3d": [
           {
            "line": {
             "colorbar": {
              "outlinewidth": 0,
              "ticks": ""
             }
            },
            "marker": {
             "colorbar": {
              "outlinewidth": 0,
              "ticks": ""
             }
            },
            "type": "scatter3d"
           }
          ],
          "scattercarpet": [
           {
            "marker": {
             "colorbar": {
              "outlinewidth": 0,
              "ticks": ""
             }
            },
            "type": "scattercarpet"
           }
          ],
          "scattergeo": [
           {
            "marker": {
             "colorbar": {
              "outlinewidth": 0,
              "ticks": ""
             }
            },
            "type": "scattergeo"
           }
          ],
          "scattergl": [
           {
            "marker": {
             "colorbar": {
              "outlinewidth": 0,
              "ticks": ""
             }
            },
            "type": "scattergl"
           }
          ],
          "scattermapbox": [
           {
            "marker": {
             "colorbar": {
              "outlinewidth": 0,
              "ticks": ""
             }
            },
            "type": "scattermapbox"
           }
          ],
          "scatterpolar": [
           {
            "marker": {
             "colorbar": {
              "outlinewidth": 0,
              "ticks": ""
             }
            },
            "type": "scatterpolar"
           }
          ],
          "scatterpolargl": [
           {
            "marker": {
             "colorbar": {
              "outlinewidth": 0,
              "ticks": ""
             }
            },
            "type": "scatterpolargl"
           }
          ],
          "scatterternary": [
           {
            "marker": {
             "colorbar": {
              "outlinewidth": 0,
              "ticks": ""
             }
            },
            "type": "scatterternary"
           }
          ],
          "surface": [
           {
            "colorbar": {
             "outlinewidth": 0,
             "ticks": ""
            },
            "colorscale": [
             [
              0,
              "#0d0887"
             ],
             [
              0.1111111111111111,
              "#46039f"
             ],
             [
              0.2222222222222222,
              "#7201a8"
             ],
             [
              0.3333333333333333,
              "#9c179e"
             ],
             [
              0.4444444444444444,
              "#bd3786"
             ],
             [
              0.5555555555555556,
              "#d8576b"
             ],
             [
              0.6666666666666666,
              "#ed7953"
             ],
             [
              0.7777777777777778,
              "#fb9f3a"
             ],
             [
              0.8888888888888888,
              "#fdca26"
             ],
             [
              1,
              "#f0f921"
             ]
            ],
            "type": "surface"
           }
          ],
          "table": [
           {
            "cells": {
             "fill": {
              "color": "#EBF0F8"
             },
             "line": {
              "color": "white"
             }
            },
            "header": {
             "fill": {
              "color": "#C8D4E3"
             },
             "line": {
              "color": "white"
             }
            },
            "type": "table"
           }
          ]
         },
         "layout": {
          "annotationdefaults": {
           "arrowcolor": "#2a3f5f",
           "arrowhead": 0,
           "arrowwidth": 1
          },
          "coloraxis": {
           "colorbar": {
            "outlinewidth": 0,
            "ticks": ""
           }
          },
          "colorscale": {
           "diverging": [
            [
             0,
             "#8e0152"
            ],
            [
             0.1,
             "#c51b7d"
            ],
            [
             0.2,
             "#de77ae"
            ],
            [
             0.3,
             "#f1b6da"
            ],
            [
             0.4,
             "#fde0ef"
            ],
            [
             0.5,
             "#f7f7f7"
            ],
            [
             0.6,
             "#e6f5d0"
            ],
            [
             0.7,
             "#b8e186"
            ],
            [
             0.8,
             "#7fbc41"
            ],
            [
             0.9,
             "#4d9221"
            ],
            [
             1,
             "#276419"
            ]
           ],
           "sequential": [
            [
             0,
             "#0d0887"
            ],
            [
             0.1111111111111111,
             "#46039f"
            ],
            [
             0.2222222222222222,
             "#7201a8"
            ],
            [
             0.3333333333333333,
             "#9c179e"
            ],
            [
             0.4444444444444444,
             "#bd3786"
            ],
            [
             0.5555555555555556,
             "#d8576b"
            ],
            [
             0.6666666666666666,
             "#ed7953"
            ],
            [
             0.7777777777777778,
             "#fb9f3a"
            ],
            [
             0.8888888888888888,
             "#fdca26"
            ],
            [
             1,
             "#f0f921"
            ]
           ],
           "sequentialminus": [
            [
             0,
             "#0d0887"
            ],
            [
             0.1111111111111111,
             "#46039f"
            ],
            [
             0.2222222222222222,
             "#7201a8"
            ],
            [
             0.3333333333333333,
             "#9c179e"
            ],
            [
             0.4444444444444444,
             "#bd3786"
            ],
            [
             0.5555555555555556,
             "#d8576b"
            ],
            [
             0.6666666666666666,
             "#ed7953"
            ],
            [
             0.7777777777777778,
             "#fb9f3a"
            ],
            [
             0.8888888888888888,
             "#fdca26"
            ],
            [
             1,
             "#f0f921"
            ]
           ]
          },
          "colorway": [
           "#636efa",
           "#EF553B",
           "#00cc96",
           "#ab63fa",
           "#FFA15A",
           "#19d3f3",
           "#FF6692",
           "#B6E880",
           "#FF97FF",
           "#FECB52"
          ],
          "font": {
           "color": "#2a3f5f"
          },
          "geo": {
           "bgcolor": "white",
           "lakecolor": "white",
           "landcolor": "white",
           "showlakes": true,
           "showland": true,
           "subunitcolor": "#C8D4E3"
          },
          "hoverlabel": {
           "align": "left"
          },
          "hovermode": "closest",
          "mapbox": {
           "style": "light"
          },
          "paper_bgcolor": "white",
          "plot_bgcolor": "white",
          "polar": {
           "angularaxis": {
            "gridcolor": "#EBF0F8",
            "linecolor": "#EBF0F8",
            "ticks": ""
           },
           "bgcolor": "white",
           "radialaxis": {
            "gridcolor": "#EBF0F8",
            "linecolor": "#EBF0F8",
            "ticks": ""
           }
          },
          "scene": {
           "xaxis": {
            "backgroundcolor": "white",
            "gridcolor": "#DFE8F3",
            "gridwidth": 2,
            "linecolor": "#EBF0F8",
            "showbackground": true,
            "ticks": "",
            "zerolinecolor": "#EBF0F8"
           },
           "yaxis": {
            "backgroundcolor": "white",
            "gridcolor": "#DFE8F3",
            "gridwidth": 2,
            "linecolor": "#EBF0F8",
            "showbackground": true,
            "ticks": "",
            "zerolinecolor": "#EBF0F8"
           },
           "zaxis": {
            "backgroundcolor": "white",
            "gridcolor": "#DFE8F3",
            "gridwidth": 2,
            "linecolor": "#EBF0F8",
            "showbackground": true,
            "ticks": "",
            "zerolinecolor": "#EBF0F8"
           }
          },
          "shapedefaults": {
           "line": {
            "color": "#2a3f5f"
           }
          },
          "ternary": {
           "aaxis": {
            "gridcolor": "#DFE8F3",
            "linecolor": "#A2B1C6",
            "ticks": ""
           },
           "baxis": {
            "gridcolor": "#DFE8F3",
            "linecolor": "#A2B1C6",
            "ticks": ""
           },
           "bgcolor": "white",
           "caxis": {
            "gridcolor": "#DFE8F3",
            "linecolor": "#A2B1C6",
            "ticks": ""
           }
          },
          "title": {
           "x": 0.05
          },
          "xaxis": {
           "automargin": true,
           "gridcolor": "#EBF0F8",
           "linecolor": "#EBF0F8",
           "ticks": "",
           "title": {
            "standoff": 15
           },
           "zerolinecolor": "#EBF0F8",
           "zerolinewidth": 2
          },
          "yaxis": {
           "automargin": true,
           "gridcolor": "#EBF0F8",
           "linecolor": "#EBF0F8",
           "ticks": "",
           "title": {
            "standoff": 15
           },
           "zerolinecolor": "#EBF0F8",
           "zerolinewidth": 2
          }
         }
        },
        "title": {
         "text": "Evolução do número médio de crescimento da doença em SE"
        },
        "yaxis": {
         "rangemode": "tozero"
        }
       }
      },
      "text/html": [
       "<div>\n",
       "        \n",
       "        \n",
       "            <div id=\"9ad8f427-eb31-434f-935a-61cca8987661\" class=\"plotly-graph-div\" style=\"height:525px; width:100%;\"></div>\n",
       "            <script type=\"text/javascript\">\n",
       "                require([\"plotly\"], function(Plotly) {\n",
       "                    window.PLOTLYENV=window.PLOTLYENV || {};\n",
       "                    \n",
       "                if (document.getElementById(\"9ad8f427-eb31-434f-935a-61cca8987661\")) {\n",
       "                    Plotly.newPlot(\n",
       "                        '9ad8f427-eb31-434f-935a-61cca8987661',\n",
       "                        [{\"fill\": \"tonexty\", \"line\": {\"color\": \"#E5E5E5\", \"width\": 2}, \"mode\": \"lines\", \"showlegend\": false, \"type\": \"scattergl\", \"x\": [\"2020-04-08T00:00:00\", \"2020-04-09T00:00:00\", \"2020-04-10T00:00:00\", \"2020-04-11T00:00:00\", \"2020-04-12T00:00:00\", \"2020-04-13T00:00:00\", \"2020-04-14T00:00:00\", \"2020-04-15T00:00:00\", \"2020-04-16T00:00:00\", \"2020-04-17T00:00:00\", \"2020-04-18T00:00:00\", \"2020-04-19T00:00:00\", \"2020-04-20T00:00:00\", \"2020-04-21T00:00:00\", \"2020-04-22T00:00:00\", \"2020-04-23T00:00:00\", \"2020-04-24T00:00:00\", \"2020-04-25T00:00:00\", \"2020-04-26T00:00:00\", \"2020-04-27T00:00:00\", \"2020-04-28T00:00:00\", \"2020-04-29T00:00:00\", \"2020-04-30T00:00:00\", \"2020-05-01T00:00:00\", \"2020-05-02T00:00:00\", \"2020-05-03T00:00:00\", \"2020-05-04T00:00:00\", \"2020-05-05T00:00:00\", \"2020-05-06T00:00:00\", \"2020-05-07T00:00:00\", \"2020-05-08T00:00:00\", \"2020-05-09T00:00:00\", \"2020-05-10T00:00:00\"], \"y\": [78.4, 26.5, 22.7, 20.4, 19.1, 17.8, 16.7, 16.0, 15.9, 16.3, 16.8, 17.3, 17.7, 17.8, 18.0, 18.0, 18.1, 18.6, 19.1, 19.8, 20.2, 20.6, 20.5, 20.1, 19.5, 18.900000000000002, 18.5, 18.3, 18.3, 18.6, 18.6, 18.400000000000002, 18.1]}, {\"fill\": \"tonexty\", \"line\": {\"color\": \"#E5E5E5\", \"width\": 2}, \"mode\": \"lines\", \"name\": \"Intervalo de confian\\u00e7a - 95%\", \"showlegend\": true, \"type\": \"scattergl\", \"x\": [\"2020-04-08T00:00:00\", \"2020-04-09T00:00:00\", \"2020-04-10T00:00:00\", \"2020-04-11T00:00:00\", \"2020-04-12T00:00:00\", \"2020-04-13T00:00:00\", \"2020-04-14T00:00:00\", \"2020-04-15T00:00:00\", \"2020-04-16T00:00:00\", \"2020-04-17T00:00:00\", \"2020-04-18T00:00:00\", \"2020-04-19T00:00:00\", \"2020-04-20T00:00:00\", \"2020-04-21T00:00:00\", \"2020-04-22T00:00:00\", \"2020-04-23T00:00:00\", \"2020-04-24T00:00:00\", \"2020-04-25T00:00:00\", \"2020-04-26T00:00:00\", \"2020-04-27T00:00:00\", \"2020-04-28T00:00:00\", \"2020-04-29T00:00:00\", \"2020-04-30T00:00:00\", \"2020-05-01T00:00:00\", \"2020-05-02T00:00:00\", \"2020-05-03T00:00:00\", \"2020-05-04T00:00:00\", \"2020-05-05T00:00:00\", \"2020-05-06T00:00:00\", \"2020-05-07T00:00:00\", \"2020-05-08T00:00:00\", \"2020-05-09T00:00:00\", \"2020-05-10T00:00:00\"], \"y\": [6.7, 6.5, 7.3, 7.3, 7.6, 7.4, 7.1, 7.000000000000001, 7.4, 8.3, 9.200000000000001, 10.1, 10.9, 11.3, 11.899999999999999, 12.2, 12.6, 13.4, 14.2, 15.2, 15.8, 16.5, 16.6, 16.5, 16.1, 15.600000000000001, 15.4, 15.3, 15.4, 15.9, 16.0, 15.9, 15.700000000000001]}, {\"line\": {\"color\": \"rgba(63, 61, 87, 0.8)\", \"width\": 3}, \"mode\": \"lines\", \"name\": \"Valor m\\u00e9dio <b>(atual=17.0)\", \"showlegend\": true, \"type\": \"scattergl\", \"x\": [\"2020-04-08T00:00:00\", \"2020-04-09T00:00:00\", \"2020-04-10T00:00:00\", \"2020-04-11T00:00:00\", \"2020-04-12T00:00:00\", \"2020-04-13T00:00:00\", \"2020-04-14T00:00:00\", \"2020-04-15T00:00:00\", \"2020-04-16T00:00:00\", \"2020-04-17T00:00:00\", \"2020-04-18T00:00:00\", \"2020-04-19T00:00:00\", \"2020-04-20T00:00:00\", \"2020-04-21T00:00:00\", \"2020-04-22T00:00:00\", \"2020-04-23T00:00:00\", \"2020-04-24T00:00:00\", \"2020-04-25T00:00:00\", \"2020-04-26T00:00:00\", \"2020-04-27T00:00:00\", \"2020-04-28T00:00:00\", \"2020-04-29T00:00:00\", \"2020-04-30T00:00:00\", \"2020-05-01T00:00:00\", \"2020-05-02T00:00:00\", \"2020-05-03T00:00:00\", \"2020-05-04T00:00:00\", \"2020-05-05T00:00:00\", \"2020-05-06T00:00:00\", \"2020-05-07T00:00:00\", \"2020-05-08T00:00:00\", \"2020-05-09T00:00:00\", \"2020-05-10T00:00:00\"], \"y\": [30.0, 16.400000000000002, 14.9, 14.1, 13.4, 12.7, 12.1, 11.7, 11.899999999999999, 12.4, 13.100000000000001, 13.8, 14.399999999999999, 14.8, 15.1, 15.3, 15.600000000000001, 16.1, 16.8, 17.6, 18.3, 18.700000000000003, 18.8, 18.400000000000002, 17.9, 17.4, 17.0, 16.9, 17.1, 17.4, 17.4, 17.3, 17.0]}, {\"line\": {\"color\": \"rgba(132,217,217,1)\", \"dash\": \"dash\", \"width\": 3}, \"name\": \"Risco m\\u00e9dio: Acima desta linha, cada 10 pessoas infectam em m\\u00e9dia entre outras 10-12\", \"showlegend\": true, \"type\": \"scatter\", \"x\": [\"2020-04-08T00:00:00\", \"2020-04-09T00:00:00\", \"2020-04-10T00:00:00\", \"2020-04-11T00:00:00\", \"2020-04-12T00:00:00\", \"2020-04-13T00:00:00\", \"2020-04-14T00:00:00\", \"2020-04-15T00:00:00\", \"2020-04-16T00:00:00\", \"2020-04-17T00:00:00\", \"2020-04-18T00:00:00\", \"2020-04-19T00:00:00\", \"2020-04-20T00:00:00\", \"2020-04-21T00:00:00\", \"2020-04-22T00:00:00\", \"2020-04-23T00:00:00\", \"2020-04-24T00:00:00\", \"2020-04-25T00:00:00\", \"2020-04-26T00:00:00\", \"2020-04-27T00:00:00\", \"2020-04-28T00:00:00\", \"2020-04-29T00:00:00\", \"2020-04-30T00:00:00\", \"2020-05-01T00:00:00\", \"2020-05-02T00:00:00\", \"2020-05-03T00:00:00\", \"2020-05-04T00:00:00\", \"2020-05-05T00:00:00\", \"2020-05-06T00:00:00\", \"2020-05-07T00:00:00\", \"2020-05-08T00:00:00\", \"2020-05-09T00:00:00\", \"2020-05-10T00:00:00\"], \"y\": [10, 10, 10, 10, 10, 10, 10, 10, 10, 10, 10, 10, 10, 10, 10, 10, 10, 10, 10, 10, 10, 10, 10, 10, 10, 10, 10, 10, 10, 10, 10, 10, 10]}, {\"line\": {\"color\": \"rgba(242,185,80,1)\", \"dash\": \"dash\", \"width\": 3}, \"name\": \"Risco alto: Acima desta linha, cada 10 pessoas infectam em m\\u00e9dia mais de 12 outras\", \"showlegend\": true, \"type\": \"scatter\", \"x\": [\"2020-04-08T00:00:00\", \"2020-04-09T00:00:00\", \"2020-04-10T00:00:00\", \"2020-04-11T00:00:00\", \"2020-04-12T00:00:00\", \"2020-04-13T00:00:00\", \"2020-04-14T00:00:00\", \"2020-04-15T00:00:00\", \"2020-04-16T00:00:00\", \"2020-04-17T00:00:00\", \"2020-04-18T00:00:00\", \"2020-04-19T00:00:00\", \"2020-04-20T00:00:00\", \"2020-04-21T00:00:00\", \"2020-04-22T00:00:00\", \"2020-04-23T00:00:00\", \"2020-04-24T00:00:00\", \"2020-04-25T00:00:00\", \"2020-04-26T00:00:00\", \"2020-04-27T00:00:00\", \"2020-04-28T00:00:00\", \"2020-04-29T00:00:00\", \"2020-04-30T00:00:00\", \"2020-05-01T00:00:00\", \"2020-05-02T00:00:00\", \"2020-05-03T00:00:00\", \"2020-05-04T00:00:00\", \"2020-05-05T00:00:00\", \"2020-05-06T00:00:00\", \"2020-05-07T00:00:00\", \"2020-05-08T00:00:00\", \"2020-05-09T00:00:00\", \"2020-05-10T00:00:00\"], \"y\": [12.0, 12.0, 12.0, 12.0, 12.0, 12.0, 12.0, 12.0, 12.0, 12.0, 12.0, 12.0, 12.0, 12.0, 12.0, 12.0, 12.0, 12.0, 12.0, 12.0, 12.0, 12.0, 12.0, 12.0, 12.0, 12.0, 12.0, 12.0, 12.0, 12.0, 12.0, 12.0, 12.0]}],\n",
       "                        {\"template\": {\"data\": {\"bar\": [{\"error_x\": {\"color\": \"#2a3f5f\"}, \"error_y\": {\"color\": \"#2a3f5f\"}, \"marker\": {\"line\": {\"color\": \"white\", \"width\": 0.5}}, \"type\": \"bar\"}], \"barpolar\": [{\"marker\": {\"line\": {\"color\": \"white\", \"width\": 0.5}}, \"type\": \"barpolar\"}], \"carpet\": [{\"aaxis\": {\"endlinecolor\": \"#2a3f5f\", \"gridcolor\": \"#C8D4E3\", \"linecolor\": \"#C8D4E3\", \"minorgridcolor\": \"#C8D4E3\", \"startlinecolor\": \"#2a3f5f\"}, \"baxis\": {\"endlinecolor\": \"#2a3f5f\", \"gridcolor\": \"#C8D4E3\", \"linecolor\": \"#C8D4E3\", \"minorgridcolor\": \"#C8D4E3\", \"startlinecolor\": \"#2a3f5f\"}, \"type\": \"carpet\"}], \"choropleth\": [{\"colorbar\": {\"outlinewidth\": 0, \"ticks\": \"\"}, \"type\": \"choropleth\"}], \"contour\": [{\"colorbar\": {\"outlinewidth\": 0, \"ticks\": \"\"}, \"colorscale\": [[0.0, \"#0d0887\"], [0.1111111111111111, \"#46039f\"], [0.2222222222222222, \"#7201a8\"], [0.3333333333333333, \"#9c179e\"], [0.4444444444444444, \"#bd3786\"], [0.5555555555555556, \"#d8576b\"], [0.6666666666666666, \"#ed7953\"], [0.7777777777777778, \"#fb9f3a\"], [0.8888888888888888, \"#fdca26\"], [1.0, \"#f0f921\"]], \"type\": \"contour\"}], \"contourcarpet\": [{\"colorbar\": {\"outlinewidth\": 0, \"ticks\": \"\"}, \"type\": \"contourcarpet\"}], \"heatmap\": [{\"colorbar\": {\"outlinewidth\": 0, \"ticks\": \"\"}, \"colorscale\": [[0.0, \"#0d0887\"], [0.1111111111111111, \"#46039f\"], [0.2222222222222222, \"#7201a8\"], [0.3333333333333333, \"#9c179e\"], [0.4444444444444444, \"#bd3786\"], [0.5555555555555556, \"#d8576b\"], [0.6666666666666666, \"#ed7953\"], [0.7777777777777778, \"#fb9f3a\"], [0.8888888888888888, \"#fdca26\"], [1.0, \"#f0f921\"]], \"type\": \"heatmap\"}], \"heatmapgl\": [{\"colorbar\": {\"outlinewidth\": 0, \"ticks\": \"\"}, \"colorscale\": [[0.0, \"#0d0887\"], [0.1111111111111111, \"#46039f\"], [0.2222222222222222, \"#7201a8\"], [0.3333333333333333, \"#9c179e\"], [0.4444444444444444, \"#bd3786\"], [0.5555555555555556, \"#d8576b\"], [0.6666666666666666, \"#ed7953\"], [0.7777777777777778, \"#fb9f3a\"], [0.8888888888888888, \"#fdca26\"], [1.0, \"#f0f921\"]], \"type\": \"heatmapgl\"}], \"histogram\": [{\"marker\": {\"colorbar\": {\"outlinewidth\": 0, \"ticks\": \"\"}}, \"type\": \"histogram\"}], \"histogram2d\": [{\"colorbar\": {\"outlinewidth\": 0, \"ticks\": \"\"}, \"colorscale\": [[0.0, \"#0d0887\"], [0.1111111111111111, \"#46039f\"], [0.2222222222222222, \"#7201a8\"], [0.3333333333333333, \"#9c179e\"], [0.4444444444444444, \"#bd3786\"], [0.5555555555555556, \"#d8576b\"], [0.6666666666666666, \"#ed7953\"], [0.7777777777777778, \"#fb9f3a\"], [0.8888888888888888, \"#fdca26\"], [1.0, \"#f0f921\"]], \"type\": \"histogram2d\"}], \"histogram2dcontour\": [{\"colorbar\": {\"outlinewidth\": 0, \"ticks\": \"\"}, \"colorscale\": [[0.0, \"#0d0887\"], [0.1111111111111111, \"#46039f\"], [0.2222222222222222, \"#7201a8\"], [0.3333333333333333, \"#9c179e\"], [0.4444444444444444, \"#bd3786\"], [0.5555555555555556, \"#d8576b\"], [0.6666666666666666, \"#ed7953\"], [0.7777777777777778, \"#fb9f3a\"], [0.8888888888888888, \"#fdca26\"], [1.0, \"#f0f921\"]], \"type\": \"histogram2dcontour\"}], \"mesh3d\": [{\"colorbar\": {\"outlinewidth\": 0, \"ticks\": \"\"}, \"type\": \"mesh3d\"}], \"parcoords\": [{\"line\": {\"colorbar\": {\"outlinewidth\": 0, \"ticks\": \"\"}}, \"type\": \"parcoords\"}], \"pie\": [{\"automargin\": true, \"type\": \"pie\"}], \"scatter\": [{\"marker\": {\"colorbar\": {\"outlinewidth\": 0, \"ticks\": \"\"}}, \"type\": \"scatter\"}], \"scatter3d\": [{\"line\": {\"colorbar\": {\"outlinewidth\": 0, \"ticks\": \"\"}}, \"marker\": {\"colorbar\": {\"outlinewidth\": 0, \"ticks\": \"\"}}, \"type\": \"scatter3d\"}], \"scattercarpet\": [{\"marker\": {\"colorbar\": {\"outlinewidth\": 0, \"ticks\": \"\"}}, \"type\": \"scattercarpet\"}], \"scattergeo\": [{\"marker\": {\"colorbar\": {\"outlinewidth\": 0, \"ticks\": \"\"}}, \"type\": \"scattergeo\"}], \"scattergl\": [{\"marker\": {\"colorbar\": {\"outlinewidth\": 0, \"ticks\": \"\"}}, \"type\": \"scattergl\"}], \"scattermapbox\": [{\"marker\": {\"colorbar\": {\"outlinewidth\": 0, \"ticks\": \"\"}}, \"type\": \"scattermapbox\"}], \"scatterpolar\": [{\"marker\": {\"colorbar\": {\"outlinewidth\": 0, \"ticks\": \"\"}}, \"type\": \"scatterpolar\"}], \"scatterpolargl\": [{\"marker\": {\"colorbar\": {\"outlinewidth\": 0, \"ticks\": \"\"}}, \"type\": \"scatterpolargl\"}], \"scatterternary\": [{\"marker\": {\"colorbar\": {\"outlinewidth\": 0, \"ticks\": \"\"}}, \"type\": \"scatterternary\"}], \"surface\": [{\"colorbar\": {\"outlinewidth\": 0, \"ticks\": \"\"}, \"colorscale\": [[0.0, \"#0d0887\"], [0.1111111111111111, \"#46039f\"], [0.2222222222222222, \"#7201a8\"], [0.3333333333333333, \"#9c179e\"], [0.4444444444444444, \"#bd3786\"], [0.5555555555555556, \"#d8576b\"], [0.6666666666666666, \"#ed7953\"], [0.7777777777777778, \"#fb9f3a\"], [0.8888888888888888, \"#fdca26\"], [1.0, \"#f0f921\"]], \"type\": \"surface\"}], \"table\": [{\"cells\": {\"fill\": {\"color\": \"#EBF0F8\"}, \"line\": {\"color\": \"white\"}}, \"header\": {\"fill\": {\"color\": \"#C8D4E3\"}, \"line\": {\"color\": \"white\"}}, \"type\": \"table\"}]}, \"layout\": {\"annotationdefaults\": {\"arrowcolor\": \"#2a3f5f\", \"arrowhead\": 0, \"arrowwidth\": 1}, \"coloraxis\": {\"colorbar\": {\"outlinewidth\": 0, \"ticks\": \"\"}}, \"colorscale\": {\"diverging\": [[0, \"#8e0152\"], [0.1, \"#c51b7d\"], [0.2, \"#de77ae\"], [0.3, \"#f1b6da\"], [0.4, \"#fde0ef\"], [0.5, \"#f7f7f7\"], [0.6, \"#e6f5d0\"], [0.7, \"#b8e186\"], [0.8, \"#7fbc41\"], [0.9, \"#4d9221\"], [1, \"#276419\"]], \"sequential\": [[0.0, \"#0d0887\"], [0.1111111111111111, \"#46039f\"], [0.2222222222222222, \"#7201a8\"], [0.3333333333333333, \"#9c179e\"], [0.4444444444444444, \"#bd3786\"], [0.5555555555555556, \"#d8576b\"], [0.6666666666666666, \"#ed7953\"], [0.7777777777777778, \"#fb9f3a\"], [0.8888888888888888, \"#fdca26\"], [1.0, \"#f0f921\"]], \"sequentialminus\": [[0.0, \"#0d0887\"], [0.1111111111111111, \"#46039f\"], [0.2222222222222222, \"#7201a8\"], [0.3333333333333333, \"#9c179e\"], [0.4444444444444444, \"#bd3786\"], [0.5555555555555556, \"#d8576b\"], [0.6666666666666666, \"#ed7953\"], [0.7777777777777778, \"#fb9f3a\"], [0.8888888888888888, \"#fdca26\"], [1.0, \"#f0f921\"]]}, \"colorway\": [\"#636efa\", \"#EF553B\", \"#00cc96\", \"#ab63fa\", \"#FFA15A\", \"#19d3f3\", \"#FF6692\", \"#B6E880\", \"#FF97FF\", \"#FECB52\"], \"font\": {\"color\": \"#2a3f5f\"}, \"geo\": {\"bgcolor\": \"white\", \"lakecolor\": \"white\", \"landcolor\": \"white\", \"showlakes\": true, \"showland\": true, \"subunitcolor\": \"#C8D4E3\"}, \"hoverlabel\": {\"align\": \"left\"}, \"hovermode\": \"closest\", \"mapbox\": {\"style\": \"light\"}, \"paper_bgcolor\": \"white\", \"plot_bgcolor\": \"white\", \"polar\": {\"angularaxis\": {\"gridcolor\": \"#EBF0F8\", \"linecolor\": \"#EBF0F8\", \"ticks\": \"\"}, \"bgcolor\": \"white\", \"radialaxis\": {\"gridcolor\": \"#EBF0F8\", \"linecolor\": \"#EBF0F8\", \"ticks\": \"\"}}, \"scene\": {\"xaxis\": {\"backgroundcolor\": \"white\", \"gridcolor\": \"#DFE8F3\", \"gridwidth\": 2, \"linecolor\": \"#EBF0F8\", \"showbackground\": true, \"ticks\": \"\", \"zerolinecolor\": \"#EBF0F8\"}, \"yaxis\": {\"backgroundcolor\": \"white\", \"gridcolor\": \"#DFE8F3\", \"gridwidth\": 2, \"linecolor\": \"#EBF0F8\", \"showbackground\": true, \"ticks\": \"\", \"zerolinecolor\": \"#EBF0F8\"}, \"zaxis\": {\"backgroundcolor\": \"white\", \"gridcolor\": \"#DFE8F3\", \"gridwidth\": 2, \"linecolor\": \"#EBF0F8\", \"showbackground\": true, \"ticks\": \"\", \"zerolinecolor\": \"#EBF0F8\"}}, \"shapedefaults\": {\"line\": {\"color\": \"#2a3f5f\"}}, \"ternary\": {\"aaxis\": {\"gridcolor\": \"#DFE8F3\", \"linecolor\": \"#A2B1C6\", \"ticks\": \"\"}, \"baxis\": {\"gridcolor\": \"#DFE8F3\", \"linecolor\": \"#A2B1C6\", \"ticks\": \"\"}, \"bgcolor\": \"white\", \"caxis\": {\"gridcolor\": \"#DFE8F3\", \"linecolor\": \"#A2B1C6\", \"ticks\": \"\"}}, \"title\": {\"x\": 0.05}, \"xaxis\": {\"automargin\": true, \"gridcolor\": \"#EBF0F8\", \"linecolor\": \"#EBF0F8\", \"ticks\": \"\", \"title\": {\"standoff\": 15}, \"zerolinecolor\": \"#EBF0F8\", \"zerolinewidth\": 2}, \"yaxis\": {\"automargin\": true, \"gridcolor\": \"#EBF0F8\", \"linecolor\": \"#EBF0F8\", \"ticks\": \"\", \"title\": {\"standoff\": 15}, \"zerolinecolor\": \"#EBF0F8\", \"zerolinewidth\": 2}}}, \"title\": {\"text\": \"Evolu\\u00e7\\u00e3o do n\\u00famero m\\u00e9dio de crescimento da doen\\u00e7a em SE\"}, \"yaxis\": {\"rangemode\": \"tozero\"}},\n",
       "                        {\"responsive\": true}\n",
       "                    ).then(function(){\n",
       "                            \n",
       "var gd = document.getElementById('9ad8f427-eb31-434f-935a-61cca8987661');\n",
       "var x = new MutationObserver(function (mutations, observer) {{\n",
       "        var display = window.getComputedStyle(gd).display;\n",
       "        if (!display || display === 'none') {{\n",
       "            console.log([gd, 'removed!']);\n",
       "            Plotly.purge(gd);\n",
       "            observer.disconnect();\n",
       "        }}\n",
       "}});\n",
       "\n",
       "// Listen for the removal of the full notebook cells\n",
       "var notebookContainer = gd.closest('#notebook-container');\n",
       "if (notebookContainer) {{\n",
       "    x.observe(notebookContainer, {childList: true});\n",
       "}}\n",
       "\n",
       "// Listen for the clearing of the current output cell\n",
       "var outputEl = gd.closest('.output');\n",
       "if (outputEl) {{\n",
       "    x.observe(outputEl, {childList: true});\n",
       "}}\n",
       "\n",
       "                        })\n",
       "                };\n",
       "                });\n",
       "            </script>\n",
       "        </div>"
      ]
     },
     "metadata": {},
     "output_type": "display_data"
    }
   ],
   "source": [
    "plot_rt(state_results[state_results['state'] == state], \n",
    "        title='Evolução do número médio de crescimento da doença em {}'.format(state))"
   ]
  },
  {
   "cell_type": "markdown",
   "metadata": {},
   "source": [
    "### City"
   ]
  },
  {
   "cell_type": "code",
   "execution_count": 562,
   "metadata": {},
   "outputs": [
    {
     "data": {
      "application/vnd.plotly.v1+json": {
       "config": {
        "plotlyServerURL": "https://plot.ly"
       },
       "data": [
        {
         "error_y": {
          "array": [
           0.16999999999999993,
           0.75,
           2.1399999999999997,
           1.4300000000000002,
           0.52,
           1.08,
           0.63,
           0.52,
           0.5700000000000001,
           0.83,
           1.1700000000000002,
           0.95,
           0.42000000000000015,
           0.79,
           2.12,
           0.73,
           0.58,
           1.17
          ],
          "arrayminus": [
           0.16999999999999993,
           0.75,
           2.1399999999999997,
           1.4300000000000002,
           0.52,
           1.08,
           0.63,
           0.52,
           0.5700000000000001,
           0.83,
           1.1700000000000002,
           0.95,
           0.42000000000000015,
           0.79,
           2.12,
           0.73,
           0.58,
           1.17
          ],
          "symmetric": false,
          "type": "data"
         },
         "marker": {
          "color": [
           "rgba(242,185,80,1)",
           "rgba(242,185,80,1)",
           "rgba(242,185,80,1)",
           "rgba(242,185,80,1)",
           "rgba(242,185,80,1)",
           "rgba(242,185,80,1)",
           "rgba(242,185,80,1)",
           "rgba(242,185,80,1)",
           "rgba(242,185,80,1)",
           "rgba(242,185,80,1)",
           "rgba(242,185,80,1)",
           "rgba(242,185,80,1)",
           "rgba(242,185,80,1)",
           "rgba(242,185,80,1)",
           "rgba(242,185,80,1)",
           "rgba(242,185,80,1)",
           "rgba(242,185,80,1)",
           "rgba(242,185,80,1)"
          ]
         },
         "type": "bar",
         "x": [
          "Aracaju",
          "Barra dos Coqueiros",
          "Capela",
          "Cristinápolis",
          "Estância",
          "Indiaroba",
          "Itabaiana",
          "Itabaianinha",
          "Itaporanga d'Ajuda",
          "Lagarto",
          "Maruim",
          "Nossa Senhora da Glória",
          "Nossa Senhora do Socorro",
          "Porto da Folha",
          "Propriá",
          "São Cristóvão",
          "Simão Dias",
          "Tomar do Geru"
         ],
         "y": [
          1.68,
          1.81,
          2.88,
          2.1,
          1.26,
          1.58,
          1.58,
          1.28,
          1.58,
          1.68,
          1.9000000000000001,
          1.68,
          2.24,
          2.1,
          2.93,
          1.82,
          1.42,
          1.69
         ]
        }
       ],
       "layout": {
        "shapes": [
         {
          "line": {
           "color": "#E5E5E5",
           "dash": "dash",
           "width": 2
          },
          "type": "line",
          "x0": -1,
          "x1": 18,
          "y0": 1,
          "y1": 1
         }
        ],
        "template": {
         "data": {
          "bar": [
           {
            "error_x": {
             "color": "#2a3f5f"
            },
            "error_y": {
             "color": "#2a3f5f"
            },
            "marker": {
             "line": {
              "color": "white",
              "width": 0.5
             }
            },
            "type": "bar"
           }
          ],
          "barpolar": [
           {
            "marker": {
             "line": {
              "color": "white",
              "width": 0.5
             }
            },
            "type": "barpolar"
           }
          ],
          "carpet": [
           {
            "aaxis": {
             "endlinecolor": "#2a3f5f",
             "gridcolor": "#C8D4E3",
             "linecolor": "#C8D4E3",
             "minorgridcolor": "#C8D4E3",
             "startlinecolor": "#2a3f5f"
            },
            "baxis": {
             "endlinecolor": "#2a3f5f",
             "gridcolor": "#C8D4E3",
             "linecolor": "#C8D4E3",
             "minorgridcolor": "#C8D4E3",
             "startlinecolor": "#2a3f5f"
            },
            "type": "carpet"
           }
          ],
          "choropleth": [
           {
            "colorbar": {
             "outlinewidth": 0,
             "ticks": ""
            },
            "type": "choropleth"
           }
          ],
          "contour": [
           {
            "colorbar": {
             "outlinewidth": 0,
             "ticks": ""
            },
            "colorscale": [
             [
              0,
              "#0d0887"
             ],
             [
              0.1111111111111111,
              "#46039f"
             ],
             [
              0.2222222222222222,
              "#7201a8"
             ],
             [
              0.3333333333333333,
              "#9c179e"
             ],
             [
              0.4444444444444444,
              "#bd3786"
             ],
             [
              0.5555555555555556,
              "#d8576b"
             ],
             [
              0.6666666666666666,
              "#ed7953"
             ],
             [
              0.7777777777777778,
              "#fb9f3a"
             ],
             [
              0.8888888888888888,
              "#fdca26"
             ],
             [
              1,
              "#f0f921"
             ]
            ],
            "type": "contour"
           }
          ],
          "contourcarpet": [
           {
            "colorbar": {
             "outlinewidth": 0,
             "ticks": ""
            },
            "type": "contourcarpet"
           }
          ],
          "heatmap": [
           {
            "colorbar": {
             "outlinewidth": 0,
             "ticks": ""
            },
            "colorscale": [
             [
              0,
              "#0d0887"
             ],
             [
              0.1111111111111111,
              "#46039f"
             ],
             [
              0.2222222222222222,
              "#7201a8"
             ],
             [
              0.3333333333333333,
              "#9c179e"
             ],
             [
              0.4444444444444444,
              "#bd3786"
             ],
             [
              0.5555555555555556,
              "#d8576b"
             ],
             [
              0.6666666666666666,
              "#ed7953"
             ],
             [
              0.7777777777777778,
              "#fb9f3a"
             ],
             [
              0.8888888888888888,
              "#fdca26"
             ],
             [
              1,
              "#f0f921"
             ]
            ],
            "type": "heatmap"
           }
          ],
          "heatmapgl": [
           {
            "colorbar": {
             "outlinewidth": 0,
             "ticks": ""
            },
            "colorscale": [
             [
              0,
              "#0d0887"
             ],
             [
              0.1111111111111111,
              "#46039f"
             ],
             [
              0.2222222222222222,
              "#7201a8"
             ],
             [
              0.3333333333333333,
              "#9c179e"
             ],
             [
              0.4444444444444444,
              "#bd3786"
             ],
             [
              0.5555555555555556,
              "#d8576b"
             ],
             [
              0.6666666666666666,
              "#ed7953"
             ],
             [
              0.7777777777777778,
              "#fb9f3a"
             ],
             [
              0.8888888888888888,
              "#fdca26"
             ],
             [
              1,
              "#f0f921"
             ]
            ],
            "type": "heatmapgl"
           }
          ],
          "histogram": [
           {
            "marker": {
             "colorbar": {
              "outlinewidth": 0,
              "ticks": ""
             }
            },
            "type": "histogram"
           }
          ],
          "histogram2d": [
           {
            "colorbar": {
             "outlinewidth": 0,
             "ticks": ""
            },
            "colorscale": [
             [
              0,
              "#0d0887"
             ],
             [
              0.1111111111111111,
              "#46039f"
             ],
             [
              0.2222222222222222,
              "#7201a8"
             ],
             [
              0.3333333333333333,
              "#9c179e"
             ],
             [
              0.4444444444444444,
              "#bd3786"
             ],
             [
              0.5555555555555556,
              "#d8576b"
             ],
             [
              0.6666666666666666,
              "#ed7953"
             ],
             [
              0.7777777777777778,
              "#fb9f3a"
             ],
             [
              0.8888888888888888,
              "#fdca26"
             ],
             [
              1,
              "#f0f921"
             ]
            ],
            "type": "histogram2d"
           }
          ],
          "histogram2dcontour": [
           {
            "colorbar": {
             "outlinewidth": 0,
             "ticks": ""
            },
            "colorscale": [
             [
              0,
              "#0d0887"
             ],
             [
              0.1111111111111111,
              "#46039f"
             ],
             [
              0.2222222222222222,
              "#7201a8"
             ],
             [
              0.3333333333333333,
              "#9c179e"
             ],
             [
              0.4444444444444444,
              "#bd3786"
             ],
             [
              0.5555555555555556,
              "#d8576b"
             ],
             [
              0.6666666666666666,
              "#ed7953"
             ],
             [
              0.7777777777777778,
              "#fb9f3a"
             ],
             [
              0.8888888888888888,
              "#fdca26"
             ],
             [
              1,
              "#f0f921"
             ]
            ],
            "type": "histogram2dcontour"
           }
          ],
          "mesh3d": [
           {
            "colorbar": {
             "outlinewidth": 0,
             "ticks": ""
            },
            "type": "mesh3d"
           }
          ],
          "parcoords": [
           {
            "line": {
             "colorbar": {
              "outlinewidth": 0,
              "ticks": ""
             }
            },
            "type": "parcoords"
           }
          ],
          "pie": [
           {
            "automargin": true,
            "type": "pie"
           }
          ],
          "scatter": [
           {
            "marker": {
             "colorbar": {
              "outlinewidth": 0,
              "ticks": ""
             }
            },
            "type": "scatter"
           }
          ],
          "scatter3d": [
           {
            "line": {
             "colorbar": {
              "outlinewidth": 0,
              "ticks": ""
             }
            },
            "marker": {
             "colorbar": {
              "outlinewidth": 0,
              "ticks": ""
             }
            },
            "type": "scatter3d"
           }
          ],
          "scattercarpet": [
           {
            "marker": {
             "colorbar": {
              "outlinewidth": 0,
              "ticks": ""
             }
            },
            "type": "scattercarpet"
           }
          ],
          "scattergeo": [
           {
            "marker": {
             "colorbar": {
              "outlinewidth": 0,
              "ticks": ""
             }
            },
            "type": "scattergeo"
           }
          ],
          "scattergl": [
           {
            "marker": {
             "colorbar": {
              "outlinewidth": 0,
              "ticks": ""
             }
            },
            "type": "scattergl"
           }
          ],
          "scattermapbox": [
           {
            "marker": {
             "colorbar": {
              "outlinewidth": 0,
              "ticks": ""
             }
            },
            "type": "scattermapbox"
           }
          ],
          "scatterpolar": [
           {
            "marker": {
             "colorbar": {
              "outlinewidth": 0,
              "ticks": ""
             }
            },
            "type": "scatterpolar"
           }
          ],
          "scatterpolargl": [
           {
            "marker": {
             "colorbar": {
              "outlinewidth": 0,
              "ticks": ""
             }
            },
            "type": "scatterpolargl"
           }
          ],
          "scatterternary": [
           {
            "marker": {
             "colorbar": {
              "outlinewidth": 0,
              "ticks": ""
             }
            },
            "type": "scatterternary"
           }
          ],
          "surface": [
           {
            "colorbar": {
             "outlinewidth": 0,
             "ticks": ""
            },
            "colorscale": [
             [
              0,
              "#0d0887"
             ],
             [
              0.1111111111111111,
              "#46039f"
             ],
             [
              0.2222222222222222,
              "#7201a8"
             ],
             [
              0.3333333333333333,
              "#9c179e"
             ],
             [
              0.4444444444444444,
              "#bd3786"
             ],
             [
              0.5555555555555556,
              "#d8576b"
             ],
             [
              0.6666666666666666,
              "#ed7953"
             ],
             [
              0.7777777777777778,
              "#fb9f3a"
             ],
             [
              0.8888888888888888,
              "#fdca26"
             ],
             [
              1,
              "#f0f921"
             ]
            ],
            "type": "surface"
           }
          ],
          "table": [
           {
            "cells": {
             "fill": {
              "color": "#EBF0F8"
             },
             "line": {
              "color": "white"
             }
            },
            "header": {
             "fill": {
              "color": "#C8D4E3"
             },
             "line": {
              "color": "white"
             }
            },
            "type": "table"
           }
          ]
         },
         "layout": {
          "annotationdefaults": {
           "arrowcolor": "#2a3f5f",
           "arrowhead": 0,
           "arrowwidth": 1
          },
          "coloraxis": {
           "colorbar": {
            "outlinewidth": 0,
            "ticks": ""
           }
          },
          "colorscale": {
           "diverging": [
            [
             0,
             "#8e0152"
            ],
            [
             0.1,
             "#c51b7d"
            ],
            [
             0.2,
             "#de77ae"
            ],
            [
             0.3,
             "#f1b6da"
            ],
            [
             0.4,
             "#fde0ef"
            ],
            [
             0.5,
             "#f7f7f7"
            ],
            [
             0.6,
             "#e6f5d0"
            ],
            [
             0.7,
             "#b8e186"
            ],
            [
             0.8,
             "#7fbc41"
            ],
            [
             0.9,
             "#4d9221"
            ],
            [
             1,
             "#276419"
            ]
           ],
           "sequential": [
            [
             0,
             "#0d0887"
            ],
            [
             0.1111111111111111,
             "#46039f"
            ],
            [
             0.2222222222222222,
             "#7201a8"
            ],
            [
             0.3333333333333333,
             "#9c179e"
            ],
            [
             0.4444444444444444,
             "#bd3786"
            ],
            [
             0.5555555555555556,
             "#d8576b"
            ],
            [
             0.6666666666666666,
             "#ed7953"
            ],
            [
             0.7777777777777778,
             "#fb9f3a"
            ],
            [
             0.8888888888888888,
             "#fdca26"
            ],
            [
             1,
             "#f0f921"
            ]
           ],
           "sequentialminus": [
            [
             0,
             "#0d0887"
            ],
            [
             0.1111111111111111,
             "#46039f"
            ],
            [
             0.2222222222222222,
             "#7201a8"
            ],
            [
             0.3333333333333333,
             "#9c179e"
            ],
            [
             0.4444444444444444,
             "#bd3786"
            ],
            [
             0.5555555555555556,
             "#d8576b"
            ],
            [
             0.6666666666666666,
             "#ed7953"
            ],
            [
             0.7777777777777778,
             "#fb9f3a"
            ],
            [
             0.8888888888888888,
             "#fdca26"
            ],
            [
             1,
             "#f0f921"
            ]
           ]
          },
          "colorway": [
           "#636efa",
           "#EF553B",
           "#00cc96",
           "#ab63fa",
           "#FFA15A",
           "#19d3f3",
           "#FF6692",
           "#B6E880",
           "#FF97FF",
           "#FECB52"
          ],
          "font": {
           "color": "#2a3f5f"
          },
          "geo": {
           "bgcolor": "white",
           "lakecolor": "white",
           "landcolor": "white",
           "showlakes": true,
           "showland": true,
           "subunitcolor": "#C8D4E3"
          },
          "hoverlabel": {
           "align": "left"
          },
          "hovermode": "closest",
          "mapbox": {
           "style": "light"
          },
          "paper_bgcolor": "white",
          "plot_bgcolor": "white",
          "polar": {
           "angularaxis": {
            "gridcolor": "#EBF0F8",
            "linecolor": "#EBF0F8",
            "ticks": ""
           },
           "bgcolor": "white",
           "radialaxis": {
            "gridcolor": "#EBF0F8",
            "linecolor": "#EBF0F8",
            "ticks": ""
           }
          },
          "scene": {
           "xaxis": {
            "backgroundcolor": "white",
            "gridcolor": "#DFE8F3",
            "gridwidth": 2,
            "linecolor": "#EBF0F8",
            "showbackground": true,
            "ticks": "",
            "zerolinecolor": "#EBF0F8"
           },
           "yaxis": {
            "backgroundcolor": "white",
            "gridcolor": "#DFE8F3",
            "gridwidth": 2,
            "linecolor": "#EBF0F8",
            "showbackground": true,
            "ticks": "",
            "zerolinecolor": "#EBF0F8"
           },
           "zaxis": {
            "backgroundcolor": "white",
            "gridcolor": "#DFE8F3",
            "gridwidth": 2,
            "linecolor": "#EBF0F8",
            "showbackground": true,
            "ticks": "",
            "zerolinecolor": "#EBF0F8"
           }
          },
          "shapedefaults": {
           "line": {
            "color": "#2a3f5f"
           }
          },
          "ternary": {
           "aaxis": {
            "gridcolor": "#DFE8F3",
            "linecolor": "#A2B1C6",
            "ticks": ""
           },
           "baxis": {
            "gridcolor": "#DFE8F3",
            "linecolor": "#A2B1C6",
            "ticks": ""
           },
           "bgcolor": "white",
           "caxis": {
            "gridcolor": "#DFE8F3",
            "linecolor": "#A2B1C6",
            "ticks": ""
           }
          },
          "title": {
           "x": 0.05
          },
          "xaxis": {
           "automargin": true,
           "gridcolor": "#EBF0F8",
           "linecolor": "#EBF0F8",
           "ticks": "",
           "title": {
            "standoff": 15
           },
           "zerolinecolor": "#EBF0F8",
           "zerolinewidth": 2
          },
          "yaxis": {
           "automargin": true,
           "gridcolor": "#EBF0F8",
           "linecolor": "#EBF0F8",
           "ticks": "",
           "title": {
            "standoff": 15
           },
           "zerolinecolor": "#EBF0F8",
           "zerolinewidth": 2
          }
         }
        },
        "title": {
         "text": "Taxa de reprodução efetiva nas UFs"
        }
       }
      },
      "text/html": [
       "<div>\n",
       "        \n",
       "        \n",
       "            <div id=\"c723957e-0482-42a3-8273-bf1520600aec\" class=\"plotly-graph-div\" style=\"height:525px; width:100%;\"></div>\n",
       "            <script type=\"text/javascript\">\n",
       "                require([\"plotly\"], function(Plotly) {\n",
       "                    window.PLOTLYENV=window.PLOTLYENV || {};\n",
       "                    \n",
       "                if (document.getElementById(\"c723957e-0482-42a3-8273-bf1520600aec\")) {\n",
       "                    Plotly.newPlot(\n",
       "                        'c723957e-0482-42a3-8273-bf1520600aec',\n",
       "                        [{\"error_y\": {\"array\": [0.16999999999999993, 0.75, 2.1399999999999997, 1.4300000000000002, 0.52, 1.08, 0.63, 0.52, 0.5700000000000001, 0.83, 1.1700000000000002, 0.95, 0.42000000000000015, 0.79, 2.12, 0.73, 0.58, 1.17], \"arrayminus\": [0.16999999999999993, 0.75, 2.1399999999999997, 1.4300000000000002, 0.52, 1.08, 0.63, 0.52, 0.5700000000000001, 0.83, 1.1700000000000002, 0.95, 0.42000000000000015, 0.79, 2.12, 0.73, 0.58, 1.17], \"symmetric\": false, \"type\": \"data\"}, \"marker\": {\"color\": [\"rgba(242,185,80,1)\", \"rgba(242,185,80,1)\", \"rgba(242,185,80,1)\", \"rgba(242,185,80,1)\", \"rgba(242,185,80,1)\", \"rgba(242,185,80,1)\", \"rgba(242,185,80,1)\", \"rgba(242,185,80,1)\", \"rgba(242,185,80,1)\", \"rgba(242,185,80,1)\", \"rgba(242,185,80,1)\", \"rgba(242,185,80,1)\", \"rgba(242,185,80,1)\", \"rgba(242,185,80,1)\", \"rgba(242,185,80,1)\", \"rgba(242,185,80,1)\", \"rgba(242,185,80,1)\", \"rgba(242,185,80,1)\"]}, \"type\": \"bar\", \"x\": [\"Aracaju\", \"Barra dos Coqueiros\", \"Capela\", \"Cristin\\u00e1polis\", \"Est\\u00e2ncia\", \"Indiaroba\", \"Itabaiana\", \"Itabaianinha\", \"Itaporanga d'Ajuda\", \"Lagarto\", \"Maruim\", \"Nossa Senhora da Gl\\u00f3ria\", \"Nossa Senhora do Socorro\", \"Porto da Folha\", \"Propri\\u00e1\", \"S\\u00e3o Crist\\u00f3v\\u00e3o\", \"Sim\\u00e3o Dias\", \"Tomar do Geru\"], \"y\": [1.68, 1.81, 2.88, 2.1, 1.26, 1.58, 1.58, 1.28, 1.58, 1.68, 1.9000000000000001, 1.68, 2.24, 2.1, 2.93, 1.82, 1.42, 1.69]}],\n",
       "                        {\"shapes\": [{\"line\": {\"color\": \"#E5E5E5\", \"dash\": \"dash\", \"width\": 2}, \"type\": \"line\", \"x0\": -1, \"x1\": 18, \"y0\": 1, \"y1\": 1}], \"template\": {\"data\": {\"bar\": [{\"error_x\": {\"color\": \"#2a3f5f\"}, \"error_y\": {\"color\": \"#2a3f5f\"}, \"marker\": {\"line\": {\"color\": \"white\", \"width\": 0.5}}, \"type\": \"bar\"}], \"barpolar\": [{\"marker\": {\"line\": {\"color\": \"white\", \"width\": 0.5}}, \"type\": \"barpolar\"}], \"carpet\": [{\"aaxis\": {\"endlinecolor\": \"#2a3f5f\", \"gridcolor\": \"#C8D4E3\", \"linecolor\": \"#C8D4E3\", \"minorgridcolor\": \"#C8D4E3\", \"startlinecolor\": \"#2a3f5f\"}, \"baxis\": {\"endlinecolor\": \"#2a3f5f\", \"gridcolor\": \"#C8D4E3\", \"linecolor\": \"#C8D4E3\", \"minorgridcolor\": \"#C8D4E3\", \"startlinecolor\": \"#2a3f5f\"}, \"type\": \"carpet\"}], \"choropleth\": [{\"colorbar\": {\"outlinewidth\": 0, \"ticks\": \"\"}, \"type\": \"choropleth\"}], \"contour\": [{\"colorbar\": {\"outlinewidth\": 0, \"ticks\": \"\"}, \"colorscale\": [[0.0, \"#0d0887\"], [0.1111111111111111, \"#46039f\"], [0.2222222222222222, \"#7201a8\"], [0.3333333333333333, \"#9c179e\"], [0.4444444444444444, \"#bd3786\"], [0.5555555555555556, \"#d8576b\"], [0.6666666666666666, \"#ed7953\"], [0.7777777777777778, \"#fb9f3a\"], [0.8888888888888888, \"#fdca26\"], [1.0, \"#f0f921\"]], \"type\": \"contour\"}], \"contourcarpet\": [{\"colorbar\": {\"outlinewidth\": 0, \"ticks\": \"\"}, \"type\": \"contourcarpet\"}], \"heatmap\": [{\"colorbar\": {\"outlinewidth\": 0, \"ticks\": \"\"}, \"colorscale\": [[0.0, \"#0d0887\"], [0.1111111111111111, \"#46039f\"], [0.2222222222222222, \"#7201a8\"], [0.3333333333333333, \"#9c179e\"], [0.4444444444444444, \"#bd3786\"], [0.5555555555555556, \"#d8576b\"], [0.6666666666666666, \"#ed7953\"], [0.7777777777777778, \"#fb9f3a\"], [0.8888888888888888, \"#fdca26\"], [1.0, \"#f0f921\"]], \"type\": \"heatmap\"}], \"heatmapgl\": [{\"colorbar\": {\"outlinewidth\": 0, \"ticks\": \"\"}, \"colorscale\": [[0.0, \"#0d0887\"], [0.1111111111111111, \"#46039f\"], [0.2222222222222222, \"#7201a8\"], [0.3333333333333333, \"#9c179e\"], [0.4444444444444444, \"#bd3786\"], [0.5555555555555556, \"#d8576b\"], [0.6666666666666666, \"#ed7953\"], [0.7777777777777778, \"#fb9f3a\"], [0.8888888888888888, \"#fdca26\"], [1.0, \"#f0f921\"]], \"type\": \"heatmapgl\"}], \"histogram\": [{\"marker\": {\"colorbar\": {\"outlinewidth\": 0, \"ticks\": \"\"}}, \"type\": \"histogram\"}], \"histogram2d\": [{\"colorbar\": {\"outlinewidth\": 0, \"ticks\": \"\"}, \"colorscale\": [[0.0, \"#0d0887\"], [0.1111111111111111, \"#46039f\"], [0.2222222222222222, \"#7201a8\"], [0.3333333333333333, \"#9c179e\"], [0.4444444444444444, \"#bd3786\"], [0.5555555555555556, \"#d8576b\"], [0.6666666666666666, \"#ed7953\"], [0.7777777777777778, \"#fb9f3a\"], [0.8888888888888888, \"#fdca26\"], [1.0, \"#f0f921\"]], \"type\": \"histogram2d\"}], \"histogram2dcontour\": [{\"colorbar\": {\"outlinewidth\": 0, \"ticks\": \"\"}, \"colorscale\": [[0.0, \"#0d0887\"], [0.1111111111111111, \"#46039f\"], [0.2222222222222222, \"#7201a8\"], [0.3333333333333333, \"#9c179e\"], [0.4444444444444444, \"#bd3786\"], [0.5555555555555556, \"#d8576b\"], [0.6666666666666666, \"#ed7953\"], [0.7777777777777778, \"#fb9f3a\"], [0.8888888888888888, \"#fdca26\"], [1.0, \"#f0f921\"]], \"type\": \"histogram2dcontour\"}], \"mesh3d\": [{\"colorbar\": {\"outlinewidth\": 0, \"ticks\": \"\"}, \"type\": \"mesh3d\"}], \"parcoords\": [{\"line\": {\"colorbar\": {\"outlinewidth\": 0, \"ticks\": \"\"}}, \"type\": \"parcoords\"}], \"pie\": [{\"automargin\": true, \"type\": \"pie\"}], \"scatter\": [{\"marker\": {\"colorbar\": {\"outlinewidth\": 0, \"ticks\": \"\"}}, \"type\": \"scatter\"}], \"scatter3d\": [{\"line\": {\"colorbar\": {\"outlinewidth\": 0, \"ticks\": \"\"}}, \"marker\": {\"colorbar\": {\"outlinewidth\": 0, \"ticks\": \"\"}}, \"type\": \"scatter3d\"}], \"scattercarpet\": [{\"marker\": {\"colorbar\": {\"outlinewidth\": 0, \"ticks\": \"\"}}, \"type\": \"scattercarpet\"}], \"scattergeo\": [{\"marker\": {\"colorbar\": {\"outlinewidth\": 0, \"ticks\": \"\"}}, \"type\": \"scattergeo\"}], \"scattergl\": [{\"marker\": {\"colorbar\": {\"outlinewidth\": 0, \"ticks\": \"\"}}, \"type\": \"scattergl\"}], \"scattermapbox\": [{\"marker\": {\"colorbar\": {\"outlinewidth\": 0, \"ticks\": \"\"}}, \"type\": \"scattermapbox\"}], \"scatterpolar\": [{\"marker\": {\"colorbar\": {\"outlinewidth\": 0, \"ticks\": \"\"}}, \"type\": \"scatterpolar\"}], \"scatterpolargl\": [{\"marker\": {\"colorbar\": {\"outlinewidth\": 0, \"ticks\": \"\"}}, \"type\": \"scatterpolargl\"}], \"scatterternary\": [{\"marker\": {\"colorbar\": {\"outlinewidth\": 0, \"ticks\": \"\"}}, \"type\": \"scatterternary\"}], \"surface\": [{\"colorbar\": {\"outlinewidth\": 0, \"ticks\": \"\"}, \"colorscale\": [[0.0, \"#0d0887\"], [0.1111111111111111, \"#46039f\"], [0.2222222222222222, \"#7201a8\"], [0.3333333333333333, \"#9c179e\"], [0.4444444444444444, \"#bd3786\"], [0.5555555555555556, \"#d8576b\"], [0.6666666666666666, \"#ed7953\"], [0.7777777777777778, \"#fb9f3a\"], [0.8888888888888888, \"#fdca26\"], [1.0, \"#f0f921\"]], \"type\": \"surface\"}], \"table\": [{\"cells\": {\"fill\": {\"color\": \"#EBF0F8\"}, \"line\": {\"color\": \"white\"}}, \"header\": {\"fill\": {\"color\": \"#C8D4E3\"}, \"line\": {\"color\": \"white\"}}, \"type\": \"table\"}]}, \"layout\": {\"annotationdefaults\": {\"arrowcolor\": \"#2a3f5f\", \"arrowhead\": 0, \"arrowwidth\": 1}, \"coloraxis\": {\"colorbar\": {\"outlinewidth\": 0, \"ticks\": \"\"}}, \"colorscale\": {\"diverging\": [[0, \"#8e0152\"], [0.1, \"#c51b7d\"], [0.2, \"#de77ae\"], [0.3, \"#f1b6da\"], [0.4, \"#fde0ef\"], [0.5, \"#f7f7f7\"], [0.6, \"#e6f5d0\"], [0.7, \"#b8e186\"], [0.8, \"#7fbc41\"], [0.9, \"#4d9221\"], [1, \"#276419\"]], \"sequential\": [[0.0, \"#0d0887\"], [0.1111111111111111, \"#46039f\"], [0.2222222222222222, \"#7201a8\"], [0.3333333333333333, \"#9c179e\"], [0.4444444444444444, \"#bd3786\"], [0.5555555555555556, \"#d8576b\"], [0.6666666666666666, \"#ed7953\"], [0.7777777777777778, \"#fb9f3a\"], [0.8888888888888888, \"#fdca26\"], [1.0, \"#f0f921\"]], \"sequentialminus\": [[0.0, \"#0d0887\"], [0.1111111111111111, \"#46039f\"], [0.2222222222222222, \"#7201a8\"], [0.3333333333333333, \"#9c179e\"], [0.4444444444444444, \"#bd3786\"], [0.5555555555555556, \"#d8576b\"], [0.6666666666666666, \"#ed7953\"], [0.7777777777777778, \"#fb9f3a\"], [0.8888888888888888, \"#fdca26\"], [1.0, \"#f0f921\"]]}, \"colorway\": [\"#636efa\", \"#EF553B\", \"#00cc96\", \"#ab63fa\", \"#FFA15A\", \"#19d3f3\", \"#FF6692\", \"#B6E880\", \"#FF97FF\", \"#FECB52\"], \"font\": {\"color\": \"#2a3f5f\"}, \"geo\": {\"bgcolor\": \"white\", \"lakecolor\": \"white\", \"landcolor\": \"white\", \"showlakes\": true, \"showland\": true, \"subunitcolor\": \"#C8D4E3\"}, \"hoverlabel\": {\"align\": \"left\"}, \"hovermode\": \"closest\", \"mapbox\": {\"style\": \"light\"}, \"paper_bgcolor\": \"white\", \"plot_bgcolor\": \"white\", \"polar\": {\"angularaxis\": {\"gridcolor\": \"#EBF0F8\", \"linecolor\": \"#EBF0F8\", \"ticks\": \"\"}, \"bgcolor\": \"white\", \"radialaxis\": {\"gridcolor\": \"#EBF0F8\", \"linecolor\": \"#EBF0F8\", \"ticks\": \"\"}}, \"scene\": {\"xaxis\": {\"backgroundcolor\": \"white\", \"gridcolor\": \"#DFE8F3\", \"gridwidth\": 2, \"linecolor\": \"#EBF0F8\", \"showbackground\": true, \"ticks\": \"\", \"zerolinecolor\": \"#EBF0F8\"}, \"yaxis\": {\"backgroundcolor\": \"white\", \"gridcolor\": \"#DFE8F3\", \"gridwidth\": 2, \"linecolor\": \"#EBF0F8\", \"showbackground\": true, \"ticks\": \"\", \"zerolinecolor\": \"#EBF0F8\"}, \"zaxis\": {\"backgroundcolor\": \"white\", \"gridcolor\": \"#DFE8F3\", \"gridwidth\": 2, \"linecolor\": \"#EBF0F8\", \"showbackground\": true, \"ticks\": \"\", \"zerolinecolor\": \"#EBF0F8\"}}, \"shapedefaults\": {\"line\": {\"color\": \"#2a3f5f\"}}, \"ternary\": {\"aaxis\": {\"gridcolor\": \"#DFE8F3\", \"linecolor\": \"#A2B1C6\", \"ticks\": \"\"}, \"baxis\": {\"gridcolor\": \"#DFE8F3\", \"linecolor\": \"#A2B1C6\", \"ticks\": \"\"}, \"bgcolor\": \"white\", \"caxis\": {\"gridcolor\": \"#DFE8F3\", \"linecolor\": \"#A2B1C6\", \"ticks\": \"\"}}, \"title\": {\"x\": 0.05}, \"xaxis\": {\"automargin\": true, \"gridcolor\": \"#EBF0F8\", \"linecolor\": \"#EBF0F8\", \"ticks\": \"\", \"title\": {\"standoff\": 15}, \"zerolinecolor\": \"#EBF0F8\", \"zerolinewidth\": 2}, \"yaxis\": {\"automargin\": true, \"gridcolor\": \"#EBF0F8\", \"linecolor\": \"#EBF0F8\", \"ticks\": \"\", \"title\": {\"standoff\": 15}, \"zerolinecolor\": \"#EBF0F8\", \"zerolinewidth\": 2}}}, \"title\": {\"text\": \"Taxa de reprodu\\u00e7\\u00e3o efetiva nas UFs\"}},\n",
       "                        {\"responsive\": true}\n",
       "                    ).then(function(){\n",
       "                            \n",
       "var gd = document.getElementById('c723957e-0482-42a3-8273-bf1520600aec');\n",
       "var x = new MutationObserver(function (mutations, observer) {{\n",
       "        var display = window.getComputedStyle(gd).display;\n",
       "        if (!display || display === 'none') {{\n",
       "            console.log([gd, 'removed!']);\n",
       "            Plotly.purge(gd);\n",
       "            observer.disconnect();\n",
       "        }}\n",
       "}});\n",
       "\n",
       "// Listen for the removal of the full notebook cells\n",
       "var notebookContainer = gd.closest('#notebook-container');\n",
       "if (notebookContainer) {{\n",
       "    x.observe(notebookContainer, {childList: true});\n",
       "}}\n",
       "\n",
       "// Listen for the clearing of the current output cell\n",
       "var outputEl = gd.closest('.output');\n",
       "if (outputEl) {{\n",
       "    x.observe(outputEl, {childList: true});\n",
       "}}\n",
       "\n",
       "                        })\n",
       "                };\n",
       "                });\n",
       "            </script>\n",
       "        </div>"
      ]
     },
     "metadata": {},
     "output_type": "display_data"
    }
   ],
   "source": [
    "plot_rt_bars(city_results[city_results['last_updated'] == '2020-05-10'], \n",
    "             'Taxa de reprodução efetiva nas UFs',\n",
    "             place_type='city')"
   ]
  },
  {
   "cell_type": "code",
   "execution_count": 551,
   "metadata": {},
   "outputs": [],
   "source": [
    "city = 'Aracaju'"
   ]
  },
  {
   "cell_type": "code",
   "execution_count": 553,
   "metadata": {
    "scrolled": false
   },
   "outputs": [
    {
     "data": {
      "application/vnd.plotly.v1+json": {
       "config": {
        "plotlyServerURL": "https://plot.ly"
       },
       "data": [
        {
         "fill": "tonexty",
         "line": {
          "color": "#E5E5E5",
          "width": 2
         },
         "mode": "lines",
         "showlegend": false,
         "type": "scattergl",
         "x": [
          "2020-04-08T00:00:00",
          "2020-04-09T00:00:00",
          "2020-04-10T00:00:00",
          "2020-04-11T00:00:00",
          "2020-04-12T00:00:00",
          "2020-04-13T00:00:00",
          "2020-04-14T00:00:00",
          "2020-04-15T00:00:00",
          "2020-04-16T00:00:00",
          "2020-04-17T00:00:00",
          "2020-04-18T00:00:00",
          "2020-04-19T00:00:00",
          "2020-04-20T00:00:00",
          "2020-04-21T00:00:00",
          "2020-04-22T00:00:00",
          "2020-04-23T00:00:00",
          "2020-04-24T00:00:00",
          "2020-04-25T00:00:00",
          "2020-04-26T00:00:00",
          "2020-04-27T00:00:00",
          "2020-04-28T00:00:00",
          "2020-04-29T00:00:00",
          "2020-04-30T00:00:00",
          "2020-05-01T00:00:00",
          "2020-05-02T00:00:00",
          "2020-05-03T00:00:00",
          "2020-05-04T00:00:00",
          "2020-05-05T00:00:00",
          "2020-05-06T00:00:00",
          "2020-05-07T00:00:00",
          "2020-05-08T00:00:00",
          "2020-05-09T00:00:00",
          "2020-05-10T00:00:00"
         ],
         "y": [
          78.4,
          27.9,
          23.4,
          21.200000000000003,
          19.4,
          18,
          16.8,
          16,
          15.600000000000001,
          15.5,
          15.600000000000001,
          15.9,
          16.1,
          16.1,
          16.400000000000002,
          16.5,
          16.5,
          17,
          17.6,
          18.2,
          18.8,
          19.2,
          19,
          18.700000000000003,
          18.2,
          17.7,
          17.4,
          17.5,
          17.9,
          18.3,
          18.5,
          18.400000000000002,
          18.2
         ]
        },
        {
         "fill": "tonexty",
         "line": {
          "color": "#E5E5E5",
          "width": 2
         },
         "mode": "lines",
         "name": "Intervalo de confiança - 95%",
         "showlegend": true,
         "type": "scattergl",
         "x": [
          "2020-04-08T00:00:00",
          "2020-04-09T00:00:00",
          "2020-04-10T00:00:00",
          "2020-04-11T00:00:00",
          "2020-04-12T00:00:00",
          "2020-04-13T00:00:00",
          "2020-04-14T00:00:00",
          "2020-04-15T00:00:00",
          "2020-04-16T00:00:00",
          "2020-04-17T00:00:00",
          "2020-04-18T00:00:00",
          "2020-04-19T00:00:00",
          "2020-04-20T00:00:00",
          "2020-04-21T00:00:00",
          "2020-04-22T00:00:00",
          "2020-04-23T00:00:00",
          "2020-04-24T00:00:00",
          "2020-04-25T00:00:00",
          "2020-04-26T00:00:00",
          "2020-04-27T00:00:00",
          "2020-04-28T00:00:00",
          "2020-04-29T00:00:00",
          "2020-04-30T00:00:00",
          "2020-05-01T00:00:00",
          "2020-05-02T00:00:00",
          "2020-05-03T00:00:00",
          "2020-05-04T00:00:00",
          "2020-05-05T00:00:00",
          "2020-05-06T00:00:00",
          "2020-05-07T00:00:00",
          "2020-05-08T00:00:00",
          "2020-05-09T00:00:00",
          "2020-05-10T00:00:00"
         ],
         "y": [
          6.7,
          6.6000000000000005,
          6.800000000000001,
          7.1,
          6.9,
          6.7,
          6.4,
          6.3,
          6.4,
          6.7,
          7.1,
          7.800000000000001,
          8.3,
          8.6,
          9.3,
          9.7,
          9.9,
          10.700000000000001,
          11.6,
          12.5,
          13.4,
          14.1,
          14.1,
          14.1,
          13.8,
          13.5,
          13.3,
          13.600000000000001,
          14.2,
          14.7,
          15.1,
          15.1,
          15.1
         ]
        },
        {
         "line": {
          "color": "rgba(63, 61, 87, 0.8)",
          "width": 3
         },
         "mode": "lines",
         "name": "Valor médio <b>(atual=16.8)",
         "showlegend": true,
         "type": "scattergl",
         "x": [
          "2020-04-08T00:00:00",
          "2020-04-09T00:00:00",
          "2020-04-10T00:00:00",
          "2020-04-11T00:00:00",
          "2020-04-12T00:00:00",
          "2020-04-13T00:00:00",
          "2020-04-14T00:00:00",
          "2020-04-15T00:00:00",
          "2020-04-16T00:00:00",
          "2020-04-17T00:00:00",
          "2020-04-18T00:00:00",
          "2020-04-19T00:00:00",
          "2020-04-20T00:00:00",
          "2020-04-21T00:00:00",
          "2020-04-22T00:00:00",
          "2020-04-23T00:00:00",
          "2020-04-24T00:00:00",
          "2020-04-25T00:00:00",
          "2020-04-26T00:00:00",
          "2020-04-27T00:00:00",
          "2020-04-28T00:00:00",
          "2020-04-29T00:00:00",
          "2020-04-30T00:00:00",
          "2020-05-01T00:00:00",
          "2020-05-02T00:00:00",
          "2020-05-03T00:00:00",
          "2020-05-04T00:00:00",
          "2020-05-05T00:00:00",
          "2020-05-06T00:00:00",
          "2020-05-07T00:00:00",
          "2020-05-08T00:00:00",
          "2020-05-09T00:00:00",
          "2020-05-10T00:00:00"
         ],
         "y": [
          30,
          16.8,
          15.2,
          14.299999999999999,
          13.4,
          12.6,
          11.799999999999999,
          11.200000000000001,
          11.100000000000001,
          11.3,
          11.7,
          12.1,
          12.4,
          12.7,
          12.9,
          13.200000000000001,
          13.5,
          14.1,
          14.7,
          15.600000000000001,
          16.3,
          16.7,
          16.8,
          16.5,
          16.1,
          15.700000000000001,
          15.5,
          15.700000000000001,
          16.1,
          16.6,
          16.9,
          16.9,
          16.8
         ]
        },
        {
         "line": {
          "color": "rgba(132,217,217,1)",
          "dash": "dash",
          "width": 3
         },
         "name": "Risco médio: Acima desta linha, cada 10 pessoas infectam em média entre outras 10-12",
         "showlegend": true,
         "type": "scatter",
         "x": [
          "2020-04-08T00:00:00",
          "2020-04-09T00:00:00",
          "2020-04-10T00:00:00",
          "2020-04-11T00:00:00",
          "2020-04-12T00:00:00",
          "2020-04-13T00:00:00",
          "2020-04-14T00:00:00",
          "2020-04-15T00:00:00",
          "2020-04-16T00:00:00",
          "2020-04-17T00:00:00",
          "2020-04-18T00:00:00",
          "2020-04-19T00:00:00",
          "2020-04-20T00:00:00",
          "2020-04-21T00:00:00",
          "2020-04-22T00:00:00",
          "2020-04-23T00:00:00",
          "2020-04-24T00:00:00",
          "2020-04-25T00:00:00",
          "2020-04-26T00:00:00",
          "2020-04-27T00:00:00",
          "2020-04-28T00:00:00",
          "2020-04-29T00:00:00",
          "2020-04-30T00:00:00",
          "2020-05-01T00:00:00",
          "2020-05-02T00:00:00",
          "2020-05-03T00:00:00",
          "2020-05-04T00:00:00",
          "2020-05-05T00:00:00",
          "2020-05-06T00:00:00",
          "2020-05-07T00:00:00",
          "2020-05-08T00:00:00",
          "2020-05-09T00:00:00",
          "2020-05-10T00:00:00"
         ],
         "y": [
          10,
          10,
          10,
          10,
          10,
          10,
          10,
          10,
          10,
          10,
          10,
          10,
          10,
          10,
          10,
          10,
          10,
          10,
          10,
          10,
          10,
          10,
          10,
          10,
          10,
          10,
          10,
          10,
          10,
          10,
          10,
          10,
          10
         ]
        },
        {
         "line": {
          "color": "rgba(242,185,80,1)",
          "dash": "dash",
          "width": 3
         },
         "name": "Risco alto: Acima desta linha, cada 10 pessoas infectam em média mais de 12 outras",
         "showlegend": true,
         "type": "scatter",
         "x": [
          "2020-04-08T00:00:00",
          "2020-04-09T00:00:00",
          "2020-04-10T00:00:00",
          "2020-04-11T00:00:00",
          "2020-04-12T00:00:00",
          "2020-04-13T00:00:00",
          "2020-04-14T00:00:00",
          "2020-04-15T00:00:00",
          "2020-04-16T00:00:00",
          "2020-04-17T00:00:00",
          "2020-04-18T00:00:00",
          "2020-04-19T00:00:00",
          "2020-04-20T00:00:00",
          "2020-04-21T00:00:00",
          "2020-04-22T00:00:00",
          "2020-04-23T00:00:00",
          "2020-04-24T00:00:00",
          "2020-04-25T00:00:00",
          "2020-04-26T00:00:00",
          "2020-04-27T00:00:00",
          "2020-04-28T00:00:00",
          "2020-04-29T00:00:00",
          "2020-04-30T00:00:00",
          "2020-05-01T00:00:00",
          "2020-05-02T00:00:00",
          "2020-05-03T00:00:00",
          "2020-05-04T00:00:00",
          "2020-05-05T00:00:00",
          "2020-05-06T00:00:00",
          "2020-05-07T00:00:00",
          "2020-05-08T00:00:00",
          "2020-05-09T00:00:00",
          "2020-05-10T00:00:00"
         ],
         "y": [
          12,
          12,
          12,
          12,
          12,
          12,
          12,
          12,
          12,
          12,
          12,
          12,
          12,
          12,
          12,
          12,
          12,
          12,
          12,
          12,
          12,
          12,
          12,
          12,
          12,
          12,
          12,
          12,
          12,
          12,
          12,
          12,
          12
         ]
        }
       ],
       "layout": {
        "template": {
         "data": {
          "bar": [
           {
            "error_x": {
             "color": "#2a3f5f"
            },
            "error_y": {
             "color": "#2a3f5f"
            },
            "marker": {
             "line": {
              "color": "white",
              "width": 0.5
             }
            },
            "type": "bar"
           }
          ],
          "barpolar": [
           {
            "marker": {
             "line": {
              "color": "white",
              "width": 0.5
             }
            },
            "type": "barpolar"
           }
          ],
          "carpet": [
           {
            "aaxis": {
             "endlinecolor": "#2a3f5f",
             "gridcolor": "#C8D4E3",
             "linecolor": "#C8D4E3",
             "minorgridcolor": "#C8D4E3",
             "startlinecolor": "#2a3f5f"
            },
            "baxis": {
             "endlinecolor": "#2a3f5f",
             "gridcolor": "#C8D4E3",
             "linecolor": "#C8D4E3",
             "minorgridcolor": "#C8D4E3",
             "startlinecolor": "#2a3f5f"
            },
            "type": "carpet"
           }
          ],
          "choropleth": [
           {
            "colorbar": {
             "outlinewidth": 0,
             "ticks": ""
            },
            "type": "choropleth"
           }
          ],
          "contour": [
           {
            "colorbar": {
             "outlinewidth": 0,
             "ticks": ""
            },
            "colorscale": [
             [
              0,
              "#0d0887"
             ],
             [
              0.1111111111111111,
              "#46039f"
             ],
             [
              0.2222222222222222,
              "#7201a8"
             ],
             [
              0.3333333333333333,
              "#9c179e"
             ],
             [
              0.4444444444444444,
              "#bd3786"
             ],
             [
              0.5555555555555556,
              "#d8576b"
             ],
             [
              0.6666666666666666,
              "#ed7953"
             ],
             [
              0.7777777777777778,
              "#fb9f3a"
             ],
             [
              0.8888888888888888,
              "#fdca26"
             ],
             [
              1,
              "#f0f921"
             ]
            ],
            "type": "contour"
           }
          ],
          "contourcarpet": [
           {
            "colorbar": {
             "outlinewidth": 0,
             "ticks": ""
            },
            "type": "contourcarpet"
           }
          ],
          "heatmap": [
           {
            "colorbar": {
             "outlinewidth": 0,
             "ticks": ""
            },
            "colorscale": [
             [
              0,
              "#0d0887"
             ],
             [
              0.1111111111111111,
              "#46039f"
             ],
             [
              0.2222222222222222,
              "#7201a8"
             ],
             [
              0.3333333333333333,
              "#9c179e"
             ],
             [
              0.4444444444444444,
              "#bd3786"
             ],
             [
              0.5555555555555556,
              "#d8576b"
             ],
             [
              0.6666666666666666,
              "#ed7953"
             ],
             [
              0.7777777777777778,
              "#fb9f3a"
             ],
             [
              0.8888888888888888,
              "#fdca26"
             ],
             [
              1,
              "#f0f921"
             ]
            ],
            "type": "heatmap"
           }
          ],
          "heatmapgl": [
           {
            "colorbar": {
             "outlinewidth": 0,
             "ticks": ""
            },
            "colorscale": [
             [
              0,
              "#0d0887"
             ],
             [
              0.1111111111111111,
              "#46039f"
             ],
             [
              0.2222222222222222,
              "#7201a8"
             ],
             [
              0.3333333333333333,
              "#9c179e"
             ],
             [
              0.4444444444444444,
              "#bd3786"
             ],
             [
              0.5555555555555556,
              "#d8576b"
             ],
             [
              0.6666666666666666,
              "#ed7953"
             ],
             [
              0.7777777777777778,
              "#fb9f3a"
             ],
             [
              0.8888888888888888,
              "#fdca26"
             ],
             [
              1,
              "#f0f921"
             ]
            ],
            "type": "heatmapgl"
           }
          ],
          "histogram": [
           {
            "marker": {
             "colorbar": {
              "outlinewidth": 0,
              "ticks": ""
             }
            },
            "type": "histogram"
           }
          ],
          "histogram2d": [
           {
            "colorbar": {
             "outlinewidth": 0,
             "ticks": ""
            },
            "colorscale": [
             [
              0,
              "#0d0887"
             ],
             [
              0.1111111111111111,
              "#46039f"
             ],
             [
              0.2222222222222222,
              "#7201a8"
             ],
             [
              0.3333333333333333,
              "#9c179e"
             ],
             [
              0.4444444444444444,
              "#bd3786"
             ],
             [
              0.5555555555555556,
              "#d8576b"
             ],
             [
              0.6666666666666666,
              "#ed7953"
             ],
             [
              0.7777777777777778,
              "#fb9f3a"
             ],
             [
              0.8888888888888888,
              "#fdca26"
             ],
             [
              1,
              "#f0f921"
             ]
            ],
            "type": "histogram2d"
           }
          ],
          "histogram2dcontour": [
           {
            "colorbar": {
             "outlinewidth": 0,
             "ticks": ""
            },
            "colorscale": [
             [
              0,
              "#0d0887"
             ],
             [
              0.1111111111111111,
              "#46039f"
             ],
             [
              0.2222222222222222,
              "#7201a8"
             ],
             [
              0.3333333333333333,
              "#9c179e"
             ],
             [
              0.4444444444444444,
              "#bd3786"
             ],
             [
              0.5555555555555556,
              "#d8576b"
             ],
             [
              0.6666666666666666,
              "#ed7953"
             ],
             [
              0.7777777777777778,
              "#fb9f3a"
             ],
             [
              0.8888888888888888,
              "#fdca26"
             ],
             [
              1,
              "#f0f921"
             ]
            ],
            "type": "histogram2dcontour"
           }
          ],
          "mesh3d": [
           {
            "colorbar": {
             "outlinewidth": 0,
             "ticks": ""
            },
            "type": "mesh3d"
           }
          ],
          "parcoords": [
           {
            "line": {
             "colorbar": {
              "outlinewidth": 0,
              "ticks": ""
             }
            },
            "type": "parcoords"
           }
          ],
          "pie": [
           {
            "automargin": true,
            "type": "pie"
           }
          ],
          "scatter": [
           {
            "marker": {
             "colorbar": {
              "outlinewidth": 0,
              "ticks": ""
             }
            },
            "type": "scatter"
           }
          ],
          "scatter3d": [
           {
            "line": {
             "colorbar": {
              "outlinewidth": 0,
              "ticks": ""
             }
            },
            "marker": {
             "colorbar": {
              "outlinewidth": 0,
              "ticks": ""
             }
            },
            "type": "scatter3d"
           }
          ],
          "scattercarpet": [
           {
            "marker": {
             "colorbar": {
              "outlinewidth": 0,
              "ticks": ""
             }
            },
            "type": "scattercarpet"
           }
          ],
          "scattergeo": [
           {
            "marker": {
             "colorbar": {
              "outlinewidth": 0,
              "ticks": ""
             }
            },
            "type": "scattergeo"
           }
          ],
          "scattergl": [
           {
            "marker": {
             "colorbar": {
              "outlinewidth": 0,
              "ticks": ""
             }
            },
            "type": "scattergl"
           }
          ],
          "scattermapbox": [
           {
            "marker": {
             "colorbar": {
              "outlinewidth": 0,
              "ticks": ""
             }
            },
            "type": "scattermapbox"
           }
          ],
          "scatterpolar": [
           {
            "marker": {
             "colorbar": {
              "outlinewidth": 0,
              "ticks": ""
             }
            },
            "type": "scatterpolar"
           }
          ],
          "scatterpolargl": [
           {
            "marker": {
             "colorbar": {
              "outlinewidth": 0,
              "ticks": ""
             }
            },
            "type": "scatterpolargl"
           }
          ],
          "scatterternary": [
           {
            "marker": {
             "colorbar": {
              "outlinewidth": 0,
              "ticks": ""
             }
            },
            "type": "scatterternary"
           }
          ],
          "surface": [
           {
            "colorbar": {
             "outlinewidth": 0,
             "ticks": ""
            },
            "colorscale": [
             [
              0,
              "#0d0887"
             ],
             [
              0.1111111111111111,
              "#46039f"
             ],
             [
              0.2222222222222222,
              "#7201a8"
             ],
             [
              0.3333333333333333,
              "#9c179e"
             ],
             [
              0.4444444444444444,
              "#bd3786"
             ],
             [
              0.5555555555555556,
              "#d8576b"
             ],
             [
              0.6666666666666666,
              "#ed7953"
             ],
             [
              0.7777777777777778,
              "#fb9f3a"
             ],
             [
              0.8888888888888888,
              "#fdca26"
             ],
             [
              1,
              "#f0f921"
             ]
            ],
            "type": "surface"
           }
          ],
          "table": [
           {
            "cells": {
             "fill": {
              "color": "#EBF0F8"
             },
             "line": {
              "color": "white"
             }
            },
            "header": {
             "fill": {
              "color": "#C8D4E3"
             },
             "line": {
              "color": "white"
             }
            },
            "type": "table"
           }
          ]
         },
         "layout": {
          "annotationdefaults": {
           "arrowcolor": "#2a3f5f",
           "arrowhead": 0,
           "arrowwidth": 1
          },
          "coloraxis": {
           "colorbar": {
            "outlinewidth": 0,
            "ticks": ""
           }
          },
          "colorscale": {
           "diverging": [
            [
             0,
             "#8e0152"
            ],
            [
             0.1,
             "#c51b7d"
            ],
            [
             0.2,
             "#de77ae"
            ],
            [
             0.3,
             "#f1b6da"
            ],
            [
             0.4,
             "#fde0ef"
            ],
            [
             0.5,
             "#f7f7f7"
            ],
            [
             0.6,
             "#e6f5d0"
            ],
            [
             0.7,
             "#b8e186"
            ],
            [
             0.8,
             "#7fbc41"
            ],
            [
             0.9,
             "#4d9221"
            ],
            [
             1,
             "#276419"
            ]
           ],
           "sequential": [
            [
             0,
             "#0d0887"
            ],
            [
             0.1111111111111111,
             "#46039f"
            ],
            [
             0.2222222222222222,
             "#7201a8"
            ],
            [
             0.3333333333333333,
             "#9c179e"
            ],
            [
             0.4444444444444444,
             "#bd3786"
            ],
            [
             0.5555555555555556,
             "#d8576b"
            ],
            [
             0.6666666666666666,
             "#ed7953"
            ],
            [
             0.7777777777777778,
             "#fb9f3a"
            ],
            [
             0.8888888888888888,
             "#fdca26"
            ],
            [
             1,
             "#f0f921"
            ]
           ],
           "sequentialminus": [
            [
             0,
             "#0d0887"
            ],
            [
             0.1111111111111111,
             "#46039f"
            ],
            [
             0.2222222222222222,
             "#7201a8"
            ],
            [
             0.3333333333333333,
             "#9c179e"
            ],
            [
             0.4444444444444444,
             "#bd3786"
            ],
            [
             0.5555555555555556,
             "#d8576b"
            ],
            [
             0.6666666666666666,
             "#ed7953"
            ],
            [
             0.7777777777777778,
             "#fb9f3a"
            ],
            [
             0.8888888888888888,
             "#fdca26"
            ],
            [
             1,
             "#f0f921"
            ]
           ]
          },
          "colorway": [
           "#636efa",
           "#EF553B",
           "#00cc96",
           "#ab63fa",
           "#FFA15A",
           "#19d3f3",
           "#FF6692",
           "#B6E880",
           "#FF97FF",
           "#FECB52"
          ],
          "font": {
           "color": "#2a3f5f"
          },
          "geo": {
           "bgcolor": "white",
           "lakecolor": "white",
           "landcolor": "white",
           "showlakes": true,
           "showland": true,
           "subunitcolor": "#C8D4E3"
          },
          "hoverlabel": {
           "align": "left"
          },
          "hovermode": "closest",
          "mapbox": {
           "style": "light"
          },
          "paper_bgcolor": "white",
          "plot_bgcolor": "white",
          "polar": {
           "angularaxis": {
            "gridcolor": "#EBF0F8",
            "linecolor": "#EBF0F8",
            "ticks": ""
           },
           "bgcolor": "white",
           "radialaxis": {
            "gridcolor": "#EBF0F8",
            "linecolor": "#EBF0F8",
            "ticks": ""
           }
          },
          "scene": {
           "xaxis": {
            "backgroundcolor": "white",
            "gridcolor": "#DFE8F3",
            "gridwidth": 2,
            "linecolor": "#EBF0F8",
            "showbackground": true,
            "ticks": "",
            "zerolinecolor": "#EBF0F8"
           },
           "yaxis": {
            "backgroundcolor": "white",
            "gridcolor": "#DFE8F3",
            "gridwidth": 2,
            "linecolor": "#EBF0F8",
            "showbackground": true,
            "ticks": "",
            "zerolinecolor": "#EBF0F8"
           },
           "zaxis": {
            "backgroundcolor": "white",
            "gridcolor": "#DFE8F3",
            "gridwidth": 2,
            "linecolor": "#EBF0F8",
            "showbackground": true,
            "ticks": "",
            "zerolinecolor": "#EBF0F8"
           }
          },
          "shapedefaults": {
           "line": {
            "color": "#2a3f5f"
           }
          },
          "ternary": {
           "aaxis": {
            "gridcolor": "#DFE8F3",
            "linecolor": "#A2B1C6",
            "ticks": ""
           },
           "baxis": {
            "gridcolor": "#DFE8F3",
            "linecolor": "#A2B1C6",
            "ticks": ""
           },
           "bgcolor": "white",
           "caxis": {
            "gridcolor": "#DFE8F3",
            "linecolor": "#A2B1C6",
            "ticks": ""
           }
          },
          "title": {
           "x": 0.05
          },
          "xaxis": {
           "automargin": true,
           "gridcolor": "#EBF0F8",
           "linecolor": "#EBF0F8",
           "ticks": "",
           "title": {
            "standoff": 15
           },
           "zerolinecolor": "#EBF0F8",
           "zerolinewidth": 2
          },
          "yaxis": {
           "automargin": true,
           "gridcolor": "#EBF0F8",
           "linecolor": "#EBF0F8",
           "ticks": "",
           "title": {
            "standoff": 15
           },
           "zerolinecolor": "#EBF0F8",
           "zerolinewidth": 2
          }
         }
        },
        "title": {
         "text": "Evolução do número médio de crescimento da doença em Aracaju"
        },
        "yaxis": {
         "rangemode": "tozero"
        }
       }
      },
      "text/html": [
       "<div>\n",
       "        \n",
       "        \n",
       "            <div id=\"3bae95ff-d83c-457f-8e66-eb3cd2346a17\" class=\"plotly-graph-div\" style=\"height:525px; width:100%;\"></div>\n",
       "            <script type=\"text/javascript\">\n",
       "                require([\"plotly\"], function(Plotly) {\n",
       "                    window.PLOTLYENV=window.PLOTLYENV || {};\n",
       "                    \n",
       "                if (document.getElementById(\"3bae95ff-d83c-457f-8e66-eb3cd2346a17\")) {\n",
       "                    Plotly.newPlot(\n",
       "                        '3bae95ff-d83c-457f-8e66-eb3cd2346a17',\n",
       "                        [{\"fill\": \"tonexty\", \"line\": {\"color\": \"#E5E5E5\", \"width\": 2}, \"mode\": \"lines\", \"showlegend\": false, \"type\": \"scattergl\", \"x\": [\"2020-04-08T00:00:00\", \"2020-04-09T00:00:00\", \"2020-04-10T00:00:00\", \"2020-04-11T00:00:00\", \"2020-04-12T00:00:00\", \"2020-04-13T00:00:00\", \"2020-04-14T00:00:00\", \"2020-04-15T00:00:00\", \"2020-04-16T00:00:00\", \"2020-04-17T00:00:00\", \"2020-04-18T00:00:00\", \"2020-04-19T00:00:00\", \"2020-04-20T00:00:00\", \"2020-04-21T00:00:00\", \"2020-04-22T00:00:00\", \"2020-04-23T00:00:00\", \"2020-04-24T00:00:00\", \"2020-04-25T00:00:00\", \"2020-04-26T00:00:00\", \"2020-04-27T00:00:00\", \"2020-04-28T00:00:00\", \"2020-04-29T00:00:00\", \"2020-04-30T00:00:00\", \"2020-05-01T00:00:00\", \"2020-05-02T00:00:00\", \"2020-05-03T00:00:00\", \"2020-05-04T00:00:00\", \"2020-05-05T00:00:00\", \"2020-05-06T00:00:00\", \"2020-05-07T00:00:00\", \"2020-05-08T00:00:00\", \"2020-05-09T00:00:00\", \"2020-05-10T00:00:00\"], \"y\": [78.4, 27.9, 23.4, 21.200000000000003, 19.4, 18.0, 16.8, 16.0, 15.600000000000001, 15.5, 15.600000000000001, 15.9, 16.1, 16.1, 16.400000000000002, 16.5, 16.5, 17.0, 17.6, 18.2, 18.8, 19.2, 19.0, 18.700000000000003, 18.2, 17.7, 17.4, 17.5, 17.9, 18.3, 18.5, 18.400000000000002, 18.2]}, {\"fill\": \"tonexty\", \"line\": {\"color\": \"#E5E5E5\", \"width\": 2}, \"mode\": \"lines\", \"name\": \"Intervalo de confian\\u00e7a - 95%\", \"showlegend\": true, \"type\": \"scattergl\", \"x\": [\"2020-04-08T00:00:00\", \"2020-04-09T00:00:00\", \"2020-04-10T00:00:00\", \"2020-04-11T00:00:00\", \"2020-04-12T00:00:00\", \"2020-04-13T00:00:00\", \"2020-04-14T00:00:00\", \"2020-04-15T00:00:00\", \"2020-04-16T00:00:00\", \"2020-04-17T00:00:00\", \"2020-04-18T00:00:00\", \"2020-04-19T00:00:00\", \"2020-04-20T00:00:00\", \"2020-04-21T00:00:00\", \"2020-04-22T00:00:00\", \"2020-04-23T00:00:00\", \"2020-04-24T00:00:00\", \"2020-04-25T00:00:00\", \"2020-04-26T00:00:00\", \"2020-04-27T00:00:00\", \"2020-04-28T00:00:00\", \"2020-04-29T00:00:00\", \"2020-04-30T00:00:00\", \"2020-05-01T00:00:00\", \"2020-05-02T00:00:00\", \"2020-05-03T00:00:00\", \"2020-05-04T00:00:00\", \"2020-05-05T00:00:00\", \"2020-05-06T00:00:00\", \"2020-05-07T00:00:00\", \"2020-05-08T00:00:00\", \"2020-05-09T00:00:00\", \"2020-05-10T00:00:00\"], \"y\": [6.7, 6.6000000000000005, 6.800000000000001, 7.1, 6.9, 6.7, 6.4, 6.3, 6.4, 6.7, 7.1, 7.800000000000001, 8.3, 8.6, 9.3, 9.7, 9.9, 10.700000000000001, 11.6, 12.5, 13.4, 14.1, 14.1, 14.1, 13.8, 13.5, 13.3, 13.600000000000001, 14.2, 14.7, 15.1, 15.1, 15.1]}, {\"line\": {\"color\": \"rgba(63, 61, 87, 0.8)\", \"width\": 3}, \"mode\": \"lines\", \"name\": \"Valor m\\u00e9dio <b>(atual=16.8)\", \"showlegend\": true, \"type\": \"scattergl\", \"x\": [\"2020-04-08T00:00:00\", \"2020-04-09T00:00:00\", \"2020-04-10T00:00:00\", \"2020-04-11T00:00:00\", \"2020-04-12T00:00:00\", \"2020-04-13T00:00:00\", \"2020-04-14T00:00:00\", \"2020-04-15T00:00:00\", \"2020-04-16T00:00:00\", \"2020-04-17T00:00:00\", \"2020-04-18T00:00:00\", \"2020-04-19T00:00:00\", \"2020-04-20T00:00:00\", \"2020-04-21T00:00:00\", \"2020-04-22T00:00:00\", \"2020-04-23T00:00:00\", \"2020-04-24T00:00:00\", \"2020-04-25T00:00:00\", \"2020-04-26T00:00:00\", \"2020-04-27T00:00:00\", \"2020-04-28T00:00:00\", \"2020-04-29T00:00:00\", \"2020-04-30T00:00:00\", \"2020-05-01T00:00:00\", \"2020-05-02T00:00:00\", \"2020-05-03T00:00:00\", \"2020-05-04T00:00:00\", \"2020-05-05T00:00:00\", \"2020-05-06T00:00:00\", \"2020-05-07T00:00:00\", \"2020-05-08T00:00:00\", \"2020-05-09T00:00:00\", \"2020-05-10T00:00:00\"], \"y\": [30.0, 16.8, 15.2, 14.299999999999999, 13.4, 12.6, 11.799999999999999, 11.200000000000001, 11.100000000000001, 11.3, 11.7, 12.1, 12.4, 12.7, 12.9, 13.200000000000001, 13.5, 14.1, 14.7, 15.600000000000001, 16.3, 16.7, 16.8, 16.5, 16.1, 15.700000000000001, 15.5, 15.700000000000001, 16.1, 16.6, 16.9, 16.9, 16.8]}, {\"line\": {\"color\": \"rgba(132,217,217,1)\", \"dash\": \"dash\", \"width\": 3}, \"name\": \"Risco m\\u00e9dio: Acima desta linha, cada 10 pessoas infectam em m\\u00e9dia entre outras 10-12\", \"showlegend\": true, \"type\": \"scatter\", \"x\": [\"2020-04-08T00:00:00\", \"2020-04-09T00:00:00\", \"2020-04-10T00:00:00\", \"2020-04-11T00:00:00\", \"2020-04-12T00:00:00\", \"2020-04-13T00:00:00\", \"2020-04-14T00:00:00\", \"2020-04-15T00:00:00\", \"2020-04-16T00:00:00\", \"2020-04-17T00:00:00\", \"2020-04-18T00:00:00\", \"2020-04-19T00:00:00\", \"2020-04-20T00:00:00\", \"2020-04-21T00:00:00\", \"2020-04-22T00:00:00\", \"2020-04-23T00:00:00\", \"2020-04-24T00:00:00\", \"2020-04-25T00:00:00\", \"2020-04-26T00:00:00\", \"2020-04-27T00:00:00\", \"2020-04-28T00:00:00\", \"2020-04-29T00:00:00\", \"2020-04-30T00:00:00\", \"2020-05-01T00:00:00\", \"2020-05-02T00:00:00\", \"2020-05-03T00:00:00\", \"2020-05-04T00:00:00\", \"2020-05-05T00:00:00\", \"2020-05-06T00:00:00\", \"2020-05-07T00:00:00\", \"2020-05-08T00:00:00\", \"2020-05-09T00:00:00\", \"2020-05-10T00:00:00\"], \"y\": [10, 10, 10, 10, 10, 10, 10, 10, 10, 10, 10, 10, 10, 10, 10, 10, 10, 10, 10, 10, 10, 10, 10, 10, 10, 10, 10, 10, 10, 10, 10, 10, 10]}, {\"line\": {\"color\": \"rgba(242,185,80,1)\", \"dash\": \"dash\", \"width\": 3}, \"name\": \"Risco alto: Acima desta linha, cada 10 pessoas infectam em m\\u00e9dia mais de 12 outras\", \"showlegend\": true, \"type\": \"scatter\", \"x\": [\"2020-04-08T00:00:00\", \"2020-04-09T00:00:00\", \"2020-04-10T00:00:00\", \"2020-04-11T00:00:00\", \"2020-04-12T00:00:00\", \"2020-04-13T00:00:00\", \"2020-04-14T00:00:00\", \"2020-04-15T00:00:00\", \"2020-04-16T00:00:00\", \"2020-04-17T00:00:00\", \"2020-04-18T00:00:00\", \"2020-04-19T00:00:00\", \"2020-04-20T00:00:00\", \"2020-04-21T00:00:00\", \"2020-04-22T00:00:00\", \"2020-04-23T00:00:00\", \"2020-04-24T00:00:00\", \"2020-04-25T00:00:00\", \"2020-04-26T00:00:00\", \"2020-04-27T00:00:00\", \"2020-04-28T00:00:00\", \"2020-04-29T00:00:00\", \"2020-04-30T00:00:00\", \"2020-05-01T00:00:00\", \"2020-05-02T00:00:00\", \"2020-05-03T00:00:00\", \"2020-05-04T00:00:00\", \"2020-05-05T00:00:00\", \"2020-05-06T00:00:00\", \"2020-05-07T00:00:00\", \"2020-05-08T00:00:00\", \"2020-05-09T00:00:00\", \"2020-05-10T00:00:00\"], \"y\": [12.0, 12.0, 12.0, 12.0, 12.0, 12.0, 12.0, 12.0, 12.0, 12.0, 12.0, 12.0, 12.0, 12.0, 12.0, 12.0, 12.0, 12.0, 12.0, 12.0, 12.0, 12.0, 12.0, 12.0, 12.0, 12.0, 12.0, 12.0, 12.0, 12.0, 12.0, 12.0, 12.0]}],\n",
       "                        {\"template\": {\"data\": {\"bar\": [{\"error_x\": {\"color\": \"#2a3f5f\"}, \"error_y\": {\"color\": \"#2a3f5f\"}, \"marker\": {\"line\": {\"color\": \"white\", \"width\": 0.5}}, \"type\": \"bar\"}], \"barpolar\": [{\"marker\": {\"line\": {\"color\": \"white\", \"width\": 0.5}}, \"type\": \"barpolar\"}], \"carpet\": [{\"aaxis\": {\"endlinecolor\": \"#2a3f5f\", \"gridcolor\": \"#C8D4E3\", \"linecolor\": \"#C8D4E3\", \"minorgridcolor\": \"#C8D4E3\", \"startlinecolor\": \"#2a3f5f\"}, \"baxis\": {\"endlinecolor\": \"#2a3f5f\", \"gridcolor\": \"#C8D4E3\", \"linecolor\": \"#C8D4E3\", \"minorgridcolor\": \"#C8D4E3\", \"startlinecolor\": \"#2a3f5f\"}, \"type\": \"carpet\"}], \"choropleth\": [{\"colorbar\": {\"outlinewidth\": 0, \"ticks\": \"\"}, \"type\": \"choropleth\"}], \"contour\": [{\"colorbar\": {\"outlinewidth\": 0, \"ticks\": \"\"}, \"colorscale\": [[0.0, \"#0d0887\"], [0.1111111111111111, \"#46039f\"], [0.2222222222222222, \"#7201a8\"], [0.3333333333333333, \"#9c179e\"], [0.4444444444444444, \"#bd3786\"], [0.5555555555555556, \"#d8576b\"], [0.6666666666666666, \"#ed7953\"], [0.7777777777777778, \"#fb9f3a\"], [0.8888888888888888, \"#fdca26\"], [1.0, \"#f0f921\"]], \"type\": \"contour\"}], \"contourcarpet\": [{\"colorbar\": {\"outlinewidth\": 0, \"ticks\": \"\"}, \"type\": \"contourcarpet\"}], \"heatmap\": [{\"colorbar\": {\"outlinewidth\": 0, \"ticks\": \"\"}, \"colorscale\": [[0.0, \"#0d0887\"], [0.1111111111111111, \"#46039f\"], [0.2222222222222222, \"#7201a8\"], [0.3333333333333333, \"#9c179e\"], [0.4444444444444444, \"#bd3786\"], [0.5555555555555556, \"#d8576b\"], [0.6666666666666666, \"#ed7953\"], [0.7777777777777778, \"#fb9f3a\"], [0.8888888888888888, \"#fdca26\"], [1.0, \"#f0f921\"]], \"type\": \"heatmap\"}], \"heatmapgl\": [{\"colorbar\": {\"outlinewidth\": 0, \"ticks\": \"\"}, \"colorscale\": [[0.0, \"#0d0887\"], [0.1111111111111111, \"#46039f\"], [0.2222222222222222, \"#7201a8\"], [0.3333333333333333, \"#9c179e\"], [0.4444444444444444, \"#bd3786\"], [0.5555555555555556, \"#d8576b\"], [0.6666666666666666, \"#ed7953\"], [0.7777777777777778, \"#fb9f3a\"], [0.8888888888888888, \"#fdca26\"], [1.0, \"#f0f921\"]], \"type\": \"heatmapgl\"}], \"histogram\": [{\"marker\": {\"colorbar\": {\"outlinewidth\": 0, \"ticks\": \"\"}}, \"type\": \"histogram\"}], \"histogram2d\": [{\"colorbar\": {\"outlinewidth\": 0, \"ticks\": \"\"}, \"colorscale\": [[0.0, \"#0d0887\"], [0.1111111111111111, \"#46039f\"], [0.2222222222222222, \"#7201a8\"], [0.3333333333333333, \"#9c179e\"], [0.4444444444444444, \"#bd3786\"], [0.5555555555555556, \"#d8576b\"], [0.6666666666666666, \"#ed7953\"], [0.7777777777777778, \"#fb9f3a\"], [0.8888888888888888, \"#fdca26\"], [1.0, \"#f0f921\"]], \"type\": \"histogram2d\"}], \"histogram2dcontour\": [{\"colorbar\": {\"outlinewidth\": 0, \"ticks\": \"\"}, \"colorscale\": [[0.0, \"#0d0887\"], [0.1111111111111111, \"#46039f\"], [0.2222222222222222, \"#7201a8\"], [0.3333333333333333, \"#9c179e\"], [0.4444444444444444, \"#bd3786\"], [0.5555555555555556, \"#d8576b\"], [0.6666666666666666, \"#ed7953\"], [0.7777777777777778, \"#fb9f3a\"], [0.8888888888888888, \"#fdca26\"], [1.0, \"#f0f921\"]], \"type\": \"histogram2dcontour\"}], \"mesh3d\": [{\"colorbar\": {\"outlinewidth\": 0, \"ticks\": \"\"}, \"type\": \"mesh3d\"}], \"parcoords\": [{\"line\": {\"colorbar\": {\"outlinewidth\": 0, \"ticks\": \"\"}}, \"type\": \"parcoords\"}], \"pie\": [{\"automargin\": true, \"type\": \"pie\"}], \"scatter\": [{\"marker\": {\"colorbar\": {\"outlinewidth\": 0, \"ticks\": \"\"}}, \"type\": \"scatter\"}], \"scatter3d\": [{\"line\": {\"colorbar\": {\"outlinewidth\": 0, \"ticks\": \"\"}}, \"marker\": {\"colorbar\": {\"outlinewidth\": 0, \"ticks\": \"\"}}, \"type\": \"scatter3d\"}], \"scattercarpet\": [{\"marker\": {\"colorbar\": {\"outlinewidth\": 0, \"ticks\": \"\"}}, \"type\": \"scattercarpet\"}], \"scattergeo\": [{\"marker\": {\"colorbar\": {\"outlinewidth\": 0, \"ticks\": \"\"}}, \"type\": \"scattergeo\"}], \"scattergl\": [{\"marker\": {\"colorbar\": {\"outlinewidth\": 0, \"ticks\": \"\"}}, \"type\": \"scattergl\"}], \"scattermapbox\": [{\"marker\": {\"colorbar\": {\"outlinewidth\": 0, \"ticks\": \"\"}}, \"type\": \"scattermapbox\"}], \"scatterpolar\": [{\"marker\": {\"colorbar\": {\"outlinewidth\": 0, \"ticks\": \"\"}}, \"type\": \"scatterpolar\"}], \"scatterpolargl\": [{\"marker\": {\"colorbar\": {\"outlinewidth\": 0, \"ticks\": \"\"}}, \"type\": \"scatterpolargl\"}], \"scatterternary\": [{\"marker\": {\"colorbar\": {\"outlinewidth\": 0, \"ticks\": \"\"}}, \"type\": \"scatterternary\"}], \"surface\": [{\"colorbar\": {\"outlinewidth\": 0, \"ticks\": \"\"}, \"colorscale\": [[0.0, \"#0d0887\"], [0.1111111111111111, \"#46039f\"], [0.2222222222222222, \"#7201a8\"], [0.3333333333333333, \"#9c179e\"], [0.4444444444444444, \"#bd3786\"], [0.5555555555555556, \"#d8576b\"], [0.6666666666666666, \"#ed7953\"], [0.7777777777777778, \"#fb9f3a\"], [0.8888888888888888, \"#fdca26\"], [1.0, \"#f0f921\"]], \"type\": \"surface\"}], \"table\": [{\"cells\": {\"fill\": {\"color\": \"#EBF0F8\"}, \"line\": {\"color\": \"white\"}}, \"header\": {\"fill\": {\"color\": \"#C8D4E3\"}, \"line\": {\"color\": \"white\"}}, \"type\": \"table\"}]}, \"layout\": {\"annotationdefaults\": {\"arrowcolor\": \"#2a3f5f\", \"arrowhead\": 0, \"arrowwidth\": 1}, \"coloraxis\": {\"colorbar\": {\"outlinewidth\": 0, \"ticks\": \"\"}}, \"colorscale\": {\"diverging\": [[0, \"#8e0152\"], [0.1, \"#c51b7d\"], [0.2, \"#de77ae\"], [0.3, \"#f1b6da\"], [0.4, \"#fde0ef\"], [0.5, \"#f7f7f7\"], [0.6, \"#e6f5d0\"], [0.7, \"#b8e186\"], [0.8, \"#7fbc41\"], [0.9, \"#4d9221\"], [1, \"#276419\"]], \"sequential\": [[0.0, \"#0d0887\"], [0.1111111111111111, \"#46039f\"], [0.2222222222222222, \"#7201a8\"], [0.3333333333333333, \"#9c179e\"], [0.4444444444444444, \"#bd3786\"], [0.5555555555555556, \"#d8576b\"], [0.6666666666666666, \"#ed7953\"], [0.7777777777777778, \"#fb9f3a\"], [0.8888888888888888, \"#fdca26\"], [1.0, \"#f0f921\"]], \"sequentialminus\": [[0.0, \"#0d0887\"], [0.1111111111111111, \"#46039f\"], [0.2222222222222222, \"#7201a8\"], [0.3333333333333333, \"#9c179e\"], [0.4444444444444444, \"#bd3786\"], [0.5555555555555556, \"#d8576b\"], [0.6666666666666666, \"#ed7953\"], [0.7777777777777778, \"#fb9f3a\"], [0.8888888888888888, \"#fdca26\"], [1.0, \"#f0f921\"]]}, \"colorway\": [\"#636efa\", \"#EF553B\", \"#00cc96\", \"#ab63fa\", \"#FFA15A\", \"#19d3f3\", \"#FF6692\", \"#B6E880\", \"#FF97FF\", \"#FECB52\"], \"font\": {\"color\": \"#2a3f5f\"}, \"geo\": {\"bgcolor\": \"white\", \"lakecolor\": \"white\", \"landcolor\": \"white\", \"showlakes\": true, \"showland\": true, \"subunitcolor\": \"#C8D4E3\"}, \"hoverlabel\": {\"align\": \"left\"}, \"hovermode\": \"closest\", \"mapbox\": {\"style\": \"light\"}, \"paper_bgcolor\": \"white\", \"plot_bgcolor\": \"white\", \"polar\": {\"angularaxis\": {\"gridcolor\": \"#EBF0F8\", \"linecolor\": \"#EBF0F8\", \"ticks\": \"\"}, \"bgcolor\": \"white\", \"radialaxis\": {\"gridcolor\": \"#EBF0F8\", \"linecolor\": \"#EBF0F8\", \"ticks\": \"\"}}, \"scene\": {\"xaxis\": {\"backgroundcolor\": \"white\", \"gridcolor\": \"#DFE8F3\", \"gridwidth\": 2, \"linecolor\": \"#EBF0F8\", \"showbackground\": true, \"ticks\": \"\", \"zerolinecolor\": \"#EBF0F8\"}, \"yaxis\": {\"backgroundcolor\": \"white\", \"gridcolor\": \"#DFE8F3\", \"gridwidth\": 2, \"linecolor\": \"#EBF0F8\", \"showbackground\": true, \"ticks\": \"\", \"zerolinecolor\": \"#EBF0F8\"}, \"zaxis\": {\"backgroundcolor\": \"white\", \"gridcolor\": \"#DFE8F3\", \"gridwidth\": 2, \"linecolor\": \"#EBF0F8\", \"showbackground\": true, \"ticks\": \"\", \"zerolinecolor\": \"#EBF0F8\"}}, \"shapedefaults\": {\"line\": {\"color\": \"#2a3f5f\"}}, \"ternary\": {\"aaxis\": {\"gridcolor\": \"#DFE8F3\", \"linecolor\": \"#A2B1C6\", \"ticks\": \"\"}, \"baxis\": {\"gridcolor\": \"#DFE8F3\", \"linecolor\": \"#A2B1C6\", \"ticks\": \"\"}, \"bgcolor\": \"white\", \"caxis\": {\"gridcolor\": \"#DFE8F3\", \"linecolor\": \"#A2B1C6\", \"ticks\": \"\"}}, \"title\": {\"x\": 0.05}, \"xaxis\": {\"automargin\": true, \"gridcolor\": \"#EBF0F8\", \"linecolor\": \"#EBF0F8\", \"ticks\": \"\", \"title\": {\"standoff\": 15}, \"zerolinecolor\": \"#EBF0F8\", \"zerolinewidth\": 2}, \"yaxis\": {\"automargin\": true, \"gridcolor\": \"#EBF0F8\", \"linecolor\": \"#EBF0F8\", \"ticks\": \"\", \"title\": {\"standoff\": 15}, \"zerolinecolor\": \"#EBF0F8\", \"zerolinewidth\": 2}}}, \"title\": {\"text\": \"Evolu\\u00e7\\u00e3o do n\\u00famero m\\u00e9dio de crescimento da doen\\u00e7a em Aracaju\"}, \"yaxis\": {\"rangemode\": \"tozero\"}},\n",
       "                        {\"responsive\": true}\n",
       "                    ).then(function(){\n",
       "                            \n",
       "var gd = document.getElementById('3bae95ff-d83c-457f-8e66-eb3cd2346a17');\n",
       "var x = new MutationObserver(function (mutations, observer) {{\n",
       "        var display = window.getComputedStyle(gd).display;\n",
       "        if (!display || display === 'none') {{\n",
       "            console.log([gd, 'removed!']);\n",
       "            Plotly.purge(gd);\n",
       "            observer.disconnect();\n",
       "        }}\n",
       "}});\n",
       "\n",
       "// Listen for the removal of the full notebook cells\n",
       "var notebookContainer = gd.closest('#notebook-container');\n",
       "if (notebookContainer) {{\n",
       "    x.observe(notebookContainer, {childList: true});\n",
       "}}\n",
       "\n",
       "// Listen for the clearing of the current output cell\n",
       "var outputEl = gd.closest('.output');\n",
       "if (outputEl) {{\n",
       "    x.observe(outputEl, {childList: true});\n",
       "}}\n",
       "\n",
       "                        })\n",
       "                };\n",
       "                });\n",
       "            </script>\n",
       "        </div>"
      ]
     },
     "metadata": {},
     "output_type": "display_data"
    }
   ],
   "source": [
    "plot_rt(city_results[city_results['city'] == city], \n",
    "        title='Evolução do número médio de crescimento da doença em {}'.format(city))"
   ]
  },
  {
   "cell_type": "markdown",
   "metadata": {},
   "source": [
    "## Compare w/ cases"
   ]
  },
  {
   "cell_type": "code",
   "execution_count": 604,
   "metadata": {
    "scrolled": true
   },
   "outputs": [
    {
     "data": {
      "text/html": [
       "<div>\n",
       "<style scoped>\n",
       "    .dataframe tbody tr th:only-of-type {\n",
       "        vertical-align: middle;\n",
       "    }\n",
       "\n",
       "    .dataframe tbody tr th {\n",
       "        vertical-align: top;\n",
       "    }\n",
       "\n",
       "    .dataframe thead th {\n",
       "        text-align: right;\n",
       "    }\n",
       "</style>\n",
       "<table border=\"1\" class=\"dataframe\">\n",
       "  <thead>\n",
       "    <tr style=\"text-align: right;\">\n",
       "      <th></th>\n",
       "      <th>last_updated</th>\n",
       "      <th>active_cases</th>\n",
       "      <th>notification_rate</th>\n",
       "      <th>Rt_low_95</th>\n",
       "      <th>Rt_high_95</th>\n",
       "    </tr>\n",
       "  </thead>\n",
       "  <tbody>\n",
       "    <tr>\n",
       "      <th>14668</th>\n",
       "      <td>2020-04-08</td>\n",
       "      <td>108.0</td>\n",
       "      <td>0.176429</td>\n",
       "      <td>0.67</td>\n",
       "      <td>7.84</td>\n",
       "    </tr>\n",
       "    <tr>\n",
       "      <th>14669</th>\n",
       "      <td>2020-04-09</td>\n",
       "      <td>111.0</td>\n",
       "      <td>0.170714</td>\n",
       "      <td>0.66</td>\n",
       "      <td>2.79</td>\n",
       "    </tr>\n",
       "    <tr>\n",
       "      <th>14670</th>\n",
       "      <td>2020-04-10</td>\n",
       "      <td>124.0</td>\n",
       "      <td>0.161429</td>\n",
       "      <td>0.68</td>\n",
       "      <td>2.34</td>\n",
       "    </tr>\n",
       "    <tr>\n",
       "      <th>14671</th>\n",
       "      <td>2020-04-11</td>\n",
       "      <td>137.0</td>\n",
       "      <td>0.160714</td>\n",
       "      <td>0.71</td>\n",
       "      <td>2.12</td>\n",
       "    </tr>\n",
       "    <tr>\n",
       "      <th>14672</th>\n",
       "      <td>2020-04-12</td>\n",
       "      <td>138.0</td>\n",
       "      <td>0.160000</td>\n",
       "      <td>0.69</td>\n",
       "      <td>1.94</td>\n",
       "    </tr>\n",
       "    <tr>\n",
       "      <th>14673</th>\n",
       "      <td>2020-04-13</td>\n",
       "      <td>126.0</td>\n",
       "      <td>0.166429</td>\n",
       "      <td>0.67</td>\n",
       "      <td>1.80</td>\n",
       "    </tr>\n",
       "    <tr>\n",
       "      <th>14674</th>\n",
       "      <td>2020-04-14</td>\n",
       "      <td>122.0</td>\n",
       "      <td>0.171429</td>\n",
       "      <td>0.64</td>\n",
       "      <td>1.68</td>\n",
       "    </tr>\n",
       "    <tr>\n",
       "      <th>14675</th>\n",
       "      <td>2020-04-15</td>\n",
       "      <td>103.0</td>\n",
       "      <td>0.175000</td>\n",
       "      <td>0.63</td>\n",
       "      <td>1.60</td>\n",
       "    </tr>\n",
       "    <tr>\n",
       "      <th>14676</th>\n",
       "      <td>2020-04-16</td>\n",
       "      <td>111.0</td>\n",
       "      <td>0.180714</td>\n",
       "      <td>0.64</td>\n",
       "      <td>1.56</td>\n",
       "    </tr>\n",
       "    <tr>\n",
       "      <th>14677</th>\n",
       "      <td>2020-04-17</td>\n",
       "      <td>111.0</td>\n",
       "      <td>0.188571</td>\n",
       "      <td>0.67</td>\n",
       "      <td>1.55</td>\n",
       "    </tr>\n",
       "    <tr>\n",
       "      <th>14678</th>\n",
       "      <td>2020-04-18</td>\n",
       "      <td>125.0</td>\n",
       "      <td>0.200714</td>\n",
       "      <td>0.71</td>\n",
       "      <td>1.56</td>\n",
       "    </tr>\n",
       "    <tr>\n",
       "      <th>14679</th>\n",
       "      <td>2020-04-19</td>\n",
       "      <td>147.0</td>\n",
       "      <td>0.217857</td>\n",
       "      <td>0.78</td>\n",
       "      <td>1.59</td>\n",
       "    </tr>\n",
       "    <tr>\n",
       "      <th>14680</th>\n",
       "      <td>2020-04-20</td>\n",
       "      <td>140.0</td>\n",
       "      <td>0.235000</td>\n",
       "      <td>0.83</td>\n",
       "      <td>1.61</td>\n",
       "    </tr>\n",
       "    <tr>\n",
       "      <th>14681</th>\n",
       "      <td>2020-04-21</td>\n",
       "      <td>175.0</td>\n",
       "      <td>0.250857</td>\n",
       "      <td>0.86</td>\n",
       "      <td>1.61</td>\n",
       "    </tr>\n",
       "    <tr>\n",
       "      <th>14682</th>\n",
       "      <td>2020-04-22</td>\n",
       "      <td>157.0</td>\n",
       "      <td>0.266714</td>\n",
       "      <td>0.93</td>\n",
       "      <td>1.64</td>\n",
       "    </tr>\n",
       "    <tr>\n",
       "      <th>14683</th>\n",
       "      <td>2020-04-23</td>\n",
       "      <td>188.0</td>\n",
       "      <td>0.287286</td>\n",
       "      <td>0.97</td>\n",
       "      <td>1.65</td>\n",
       "    </tr>\n",
       "    <tr>\n",
       "      <th>14684</th>\n",
       "      <td>2020-04-24</td>\n",
       "      <td>200.0</td>\n",
       "      <td>0.310143</td>\n",
       "      <td>0.99</td>\n",
       "      <td>1.65</td>\n",
       "    </tr>\n",
       "    <tr>\n",
       "      <th>14685</th>\n",
       "      <td>2020-04-25</td>\n",
       "      <td>200.0</td>\n",
       "      <td>0.320143</td>\n",
       "      <td>1.07</td>\n",
       "      <td>1.70</td>\n",
       "    </tr>\n",
       "    <tr>\n",
       "      <th>14686</th>\n",
       "      <td>2020-04-26</td>\n",
       "      <td>240.0</td>\n",
       "      <td>0.332762</td>\n",
       "      <td>1.16</td>\n",
       "      <td>1.76</td>\n",
       "    </tr>\n",
       "    <tr>\n",
       "      <th>14687</th>\n",
       "      <td>2020-04-27</td>\n",
       "      <td>295.0</td>\n",
       "      <td>0.346231</td>\n",
       "      <td>1.25</td>\n",
       "      <td>1.82</td>\n",
       "    </tr>\n",
       "    <tr>\n",
       "      <th>14688</th>\n",
       "      <td>2020-04-28</td>\n",
       "      <td>399.0</td>\n",
       "      <td>0.381088</td>\n",
       "      <td>1.34</td>\n",
       "      <td>1.88</td>\n",
       "    </tr>\n",
       "    <tr>\n",
       "      <th>14689</th>\n",
       "      <td>2020-04-29</td>\n",
       "      <td>365.0</td>\n",
       "      <td>0.415946</td>\n",
       "      <td>1.41</td>\n",
       "      <td>1.92</td>\n",
       "    </tr>\n",
       "    <tr>\n",
       "      <th>14690</th>\n",
       "      <td>2020-04-30</td>\n",
       "      <td>527.0</td>\n",
       "      <td>0.488027</td>\n",
       "      <td>1.41</td>\n",
       "      <td>1.90</td>\n",
       "    </tr>\n",
       "    <tr>\n",
       "      <th>14691</th>\n",
       "      <td>2020-05-01</td>\n",
       "      <td>516.0</td>\n",
       "      <td>0.572109</td>\n",
       "      <td>1.41</td>\n",
       "      <td>1.87</td>\n",
       "    </tr>\n",
       "    <tr>\n",
       "      <th>14692</th>\n",
       "      <td>2020-05-02</td>\n",
       "      <td>489.0</td>\n",
       "      <td>0.682517</td>\n",
       "      <td>1.38</td>\n",
       "      <td>1.82</td>\n",
       "    </tr>\n",
       "    <tr>\n",
       "      <th>14693</th>\n",
       "      <td>2020-05-03</td>\n",
       "      <td>499.0</td>\n",
       "      <td>0.818367</td>\n",
       "      <td>1.35</td>\n",
       "      <td>1.77</td>\n",
       "    </tr>\n",
       "    <tr>\n",
       "      <th>14694</th>\n",
       "      <td>2020-05-04</td>\n",
       "      <td>470.0</td>\n",
       "      <td>0.941684</td>\n",
       "      <td>1.33</td>\n",
       "      <td>1.74</td>\n",
       "    </tr>\n",
       "    <tr>\n",
       "      <th>14695</th>\n",
       "      <td>2020-05-05</td>\n",
       "      <td>525.0</td>\n",
       "      <td>1.000000</td>\n",
       "      <td>1.36</td>\n",
       "      <td>1.75</td>\n",
       "    </tr>\n",
       "    <tr>\n",
       "      <th>14696</th>\n",
       "      <td>2020-05-06</td>\n",
       "      <td>596.0</td>\n",
       "      <td>1.000000</td>\n",
       "      <td>1.42</td>\n",
       "      <td>1.79</td>\n",
       "    </tr>\n",
       "    <tr>\n",
       "      <th>14697</th>\n",
       "      <td>2020-05-07</td>\n",
       "      <td>746.0</td>\n",
       "      <td>1.000000</td>\n",
       "      <td>1.47</td>\n",
       "      <td>1.83</td>\n",
       "    </tr>\n",
       "    <tr>\n",
       "      <th>14698</th>\n",
       "      <td>2020-05-08</td>\n",
       "      <td>915.0</td>\n",
       "      <td>1.000000</td>\n",
       "      <td>1.51</td>\n",
       "      <td>1.85</td>\n",
       "    </tr>\n",
       "    <tr>\n",
       "      <th>14699</th>\n",
       "      <td>2020-05-09</td>\n",
       "      <td>1013.0</td>\n",
       "      <td>1.000000</td>\n",
       "      <td>1.51</td>\n",
       "      <td>1.84</td>\n",
       "    </tr>\n",
       "    <tr>\n",
       "      <th>14700</th>\n",
       "      <td>2020-05-10</td>\n",
       "      <td>1122.0</td>\n",
       "      <td>1.000000</td>\n",
       "      <td>1.51</td>\n",
       "      <td>1.82</td>\n",
       "    </tr>\n",
       "  </tbody>\n",
       "</table>\n",
       "</div>"
      ],
      "text/plain": [
       "      last_updated  active_cases  notification_rate  Rt_low_95  Rt_high_95\n",
       "14668   2020-04-08         108.0           0.176429       0.67        7.84\n",
       "14669   2020-04-09         111.0           0.170714       0.66        2.79\n",
       "14670   2020-04-10         124.0           0.161429       0.68        2.34\n",
       "14671   2020-04-11         137.0           0.160714       0.71        2.12\n",
       "14672   2020-04-12         138.0           0.160000       0.69        1.94\n",
       "14673   2020-04-13         126.0           0.166429       0.67        1.80\n",
       "14674   2020-04-14         122.0           0.171429       0.64        1.68\n",
       "14675   2020-04-15         103.0           0.175000       0.63        1.60\n",
       "14676   2020-04-16         111.0           0.180714       0.64        1.56\n",
       "14677   2020-04-17         111.0           0.188571       0.67        1.55\n",
       "14678   2020-04-18         125.0           0.200714       0.71        1.56\n",
       "14679   2020-04-19         147.0           0.217857       0.78        1.59\n",
       "14680   2020-04-20         140.0           0.235000       0.83        1.61\n",
       "14681   2020-04-21         175.0           0.250857       0.86        1.61\n",
       "14682   2020-04-22         157.0           0.266714       0.93        1.64\n",
       "14683   2020-04-23         188.0           0.287286       0.97        1.65\n",
       "14684   2020-04-24         200.0           0.310143       0.99        1.65\n",
       "14685   2020-04-25         200.0           0.320143       1.07        1.70\n",
       "14686   2020-04-26         240.0           0.332762       1.16        1.76\n",
       "14687   2020-04-27         295.0           0.346231       1.25        1.82\n",
       "14688   2020-04-28         399.0           0.381088       1.34        1.88\n",
       "14689   2020-04-29         365.0           0.415946       1.41        1.92\n",
       "14690   2020-04-30         527.0           0.488027       1.41        1.90\n",
       "14691   2020-05-01         516.0           0.572109       1.41        1.87\n",
       "14692   2020-05-02         489.0           0.682517       1.38        1.82\n",
       "14693   2020-05-03         499.0           0.818367       1.35        1.77\n",
       "14694   2020-05-04         470.0           0.941684       1.33        1.74\n",
       "14695   2020-05-05         525.0           1.000000       1.36        1.75\n",
       "14696   2020-05-06         596.0           1.000000       1.42        1.79\n",
       "14697   2020-05-07         746.0           1.000000       1.47        1.83\n",
       "14698   2020-05-08         915.0           1.000000       1.51        1.85\n",
       "14699   2020-05-09        1013.0           1.000000       1.51        1.84\n",
       "14700   2020-05-10        1122.0           1.000000       1.51        1.82"
      ]
     },
     "execution_count": 604,
     "metadata": {},
     "output_type": "execute_result"
    }
   ],
   "source": [
    "all_cities_results[all_cities_results['city'] == city][['last_updated', 'active_cases', \n",
    "                                                        'notification_rate', 'Rt_low_95', 'Rt_high_95']]"
   ]
  },
  {
   "cell_type": "code",
   "execution_count": null,
   "metadata": {},
   "outputs": [],
   "source": []
  },
  {
   "cell_type": "markdown",
   "metadata": {
    "heading_collapsed": true
   },
   "source": [
    "## TODO: Avg estimation w/ new deaths (From ActNow)\n",
    "\n",
    "- They add Rt estimation w/ `new_deaths` and `new_hospitalizations`, shifting the dates for best approx w/ the series generated using `new_cases` and getting the mean value for each day"
   ]
  },
  {
   "cell_type": "raw",
   "metadata": {
    "hidden": true
   },
   "source": [
    "# Compute the indicator lag using the curvature alignment method.\n",
    "if timeseries_type in (TimeseriesType.NEW_DEATHS, TimeseriesType.NEW_HOSPITALIZATIONS) \\\n",
    "        and f'Rt_MAP__{TimeseriesType.NEW_CASES.value}' in df_all.columns:\n",
    "    \n",
    "    # Go back upto 30 days or the max time series length we have if shorter.\n",
    "    last_idx = max(-21, -len(df))\n",
    "    shift_in_days = self.align_time_series(\n",
    "        series_a=df_all[f'Rt_MAP__{TimeseriesType.NEW_CASES.value}'].iloc[-last_idx:],\n",
    "        series_b=df_all[f'Rt_MAP__{timeseries_type.value}'].iloc[-last_idx:]\n",
    "    )\n",
    "    \n",
    "    df_all[f'lag_days__{timeseries_type.value}'] = shift_in_days\n",
    "\n",
    "    # Shift all the columns.\n",
    "    for col in df_all.columns:\n",
    "        if timeseries_type.value in col:\n",
    "            df_all[col] = df_all[col].shift(shift_in_days)"
   ]
  },
  {
   "cell_type": "code",
   "execution_count": 136,
   "metadata": {
    "hidden": true
   },
   "outputs": [],
   "source": [
    "from scipy import signal\n",
    "\n",
    "def align_time_series(series_a, series_b):\n",
    "    \"\"\"\n",
    "    Identify the optimal time shift between two data series based on\n",
    "    maximal cross-correlation of their derivatives.\n",
    "    Parameters\n",
    "    ----------\n",
    "    series_a: pd.Series\n",
    "        Reference series to cross-correlate against.\n",
    "    series_b: pd.Series\n",
    "        Reference series to shift and cross-correlate against.\n",
    "    Returns\n",
    "    -------\n",
    "    shift: int\n",
    "        A shift period applied to series b that aligns to series a\n",
    "    \"\"\"\n",
    "    shifts = range(-21, 5)\n",
    "    valid_shifts = []\n",
    "    xcor = []\n",
    "    np.random.seed(42)  # Xcor has some stochastic FFT elements.\n",
    "    _series_a = np.diff(series_a)\n",
    "\n",
    "    for i in shifts:\n",
    "        series_b_shifted = np.diff(series_b.shift(i))\n",
    "        valid = (~np.isnan(_series_a) & ~np.isnan(series_b_shifted))\n",
    "        \n",
    "        if len(series_b_shifted[valid]) > 0:\n",
    "            xcor.append(signal.correlate(_series_a[valid], series_b_shifted[valid]).mean())\n",
    "            valid_shifts.append(i)\n",
    "            \n",
    "    if len(valid_shifts) > 0:\n",
    "        return valid_shifts[np.argmax(xcor)]\n",
    "    \n",
    "    else:\n",
    "        return 0"
   ]
  },
  {
   "cell_type": "markdown",
   "metadata": {
    "heading_collapsed": true
   },
   "source": [
    "## Draft"
   ]
  },
  {
   "cell_type": "code",
   "execution_count": null,
   "metadata": {
    "hidden": true
   },
   "outputs": [],
   "source": [
    "# test = city_cases[city_cases.index.isin([2800308], level=0)]\n",
    "\n",
    "# with Parallel(n_jobs=1) as parallel:\n",
    "#     test_results = parallel(delayed(run_full_model)(grp[1], source='LOFT') \n",
    "#                        for grp in test.groupby(level='city_id'))\n",
    "\n",
    "# test_results[0].head()"
   ]
  },
  {
   "cell_type": "code",
   "execution_count": 19,
   "metadata": {
    "hidden": true
   },
   "outputs": [],
   "source": [
    "# lendo do repositório do Wesley Cota\n",
    "city_df, state_df = load_data()"
   ]
  },
  {
   "cell_type": "code",
   "execution_count": 20,
   "metadata": {
    "hidden": true
   },
   "outputs": [
    {
     "name": "stdout",
     "output_type": "stream",
     "text": [
      "<class 'pandas.core.frame.DataFrame'>\n",
      "MultiIndex: 50201 entries, ('Abaetetuba/PA', Timestamp('2020-03-31 00:00:00')) to ('Óbidos/PA', Timestamp('2020-05-04 00:00:00'))\n",
      "Data columns (total 7 columns):\n",
      " #   Column                           Non-Null Count  Dtype  \n",
      "---  ------                           --------------  -----  \n",
      " 0   deaths_new                       50201 non-null  int64  \n",
      " 1   deaths_total                     50201 non-null  int64  \n",
      " 2   confirmed_new                    50201 non-null  int64  \n",
      " 3   confirmed_total                  50201 non-null  int64  \n",
      " 4   deaths_per_100k_inhabitants      50201 non-null  float64\n",
      " 5   totalCases_per_100k_inhabitants  50201 non-null  float64\n",
      " 6   deaths_by_totalCases             50201 non-null  float64\n",
      "dtypes: float64(3), int64(4)\n",
      "memory usage: 2.8+ MB\n"
     ]
    }
   ],
   "source": [
    "city_df.info()"
   ]
  },
  {
   "cell_type": "code",
   "execution_count": 21,
   "metadata": {
    "collapsed": true,
    "hidden": true
   },
   "outputs": [
    {
     "data": {
      "text/html": [
       "<div>\n",
       "<style scoped>\n",
       "    .dataframe tbody tr th:only-of-type {\n",
       "        vertical-align: middle;\n",
       "    }\n",
       "\n",
       "    .dataframe tbody tr th {\n",
       "        vertical-align: top;\n",
       "    }\n",
       "\n",
       "    .dataframe thead th {\n",
       "        text-align: right;\n",
       "    }\n",
       "</style>\n",
       "<table border=\"1\" class=\"dataframe\">\n",
       "  <thead>\n",
       "    <tr style=\"text-align: right;\">\n",
       "      <th></th>\n",
       "      <th></th>\n",
       "      <th>deaths_new</th>\n",
       "      <th>deaths_total</th>\n",
       "      <th>confirmed_new</th>\n",
       "      <th>confirmed_total</th>\n",
       "      <th>deaths_per_100k_inhabitants</th>\n",
       "      <th>totalCases_per_100k_inhabitants</th>\n",
       "      <th>deaths_by_totalCases</th>\n",
       "    </tr>\n",
       "    <tr>\n",
       "      <th>city</th>\n",
       "      <th>date</th>\n",
       "      <th></th>\n",
       "      <th></th>\n",
       "      <th></th>\n",
       "      <th></th>\n",
       "      <th></th>\n",
       "      <th></th>\n",
       "      <th></th>\n",
       "    </tr>\n",
       "  </thead>\n",
       "  <tbody>\n",
       "    <tr>\n",
       "      <th rowspan=\"5\" valign=\"top\">Belém/PA</th>\n",
       "      <th>2020-04-30</th>\n",
       "      <td>50</td>\n",
       "      <td>139</td>\n",
       "      <td>171</td>\n",
       "      <td>1658</td>\n",
       "      <td>9.31170</td>\n",
       "      <td>111.07054</td>\n",
       "      <td>0.08384</td>\n",
       "    </tr>\n",
       "    <tr>\n",
       "      <th>2020-05-01</th>\n",
       "      <td>17</td>\n",
       "      <td>156</td>\n",
       "      <td>134</td>\n",
       "      <td>1792</td>\n",
       "      <td>10.45055</td>\n",
       "      <td>120.04730</td>\n",
       "      <td>0.08705</td>\n",
       "    </tr>\n",
       "    <tr>\n",
       "      <th>2020-05-02</th>\n",
       "      <td>22</td>\n",
       "      <td>178</td>\n",
       "      <td>188</td>\n",
       "      <td>1980</td>\n",
       "      <td>11.92434</td>\n",
       "      <td>132.64154</td>\n",
       "      <td>0.08990</td>\n",
       "    </tr>\n",
       "    <tr>\n",
       "      <th>2020-05-03</th>\n",
       "      <td>2</td>\n",
       "      <td>180</td>\n",
       "      <td>42</td>\n",
       "      <td>2022</td>\n",
       "      <td>12.05832</td>\n",
       "      <td>135.45515</td>\n",
       "      <td>0.08902</td>\n",
       "    </tr>\n",
       "    <tr>\n",
       "      <th>2020-05-04</th>\n",
       "      <td>0</td>\n",
       "      <td>180</td>\n",
       "      <td>0</td>\n",
       "      <td>2022</td>\n",
       "      <td>12.05832</td>\n",
       "      <td>135.45515</td>\n",
       "      <td>0.08902</td>\n",
       "    </tr>\n",
       "    <tr>\n",
       "      <th>...</th>\n",
       "      <th>...</th>\n",
       "      <td>...</td>\n",
       "      <td>...</td>\n",
       "      <td>...</td>\n",
       "      <td>...</td>\n",
       "      <td>...</td>\n",
       "      <td>...</td>\n",
       "      <td>...</td>\n",
       "    </tr>\n",
       "    <tr>\n",
       "      <th rowspan=\"5\" valign=\"top\">São Paulo/SP</th>\n",
       "      <th>2020-04-30</th>\n",
       "      <td>83</td>\n",
       "      <td>1522</td>\n",
       "      <td>1511</td>\n",
       "      <td>18149</td>\n",
       "      <td>12.42244</td>\n",
       "      <td>148.13064</td>\n",
       "      <td>0.08386</td>\n",
       "    </tr>\n",
       "    <tr>\n",
       "      <th>2020-05-01</th>\n",
       "      <td>85</td>\n",
       "      <td>1607</td>\n",
       "      <td>938</td>\n",
       "      <td>19087</td>\n",
       "      <td>13.11620</td>\n",
       "      <td>155.78652</td>\n",
       "      <td>0.08419</td>\n",
       "    </tr>\n",
       "    <tr>\n",
       "      <th>2020-05-02</th>\n",
       "      <td>54</td>\n",
       "      <td>1661</td>\n",
       "      <td>407</td>\n",
       "      <td>19494</td>\n",
       "      <td>13.55694</td>\n",
       "      <td>159.10842</td>\n",
       "      <td>0.08521</td>\n",
       "    </tr>\n",
       "    <tr>\n",
       "      <th>2020-05-03</th>\n",
       "      <td>12</td>\n",
       "      <td>1673</td>\n",
       "      <td>328</td>\n",
       "      <td>19822</td>\n",
       "      <td>13.65489</td>\n",
       "      <td>161.78553</td>\n",
       "      <td>0.08440</td>\n",
       "    </tr>\n",
       "    <tr>\n",
       "      <th>2020-05-04</th>\n",
       "      <td>0</td>\n",
       "      <td>1673</td>\n",
       "      <td>0</td>\n",
       "      <td>19822</td>\n",
       "      <td>13.65489</td>\n",
       "      <td>161.78553</td>\n",
       "      <td>0.08440</td>\n",
       "    </tr>\n",
       "  </tbody>\n",
       "</table>\n",
       "<p>162 rows × 7 columns</p>\n",
       "</div>"
      ],
      "text/plain": [
       "                         deaths_new  deaths_total  confirmed_new  \\\n",
       "city         date                                                  \n",
       "Belém/PA     2020-04-30          50           139            171   \n",
       "             2020-05-01          17           156            134   \n",
       "             2020-05-02          22           178            188   \n",
       "             2020-05-03           2           180             42   \n",
       "             2020-05-04           0           180              0   \n",
       "...                             ...           ...            ...   \n",
       "São Paulo/SP 2020-04-30          83          1522           1511   \n",
       "             2020-05-01          85          1607            938   \n",
       "             2020-05-02          54          1661            407   \n",
       "             2020-05-03          12          1673            328   \n",
       "             2020-05-04           0          1673              0   \n",
       "\n",
       "                         confirmed_total  deaths_per_100k_inhabitants  \\\n",
       "city         date                                                       \n",
       "Belém/PA     2020-04-30             1658                      9.31170   \n",
       "             2020-05-01             1792                     10.45055   \n",
       "             2020-05-02             1980                     11.92434   \n",
       "             2020-05-03             2022                     12.05832   \n",
       "             2020-05-04             2022                     12.05832   \n",
       "...                                  ...                          ...   \n",
       "São Paulo/SP 2020-04-30            18149                     12.42244   \n",
       "             2020-05-01            19087                     13.11620   \n",
       "             2020-05-02            19494                     13.55694   \n",
       "             2020-05-03            19822                     13.65489   \n",
       "             2020-05-04            19822                     13.65489   \n",
       "\n",
       "                         totalCases_per_100k_inhabitants  deaths_by_totalCases  \n",
       "city         date                                                               \n",
       "Belém/PA     2020-04-30                        111.07054               0.08384  \n",
       "             2020-05-01                        120.04730               0.08705  \n",
       "             2020-05-02                        132.64154               0.08990  \n",
       "             2020-05-03                        135.45515               0.08902  \n",
       "             2020-05-04                        135.45515               0.08902  \n",
       "...                                                  ...                   ...  \n",
       "São Paulo/SP 2020-04-30                        148.13064               0.08386  \n",
       "             2020-05-01                        155.78652               0.08419  \n",
       "             2020-05-02                        159.10842               0.08521  \n",
       "             2020-05-03                        161.78553               0.08440  \n",
       "             2020-05-04                        161.78553               0.08440  \n",
       "\n",
       "[162 rows x 7 columns]"
      ]
     },
     "execution_count": 21,
     "metadata": {},
     "output_type": "execute_result"
    }
   ],
   "source": [
    "city_df[city_df['deaths_total'] > 100]"
   ]
  },
  {
   "cell_type": "code",
   "execution_count": 23,
   "metadata": {
    "hidden": true,
    "scrolled": true
   },
   "outputs": [],
   "source": [
    "s = (\n",
    "    city_df.reset_index()[['deaths_total', 'city']]\n",
    "    .query('city != \"Brazil\"').query('deaths_total > 0')\n",
    "    .groupby(['city']).max()\n",
    "    .sort_values(by='deaths_total', ascending=False)\n",
    "    .cumsum()\n",
    "    .reset_index(drop=True)\n",
    ")\n",
    "\n",
    "s = s.divide(s.max()) * 100\n",
    "# s.iplot(\n",
    "#           title='80% das mortes ocorreram em 79 municípios',\n",
    "#           xTitle='# de Municípios',\n",
    "#            yTitle='% das Mortes',\n",
    "#            theme='white',\n",
    "#            bins=100,\n",
    "#             width=5,\n",
    "#         dimensions=(500,500)\n",
    "#           )"
   ]
  },
  {
   "cell_type": "code",
   "execution_count": 24,
   "metadata": {
    "hidden": true,
    "scrolled": true
   },
   "outputs": [
    {
     "data": {
      "text/html": [
       "<div>\n",
       "<style scoped>\n",
       "    .dataframe tbody tr th:only-of-type {\n",
       "        vertical-align: middle;\n",
       "    }\n",
       "\n",
       "    .dataframe tbody tr th {\n",
       "        vertical-align: top;\n",
       "    }\n",
       "\n",
       "    .dataframe thead th {\n",
       "        text-align: right;\n",
       "    }\n",
       "</style>\n",
       "<table border=\"1\" class=\"dataframe\">\n",
       "  <thead>\n",
       "    <tr style=\"text-align: right;\">\n",
       "      <th></th>\n",
       "      <th>deaths_total</th>\n",
       "    </tr>\n",
       "  </thead>\n",
       "  <tbody>\n",
       "    <tr>\n",
       "      <th>0</th>\n",
       "      <td>22.886457</td>\n",
       "    </tr>\n",
       "    <tr>\n",
       "      <th>1</th>\n",
       "      <td>31.518468</td>\n",
       "    </tr>\n",
       "    <tr>\n",
       "      <th>2</th>\n",
       "      <td>38.741450</td>\n",
       "    </tr>\n",
       "    <tr>\n",
       "      <th>3</th>\n",
       "      <td>44.158687</td>\n",
       "    </tr>\n",
       "    <tr>\n",
       "      <th>4</th>\n",
       "      <td>47.811218</td>\n",
       "    </tr>\n",
       "    <tr>\n",
       "      <th>...</th>\n",
       "      <td>...</td>\n",
       "    </tr>\n",
       "    <tr>\n",
       "      <th>772</th>\n",
       "      <td>99.945280</td>\n",
       "    </tr>\n",
       "    <tr>\n",
       "      <th>773</th>\n",
       "      <td>99.958960</td>\n",
       "    </tr>\n",
       "    <tr>\n",
       "      <th>774</th>\n",
       "      <td>99.972640</td>\n",
       "    </tr>\n",
       "    <tr>\n",
       "      <th>775</th>\n",
       "      <td>99.986320</td>\n",
       "    </tr>\n",
       "    <tr>\n",
       "      <th>776</th>\n",
       "      <td>100.000000</td>\n",
       "    </tr>\n",
       "  </tbody>\n",
       "</table>\n",
       "<p>777 rows × 1 columns</p>\n",
       "</div>"
      ],
      "text/plain": [
       "     deaths_total\n",
       "0       22.886457\n",
       "1       31.518468\n",
       "2       38.741450\n",
       "3       44.158687\n",
       "4       47.811218\n",
       "..            ...\n",
       "772     99.945280\n",
       "773     99.958960\n",
       "774     99.972640\n",
       "775     99.986320\n",
       "776    100.000000\n",
       "\n",
       "[777 rows x 1 columns]"
      ]
     },
     "execution_count": 24,
     "metadata": {},
     "output_type": "execute_result"
    }
   ],
   "source": [
    "s"
   ]
  },
  {
   "cell_type": "code",
   "execution_count": 25,
   "metadata": {
    "hidden": true
   },
   "outputs": [],
   "source": [
    "s = (\n",
    "    city_df.reset_index()[['deaths_total', 'city']]\n",
    "    .query('city != \"Brazil\"').query('deaths_total > 0')\n",
    "    .groupby(['city']).max()\n",
    "    .sort_values(by='deaths_total')\n",
    "    .reset_index(drop=True)\n",
    ")\n",
    "deaths = s['deaths_total']\n",
    "s['cities'] = s.index #/ s.index.max() * 100\n",
    "s = s.sort_values(by='cities', ascending=False).drop('deaths_total', 1)\n",
    "s.index = deaths\n",
    "# s.iplot(\n",
    "#           title='$$\\\\text{Uma linda curva que segue } x^{-\\\\beta}$$',\n",
    "#           yTitle='# de Municípios com menos de X mortes',\n",
    "#            xTitle='# de Mortes',\n",
    "#            theme='white',\n",
    "#            bins=100,\n",
    "#         width=5,\n",
    "#         xaxis_type=\"log\", yaxis_type=\"log\",\n",
    "#         dimensions=(500,500)\n",
    "#           )"
   ]
  },
  {
   "cell_type": "code",
   "execution_count": 26,
   "metadata": {
    "hidden": true
   },
   "outputs": [],
   "source": [
    "sample = city_df.query('deaths_total > 20')['deaths_new']"
   ]
  },
  {
   "cell_type": "code",
   "execution_count": 27,
   "metadata": {
    "collapsed": true,
    "hidden": true
   },
   "outputs": [
    {
     "data": {
      "text/plain": [
       "city\n",
       "Belém/PA                            18\n",
       "Brasília/DF                         18\n",
       "Brazil                              44\n",
       "CASO SEM LOCALIZAÇÃO DEFINIDA/AM     1\n",
       "CASO SEM LOCALIZAÇÃO DEFINIDA/PE     2\n",
       "CASO SEM LOCALIZAÇÃO DEFINIDA/RJ     1\n",
       "CASO SEM LOCALIZAÇÃO DEFINIDA/SP     4\n",
       "Camaragibe/PE                        3\n",
       "Campinas/SP                          2\n",
       "Curitiba/PR                          4\n",
       "Diadema/SP                           4\n",
       "Duque de Caxias/RJ                  19\n",
       "Fortaleza/CE                        30\n",
       "Guarulhos/SP                        20\n",
       "Jaboatão dos Guararapes/PE          14\n",
       "João Pessoa/PB                      14\n",
       "Macapá/AP                            7\n",
       "Maceió/AL                            8\n",
       "Manacapuru/AM                        7\n",
       "Manaus/AM                           27\n",
       "Mauá/SP                              4\n",
       "Mogi das Cruzes/SP                   4\n",
       "Niterói/RJ                           5\n",
       "Nova Iguaçu/RJ                      11\n",
       "Olinda/PE                           14\n",
       "Osasco/SP                           17\n",
       "Paulista/PE                          8\n",
       "Praia Grande/SP                      7\n",
       "Recife/PE                           27\n",
       "Rio Branco/AC                        2\n",
       "Rio de Janeiro/RJ                   33\n",
       "Salvador/BA                         16\n",
       "Santo André/SP                       7\n",
       "Santos/SP                           10\n",
       "Serra/ES                             9\n",
       "Sorocaba/SP                          5\n",
       "São Bernardo do Campo/SP            12\n",
       "São Gonçalo/RJ                       8\n",
       "São Lourenço da Mata/PE             10\n",
       "São Luís/MA                         24\n",
       "São Paulo/SP                        41\n",
       "Name: deaths_new, dtype: int64"
      ]
     },
     "execution_count": 27,
     "metadata": {},
     "output_type": "execute_result"
    }
   ],
   "source": [
    "sample.groupby(level='city').count()"
   ]
  },
  {
   "cell_type": "code",
   "execution_count": 35,
   "metadata": {
    "collapsed": true,
    "hidden": true
   },
   "outputs": [
    {
     "ename": "IndexError",
     "evalue": "index 0 is out of bounds for axis 0 with size 0",
     "output_type": "error",
     "traceback": [
      "\u001b[0;31m---------------------------------------------------------------------------\u001b[0m",
      "\u001b[0;31mIndexError\u001b[0m                                Traceback (most recent call last)",
      "\u001b[0;32m<ipython-input-35-87d2dac1cbe4>\u001b[0m in \u001b[0;36m<module>\u001b[0;34m\u001b[0m\n\u001b[1;32m      1\u001b[0m \u001b[0;32mwith\u001b[0m \u001b[0mParallel\u001b[0m\u001b[0;34m(\u001b[0m\u001b[0mn_jobs\u001b[0m\u001b[0;34m=\u001b[0m\u001b[0;36m1\u001b[0m\u001b[0;34m)\u001b[0m \u001b[0;32mas\u001b[0m \u001b[0mparallel\u001b[0m\u001b[0;34m:\u001b[0m\u001b[0;34m\u001b[0m\u001b[0;34m\u001b[0m\u001b[0m\n\u001b[0;32m----> 2\u001b[0;31m     \u001b[0mresults\u001b[0m \u001b[0;34m=\u001b[0m \u001b[0mparallel\u001b[0m\u001b[0;34m(\u001b[0m\u001b[0mdelayed\u001b[0m\u001b[0;34m(\u001b[0m\u001b[0mrun_full_model\u001b[0m\u001b[0;34m)\u001b[0m\u001b[0;34m(\u001b[0m\u001b[0mgrp\u001b[0m\u001b[0;34m[\u001b[0m\u001b[0;36m1\u001b[0m\u001b[0;34m]\u001b[0m\u001b[0;34m,\u001b[0m \u001b[0msigma\u001b[0m\u001b[0;34m=\u001b[0m\u001b[0;36m0.01\u001b[0m\u001b[0;34m)\u001b[0m \u001b[0;32mfor\u001b[0m \u001b[0mgrp\u001b[0m \u001b[0;32min\u001b[0m \u001b[0msample\u001b[0m\u001b[0;34m.\u001b[0m\u001b[0mgroupby\u001b[0m\u001b[0;34m(\u001b[0m\u001b[0mlevel\u001b[0m\u001b[0;34m=\u001b[0m\u001b[0;34m'city'\u001b[0m\u001b[0;34m)\u001b[0m\u001b[0;34m)\u001b[0m\u001b[0;34m\u001b[0m\u001b[0;34m\u001b[0m\u001b[0m\n\u001b[0m\u001b[1;32m      3\u001b[0m \u001b[0;34m\u001b[0m\u001b[0m\n\u001b[1;32m      4\u001b[0m \u001b[0mfinal_results\u001b[0m \u001b[0;34m=\u001b[0m \u001b[0mpd\u001b[0m\u001b[0;34m.\u001b[0m\u001b[0mconcat\u001b[0m\u001b[0;34m(\u001b[0m\u001b[0mresults\u001b[0m\u001b[0;34m)\u001b[0m\u001b[0;34m\u001b[0m\u001b[0;34m\u001b[0m\u001b[0m\n",
      "\u001b[0;32m~/Projects/simulacovid-datasource/.loader-anaylsis/lib/python3.7/site-packages/joblib/parallel.py\u001b[0m in \u001b[0;36m__call__\u001b[0;34m(self, iterable)\u001b[0m\n\u001b[1;32m   1005\u001b[0m                 \u001b[0mself\u001b[0m\u001b[0;34m.\u001b[0m\u001b[0m_iterating\u001b[0m \u001b[0;34m=\u001b[0m \u001b[0mself\u001b[0m\u001b[0;34m.\u001b[0m\u001b[0m_original_iterator\u001b[0m \u001b[0;32mis\u001b[0m \u001b[0;32mnot\u001b[0m \u001b[0;32mNone\u001b[0m\u001b[0;34m\u001b[0m\u001b[0;34m\u001b[0m\u001b[0m\n\u001b[1;32m   1006\u001b[0m \u001b[0;34m\u001b[0m\u001b[0m\n\u001b[0;32m-> 1007\u001b[0;31m             \u001b[0;32mwhile\u001b[0m \u001b[0mself\u001b[0m\u001b[0;34m.\u001b[0m\u001b[0mdispatch_one_batch\u001b[0m\u001b[0;34m(\u001b[0m\u001b[0miterator\u001b[0m\u001b[0;34m)\u001b[0m\u001b[0;34m:\u001b[0m\u001b[0;34m\u001b[0m\u001b[0;34m\u001b[0m\u001b[0m\n\u001b[0m\u001b[1;32m   1008\u001b[0m                 \u001b[0;32mpass\u001b[0m\u001b[0;34m\u001b[0m\u001b[0;34m\u001b[0m\u001b[0m\n\u001b[1;32m   1009\u001b[0m \u001b[0;34m\u001b[0m\u001b[0m\n",
      "\u001b[0;32m~/Projects/simulacovid-datasource/.loader-anaylsis/lib/python3.7/site-packages/joblib/parallel.py\u001b[0m in \u001b[0;36mdispatch_one_batch\u001b[0;34m(self, iterator)\u001b[0m\n\u001b[1;32m    833\u001b[0m                 \u001b[0;32mreturn\u001b[0m \u001b[0;32mFalse\u001b[0m\u001b[0;34m\u001b[0m\u001b[0;34m\u001b[0m\u001b[0m\n\u001b[1;32m    834\u001b[0m             \u001b[0;32melse\u001b[0m\u001b[0;34m:\u001b[0m\u001b[0;34m\u001b[0m\u001b[0;34m\u001b[0m\u001b[0m\n\u001b[0;32m--> 835\u001b[0;31m                 \u001b[0mself\u001b[0m\u001b[0;34m.\u001b[0m\u001b[0m_dispatch\u001b[0m\u001b[0;34m(\u001b[0m\u001b[0mtasks\u001b[0m\u001b[0;34m)\u001b[0m\u001b[0;34m\u001b[0m\u001b[0;34m\u001b[0m\u001b[0m\n\u001b[0m\u001b[1;32m    836\u001b[0m                 \u001b[0;32mreturn\u001b[0m \u001b[0;32mTrue\u001b[0m\u001b[0;34m\u001b[0m\u001b[0;34m\u001b[0m\u001b[0m\n\u001b[1;32m    837\u001b[0m \u001b[0;34m\u001b[0m\u001b[0m\n",
      "\u001b[0;32m~/Projects/simulacovid-datasource/.loader-anaylsis/lib/python3.7/site-packages/joblib/parallel.py\u001b[0m in \u001b[0;36m_dispatch\u001b[0;34m(self, batch)\u001b[0m\n\u001b[1;32m    752\u001b[0m         \u001b[0;32mwith\u001b[0m \u001b[0mself\u001b[0m\u001b[0;34m.\u001b[0m\u001b[0m_lock\u001b[0m\u001b[0;34m:\u001b[0m\u001b[0;34m\u001b[0m\u001b[0;34m\u001b[0m\u001b[0m\n\u001b[1;32m    753\u001b[0m             \u001b[0mjob_idx\u001b[0m \u001b[0;34m=\u001b[0m \u001b[0mlen\u001b[0m\u001b[0;34m(\u001b[0m\u001b[0mself\u001b[0m\u001b[0;34m.\u001b[0m\u001b[0m_jobs\u001b[0m\u001b[0;34m)\u001b[0m\u001b[0;34m\u001b[0m\u001b[0;34m\u001b[0m\u001b[0m\n\u001b[0;32m--> 754\u001b[0;31m             \u001b[0mjob\u001b[0m \u001b[0;34m=\u001b[0m \u001b[0mself\u001b[0m\u001b[0;34m.\u001b[0m\u001b[0m_backend\u001b[0m\u001b[0;34m.\u001b[0m\u001b[0mapply_async\u001b[0m\u001b[0;34m(\u001b[0m\u001b[0mbatch\u001b[0m\u001b[0;34m,\u001b[0m \u001b[0mcallback\u001b[0m\u001b[0;34m=\u001b[0m\u001b[0mcb\u001b[0m\u001b[0;34m)\u001b[0m\u001b[0;34m\u001b[0m\u001b[0;34m\u001b[0m\u001b[0m\n\u001b[0m\u001b[1;32m    755\u001b[0m             \u001b[0;31m# A job can complete so quickly than its callback is\u001b[0m\u001b[0;34m\u001b[0m\u001b[0;34m\u001b[0m\u001b[0;34m\u001b[0m\u001b[0m\n\u001b[1;32m    756\u001b[0m             \u001b[0;31m# called before we get here, causing self._jobs to\u001b[0m\u001b[0;34m\u001b[0m\u001b[0;34m\u001b[0m\u001b[0;34m\u001b[0m\u001b[0m\n",
      "\u001b[0;32m~/Projects/simulacovid-datasource/.loader-anaylsis/lib/python3.7/site-packages/joblib/_parallel_backends.py\u001b[0m in \u001b[0;36mapply_async\u001b[0;34m(self, func, callback)\u001b[0m\n\u001b[1;32m    207\u001b[0m     \u001b[0;32mdef\u001b[0m \u001b[0mapply_async\u001b[0m\u001b[0;34m(\u001b[0m\u001b[0mself\u001b[0m\u001b[0;34m,\u001b[0m \u001b[0mfunc\u001b[0m\u001b[0;34m,\u001b[0m \u001b[0mcallback\u001b[0m\u001b[0;34m=\u001b[0m\u001b[0;32mNone\u001b[0m\u001b[0;34m)\u001b[0m\u001b[0;34m:\u001b[0m\u001b[0;34m\u001b[0m\u001b[0;34m\u001b[0m\u001b[0m\n\u001b[1;32m    208\u001b[0m         \u001b[0;34m\"\"\"Schedule a func to be run\"\"\"\u001b[0m\u001b[0;34m\u001b[0m\u001b[0;34m\u001b[0m\u001b[0m\n\u001b[0;32m--> 209\u001b[0;31m         \u001b[0mresult\u001b[0m \u001b[0;34m=\u001b[0m \u001b[0mImmediateResult\u001b[0m\u001b[0;34m(\u001b[0m\u001b[0mfunc\u001b[0m\u001b[0;34m)\u001b[0m\u001b[0;34m\u001b[0m\u001b[0;34m\u001b[0m\u001b[0m\n\u001b[0m\u001b[1;32m    210\u001b[0m         \u001b[0;32mif\u001b[0m \u001b[0mcallback\u001b[0m\u001b[0;34m:\u001b[0m\u001b[0;34m\u001b[0m\u001b[0;34m\u001b[0m\u001b[0m\n\u001b[1;32m    211\u001b[0m             \u001b[0mcallback\u001b[0m\u001b[0;34m(\u001b[0m\u001b[0mresult\u001b[0m\u001b[0;34m)\u001b[0m\u001b[0;34m\u001b[0m\u001b[0;34m\u001b[0m\u001b[0m\n",
      "\u001b[0;32m~/Projects/simulacovid-datasource/.loader-anaylsis/lib/python3.7/site-packages/joblib/_parallel_backends.py\u001b[0m in \u001b[0;36m__init__\u001b[0;34m(self, batch)\u001b[0m\n\u001b[1;32m    588\u001b[0m         \u001b[0;31m# Don't delay the application, to avoid keeping the input\u001b[0m\u001b[0;34m\u001b[0m\u001b[0;34m\u001b[0m\u001b[0;34m\u001b[0m\u001b[0m\n\u001b[1;32m    589\u001b[0m         \u001b[0;31m# arguments in memory\u001b[0m\u001b[0;34m\u001b[0m\u001b[0;34m\u001b[0m\u001b[0;34m\u001b[0m\u001b[0m\n\u001b[0;32m--> 590\u001b[0;31m         \u001b[0mself\u001b[0m\u001b[0;34m.\u001b[0m\u001b[0mresults\u001b[0m \u001b[0;34m=\u001b[0m \u001b[0mbatch\u001b[0m\u001b[0;34m(\u001b[0m\u001b[0;34m)\u001b[0m\u001b[0;34m\u001b[0m\u001b[0;34m\u001b[0m\u001b[0m\n\u001b[0m\u001b[1;32m    591\u001b[0m \u001b[0;34m\u001b[0m\u001b[0m\n\u001b[1;32m    592\u001b[0m     \u001b[0;32mdef\u001b[0m \u001b[0mget\u001b[0m\u001b[0;34m(\u001b[0m\u001b[0mself\u001b[0m\u001b[0;34m)\u001b[0m\u001b[0;34m:\u001b[0m\u001b[0;34m\u001b[0m\u001b[0;34m\u001b[0m\u001b[0m\n",
      "\u001b[0;32m~/Projects/simulacovid-datasource/.loader-anaylsis/lib/python3.7/site-packages/joblib/parallel.py\u001b[0m in \u001b[0;36m__call__\u001b[0;34m(self)\u001b[0m\n\u001b[1;32m    254\u001b[0m         \u001b[0;32mwith\u001b[0m \u001b[0mparallel_backend\u001b[0m\u001b[0;34m(\u001b[0m\u001b[0mself\u001b[0m\u001b[0;34m.\u001b[0m\u001b[0m_backend\u001b[0m\u001b[0;34m,\u001b[0m \u001b[0mn_jobs\u001b[0m\u001b[0;34m=\u001b[0m\u001b[0mself\u001b[0m\u001b[0;34m.\u001b[0m\u001b[0m_n_jobs\u001b[0m\u001b[0;34m)\u001b[0m\u001b[0;34m:\u001b[0m\u001b[0;34m\u001b[0m\u001b[0;34m\u001b[0m\u001b[0m\n\u001b[1;32m    255\u001b[0m             return [func(*args, **kwargs)\n\u001b[0;32m--> 256\u001b[0;31m                     for func, args, kwargs in self.items]\n\u001b[0m\u001b[1;32m    257\u001b[0m \u001b[0;34m\u001b[0m\u001b[0m\n\u001b[1;32m    258\u001b[0m     \u001b[0;32mdef\u001b[0m \u001b[0m__len__\u001b[0m\u001b[0;34m(\u001b[0m\u001b[0mself\u001b[0m\u001b[0;34m)\u001b[0m\u001b[0;34m:\u001b[0m\u001b[0;34m\u001b[0m\u001b[0;34m\u001b[0m\u001b[0m\n",
      "\u001b[0;32m~/Projects/simulacovid-datasource/.loader-anaylsis/lib/python3.7/site-packages/joblib/parallel.py\u001b[0m in \u001b[0;36m<listcomp>\u001b[0;34m(.0)\u001b[0m\n\u001b[1;32m    254\u001b[0m         \u001b[0;32mwith\u001b[0m \u001b[0mparallel_backend\u001b[0m\u001b[0;34m(\u001b[0m\u001b[0mself\u001b[0m\u001b[0;34m.\u001b[0m\u001b[0m_backend\u001b[0m\u001b[0;34m,\u001b[0m \u001b[0mn_jobs\u001b[0m\u001b[0;34m=\u001b[0m\u001b[0mself\u001b[0m\u001b[0;34m.\u001b[0m\u001b[0m_n_jobs\u001b[0m\u001b[0;34m)\u001b[0m\u001b[0;34m:\u001b[0m\u001b[0;34m\u001b[0m\u001b[0;34m\u001b[0m\u001b[0m\n\u001b[1;32m    255\u001b[0m             return [func(*args, **kwargs)\n\u001b[0;32m--> 256\u001b[0;31m                     for func, args, kwargs in self.items]\n\u001b[0m\u001b[1;32m    257\u001b[0m \u001b[0;34m\u001b[0m\u001b[0m\n\u001b[1;32m    258\u001b[0m     \u001b[0;32mdef\u001b[0m \u001b[0m__len__\u001b[0m\u001b[0;34m(\u001b[0m\u001b[0mself\u001b[0m\u001b[0;34m)\u001b[0m\u001b[0;34m:\u001b[0m\u001b[0;34m\u001b[0m\u001b[0;34m\u001b[0m\u001b[0m\n",
      "\u001b[0;32m~/Projects/simulacovid-datasource/notebooks/model.py\u001b[0m in \u001b[0;36mrun_full_model\u001b[0;34m(cases, sigma)\u001b[0m\n\u001b[1;32m    464\u001b[0m \u001b[0;34m\u001b[0m\u001b[0m\n\u001b[1;32m    465\u001b[0m     \u001b[0;31m# calculating posteriors\u001b[0m\u001b[0;34m\u001b[0m\u001b[0;34m\u001b[0m\u001b[0;34m\u001b[0m\u001b[0m\n\u001b[0;32m--> 466\u001b[0;31m     \u001b[0mposteriors\u001b[0m\u001b[0;34m,\u001b[0m \u001b[0mlog_likelihood\u001b[0m \u001b[0;34m=\u001b[0m \u001b[0mcalculate_posteriors\u001b[0m\u001b[0;34m(\u001b[0m\u001b[0msmoothed\u001b[0m\u001b[0;34m,\u001b[0m \u001b[0msigma\u001b[0m\u001b[0;34m=\u001b[0m\u001b[0msigma\u001b[0m\u001b[0;34m)\u001b[0m\u001b[0;34m\u001b[0m\u001b[0;34m\u001b[0m\u001b[0m\n\u001b[0m\u001b[1;32m    467\u001b[0m \u001b[0;34m\u001b[0m\u001b[0m\n\u001b[1;32m    468\u001b[0m     \u001b[0;31m# calculating HDI\u001b[0m\u001b[0;34m\u001b[0m\u001b[0;34m\u001b[0m\u001b[0;34m\u001b[0m\u001b[0m\n",
      "\u001b[0;32m~/Projects/simulacovid-datasource/notebooks/model.py\u001b[0m in \u001b[0;36mcalculate_posteriors\u001b[0;34m(sr, sigma)\u001b[0m\n\u001b[1;32m    232\u001b[0m         \u001b[0mindex\u001b[0m\u001b[0;34m=\u001b[0m\u001b[0mr_t_range\u001b[0m\u001b[0;34m,\u001b[0m\u001b[0;34m\u001b[0m\u001b[0;34m\u001b[0m\u001b[0m\n\u001b[1;32m    233\u001b[0m         \u001b[0mcolumns\u001b[0m\u001b[0;34m=\u001b[0m\u001b[0msr\u001b[0m\u001b[0;34m.\u001b[0m\u001b[0mindex\u001b[0m\u001b[0;34m,\u001b[0m\u001b[0;34m\u001b[0m\u001b[0;34m\u001b[0m\u001b[0m\n\u001b[0;32m--> 234\u001b[0;31m         \u001b[0mdata\u001b[0m\u001b[0;34m=\u001b[0m\u001b[0;34m{\u001b[0m\u001b[0msr\u001b[0m\u001b[0;34m.\u001b[0m\u001b[0mindex\u001b[0m\u001b[0;34m[\u001b[0m\u001b[0;36m0\u001b[0m\u001b[0;34m]\u001b[0m\u001b[0;34m:\u001b[0m \u001b[0mprior0\u001b[0m\u001b[0;34m}\u001b[0m\u001b[0;34m\u001b[0m\u001b[0;34m\u001b[0m\u001b[0m\n\u001b[0m\u001b[1;32m    235\u001b[0m     )\n\u001b[1;32m    236\u001b[0m \u001b[0;34m\u001b[0m\u001b[0m\n",
      "\u001b[0;32m~/Projects/simulacovid-datasource/.loader-anaylsis/lib/python3.7/site-packages/pandas/core/indexes/multi.py\u001b[0m in \u001b[0;36m__getitem__\u001b[0;34m(self, key)\u001b[0m\n\u001b[1;32m   1931\u001b[0m             \u001b[0mretval\u001b[0m \u001b[0;34m=\u001b[0m \u001b[0;34m[\u001b[0m\u001b[0;34m]\u001b[0m\u001b[0;34m\u001b[0m\u001b[0;34m\u001b[0m\u001b[0m\n\u001b[1;32m   1932\u001b[0m             \u001b[0;32mfor\u001b[0m \u001b[0mlev\u001b[0m\u001b[0;34m,\u001b[0m \u001b[0mlevel_codes\u001b[0m \u001b[0;32min\u001b[0m \u001b[0mzip\u001b[0m\u001b[0;34m(\u001b[0m\u001b[0mself\u001b[0m\u001b[0;34m.\u001b[0m\u001b[0mlevels\u001b[0m\u001b[0;34m,\u001b[0m \u001b[0mself\u001b[0m\u001b[0;34m.\u001b[0m\u001b[0mcodes\u001b[0m\u001b[0;34m)\u001b[0m\u001b[0;34m:\u001b[0m\u001b[0;34m\u001b[0m\u001b[0;34m\u001b[0m\u001b[0m\n\u001b[0;32m-> 1933\u001b[0;31m                 \u001b[0;32mif\u001b[0m \u001b[0mlevel_codes\u001b[0m\u001b[0;34m[\u001b[0m\u001b[0mkey\u001b[0m\u001b[0;34m]\u001b[0m \u001b[0;34m==\u001b[0m \u001b[0;34m-\u001b[0m\u001b[0;36m1\u001b[0m\u001b[0;34m:\u001b[0m\u001b[0;34m\u001b[0m\u001b[0;34m\u001b[0m\u001b[0m\n\u001b[0m\u001b[1;32m   1934\u001b[0m                     \u001b[0mretval\u001b[0m\u001b[0;34m.\u001b[0m\u001b[0mappend\u001b[0m\u001b[0;34m(\u001b[0m\u001b[0mnp\u001b[0m\u001b[0;34m.\u001b[0m\u001b[0mnan\u001b[0m\u001b[0;34m)\u001b[0m\u001b[0;34m\u001b[0m\u001b[0;34m\u001b[0m\u001b[0m\n\u001b[1;32m   1935\u001b[0m                 \u001b[0;32melse\u001b[0m\u001b[0;34m:\u001b[0m\u001b[0;34m\u001b[0m\u001b[0;34m\u001b[0m\u001b[0m\n",
      "\u001b[0;31mIndexError\u001b[0m: index 0 is out of bounds for axis 0 with size 0"
     ]
    }
   ],
   "source": [
    "with Parallel(n_jobs=1) as parallel:\n",
    "    results = parallel(delayed(run_full_model)(grp[1], sigma=0.01) for grp in sample.groupby(level='city'))\n",
    "\n",
    "final_results = pd.concat(results)"
   ]
  },
  {
   "cell_type": "code",
   "execution_count": 65,
   "metadata": {
    "hidden": true
   },
   "outputs": [
    {
     "data": {
      "image/png": "[encoded data removed]",
      "text/plain": [
       "<Figure size 1350x270 with 4 Axes>"
      ]
     },
     "metadata": {},
     "output_type": "display_data"
    }
   ],
   "source": [
    "def plot_rt_states():\n",
    "\n",
    "    # number of columns and rows for plotting\n",
    "    N_COLS = 4\n",
    "    N_ROWS = int(np.ceil(len(results) / N_COLS))\n",
    "\n",
    "    # opening figura\n",
    "    fig, axes = plt.subplots(nrows=N_ROWS, ncols=N_COLS, figsize=(15, N_ROWS*3), dpi=90)\n",
    "\n",
    "    # loop for several states\n",
    "    for i, (state_name, result) in enumerate(final_results.groupby('city')):\n",
    "        plot_rt(result, axes.flat[i], state_name)\n",
    "\n",
    "    # saving figure\n",
    "    fig.tight_layout()\n",
    "    fig.set_facecolor('w')\n",
    "\n",
    "plot_rt_states()"
   ]
  }
 ],
 "metadata": {
  "kernelspec": {
   "display_name": "loader-anaylsis",
   "language": "python",
   "name": "loader-anaylsis"
  },
  "language_info": {
   "codemirror_mode": {
    "name": "ipython",
    "version": 3
   },
   "file_extension": ".py",
   "mimetype": "text/x-python",
   "name": "python",
   "nbconvert_exporter": "python",
   "pygments_lexer": "ipython3",
   "version": "3.7.4"
  },
  "toc": {
   "base_numbering": 1,
   "nav_menu": {},
   "number_sections": true,
   "sideBar": true,
   "skip_h1_title": true,
   "title_cell": "Table of Contents",
   "title_sidebar": "Contents",
   "toc_cell": true,
   "toc_position": {},
   "toc_section_display": true,
   "toc_window_display": false
  }
 },
 "nbformat": 4,
 "nbformat_minor": 4
}
